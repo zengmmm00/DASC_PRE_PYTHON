{
  "cells": [
    {
      "cell_type": "markdown",
      "metadata": {
        "id": "view-in-github",
        "colab_type": "text"
      },
      "source": [
        "<a href=\"https://colab.research.google.com/github/zengmmm00/DASC_PRE_PYTHON/blob/main/03b_Classes.ipynb\" target=\"_parent\"><img src=\"https://colab.research.google.com/assets/colab-badge.svg\" alt=\"Open In Colab\"/></a>"
      ]
    },
    {
      "cell_type": "markdown",
      "id": "8072b808-1b14-49c3-900b-7ee6bac84848",
      "metadata": {
        "id": "8072b808-1b14-49c3-900b-7ee6bac84848"
      },
      "source": [
        "> _Self-learning material_  \n",
        "> **Python workshop - 3b. Classes**"
      ]
    },
    {
      "cell_type": "markdown",
      "id": "3d50e372-e340-4d4c-b96b-c90f44d62212",
      "metadata": {
        "id": "3d50e372-e340-4d4c-b96b-c90f44d62212"
      },
      "source": [
        "# Class members"
      ]
    },
    {
      "cell_type": "markdown",
      "id": "a3d07825-bc5a-46f0-a1c2-704319486502",
      "metadata": {
        "id": "a3d07825-bc5a-46f0-a1c2-704319486502"
      },
      "source": [
        "## Attributes / properties\n",
        "\n",
        "**Attributes**, or **properties** are variables kept in an object. It represents the state of an object. For example, we can define a box with 3 dimensions:\n",
        "\n",
        "```python\n",
        "class Box:\n",
        "    width = 10\n",
        "    height = 20\n",
        "    depth = 5\n",
        "```    "
      ]
    },
    {
      "cell_type": "markdown",
      "id": "33912b7a-d2ec-4621-9914-ccff1fad1688",
      "metadata": {
        "id": "33912b7a-d2ec-4621-9914-ccff1fad1688"
      },
      "source": [
        "## Object instantiation\n",
        "\n",
        "When we create an object from a class, the object will owns a new copy of the attributes. So if we create two objects:\n",
        "\n",
        "```python\n",
        "b1 = Box()\n",
        "b2 = Box()\n",
        "```\n",
        "\n",
        "`b1` and `b2` will then owns a different sets of attributes `width`, `height` and `depth`."
      ]
    },
    {
      "cell_type": "markdown",
      "id": "fadd891f-2a5c-447c-80ea-91dbe33cd9b8",
      "metadata": {
        "id": "fadd891f-2a5c-447c-80ea-91dbe33cd9b8"
      },
      "source": [
        "## Accessing attributes\n",
        "\n",
        "Once defined, we can access attribute value using the access operator `.`."
      ]
    },
    {
      "cell_type": "code",
      "execution_count": null,
      "id": "1b146388-caf9-49fd-be1b-f7cccd283a95",
      "metadata": {
        "id": "1b146388-caf9-49fd-be1b-f7cccd283a95",
        "outputId": "422e49f5-c8d6-4ad3-fbe3-ddad38d491f0"
      },
      "outputs": [
        {
          "name": "stdout",
          "output_type": "stream",
          "text": [
            "10 20 5\n"
          ]
        }
      ],
      "source": [
        "class Box:\n",
        "    width = 10\n",
        "    height = 20\n",
        "    depth = 5\n",
        "\n",
        "b1 = Box()\n",
        "print(b1.width, b1.height, b1.depth)"
      ]
    },
    {
      "cell_type": "markdown",
      "id": "6d73eb29-8b2c-4dbd-94bc-c83010170b22",
      "metadata": {
        "id": "6d73eb29-8b2c-4dbd-94bc-c83010170b22"
      },
      "source": [
        "We can modify values of an attributes also."
      ]
    },
    {
      "cell_type": "code",
      "execution_count": null,
      "id": "ad22f277-8e23-45aa-aaf1-d18c7c7fde0d",
      "metadata": {
        "id": "ad22f277-8e23-45aa-aaf1-d18c7c7fde0d",
        "outputId": "4304babd-f1fc-4e31-dc25-83ccfc940888"
      },
      "outputs": [
        {
          "name": "stdout",
          "output_type": "stream",
          "text": [
            "10 20 50\n"
          ]
        }
      ],
      "source": [
        "class Box:\n",
        "    width = 10\n",
        "    height = 20\n",
        "    depth = 5\n",
        "\n",
        "b1 = Box()\n",
        "b1.depth = 50\n",
        "print(b1.width, b1.height, b1.depth)"
      ]
    },
    {
      "cell_type": "markdown",
      "id": "4acd1b87-1d94-4081-b767-c605fedf1f96",
      "metadata": {
        "id": "4acd1b87-1d94-4081-b767-c605fedf1f96"
      },
      "source": [
        "## Methods\n",
        "\n",
        "**Methods**, or **member functions** define behaviours of an object. Results may be affected by the attributes of the object. For example:\n",
        "\n",
        "```python \n",
        "class Box:\n",
        "    width = 10\n",
        "    height = 20\n",
        "    depth = 5\n",
        "    def getVolume(self):\n",
        "        return self.width * self.height * self.depth\n",
        "```\n",
        "\n",
        "The first parameter of a method must be `self`, which represents the object used to call the function.\n",
        "With `self`, the method can return results base on the values in the object."
      ]
    },
    {
      "cell_type": "code",
      "execution_count": null,
      "id": "a17eee0c-c4b9-4ad9-b014-9e281ffb480b",
      "metadata": {
        "id": "a17eee0c-c4b9-4ad9-b014-9e281ffb480b",
        "outputId": "5b135ade-49e3-4859-ab28-29c4868f6dce"
      },
      "outputs": [
        {
          "name": "stdout",
          "output_type": "stream",
          "text": [
            "1000\n",
            "10000\n"
          ]
        }
      ],
      "source": [
        "class Box:\n",
        "    width = 10\n",
        "    height = 20\n",
        "    depth = 5\n",
        "    def getVolume(self):\n",
        "        return self.width * self.height * self.depth\n",
        "        \n",
        "b1 = Box()\n",
        "b2 = Box()\n",
        "b2.depth = 50\n",
        "print(b1.getVolume())\n",
        "print(b2.getVolume())"
      ]
    },
    {
      "cell_type": "markdown",
      "id": "6e8d8b07-dd09-4f5a-b905-d6f339f00fc3",
      "metadata": {
        "id": "6e8d8b07-dd09-4f5a-b905-d6f339f00fc3"
      },
      "source": [
        "In the example above, when `b1.getVolume()` is called, the `self` variable in `getVolume()` refers to `b1`. Thus `getVolume()` can return the volume according to the attribute values in `b1` and `b2` accordingly. "
      ]
    },
    {
      "cell_type": "markdown",
      "id": "1ae441f2-b917-4e8b-8221-10c915431016",
      "metadata": {
        "id": "1ae441f2-b917-4e8b-8221-10c915431016"
      },
      "source": [
        "# Constructor"
      ]
    },
    {
      "cell_type": "markdown",
      "id": "63c67dfe-29b1-4066-b01e-4857b98e8057",
      "metadata": {
        "id": "63c67dfe-29b1-4066-b01e-4857b98e8057"
      },
      "source": [
        "## Attribute creation in method\n",
        "\n",
        "Instead of defining attributes in a class, we can also create new attributes in a method by simple **assignment**:"
      ]
    },
    {
      "cell_type": "code",
      "execution_count": null,
      "id": "8756a9da-81a4-445f-912c-cda9c402fd33",
      "metadata": {
        "id": "8756a9da-81a4-445f-912c-cda9c402fd33",
        "outputId": "aeaacfbb-92bf-4c2c-d7c9-e637ec5991cb"
      },
      "outputs": [
        {
          "name": "stdout",
          "output_type": "stream",
          "text": [
            "6000\n"
          ]
        }
      ],
      "source": [
        "class Box:\n",
        "    def setDimension(self, width, height, depth):\n",
        "      self.width = width\n",
        "      self.height = height\n",
        "      self.depth = depth\n",
        "      \n",
        "    def getVolume(self):\n",
        "        return self.width * self.height * self.depth\n",
        "        \n",
        "b = Box()\n",
        "b.setDimension(10, 20, 30)\n",
        "print(b.getVolume())"
      ]
    },
    {
      "cell_type": "markdown",
      "id": "15a9b6b2-9db6-4426-bbba-2bea3845a0f9",
      "metadata": {
        "id": "15a9b6b2-9db6-4426-bbba-2bea3845a0f9"
      },
      "source": [
        "## Customizing constructor (`__init__()`)\n",
        "\n",
        "In the previous example, we defined a method `getDimensions()` to initialize attributes of the object. In fact, it will be much better if we can initialize the attributes when we create an object, like this:\n",
        "\n",
        "```python\n",
        "b = Box(10, 20, 30)\n",
        "print(b.getVolume())\n",
        "```\n",
        "\n",
        "- This could be done by defining a special method `__init__()` in the class.\n",
        "- This method is called the constructor.\n",
        "\n",
        "The previous example can then be modified to:"
      ]
    },
    {
      "cell_type": "code",
      "execution_count": null,
      "id": "3f7447d3-b426-461d-8b27-553b9b69d9d3",
      "metadata": {
        "id": "3f7447d3-b426-461d-8b27-553b9b69d9d3",
        "outputId": "c2ce422e-ef22-4434-e68f-605129017ae2"
      },
      "outputs": [
        {
          "name": "stdout",
          "output_type": "stream",
          "text": [
            "6000\n"
          ]
        }
      ],
      "source": [
        "class Box:\n",
        "    def __init__(self, width, height, depth):\n",
        "      self.width = width\n",
        "      self.height = height\n",
        "      self.depth = depth\n",
        "      \n",
        "    def getVolume(self):\n",
        "        return self.width * self.height * self.depth\n",
        "        \n",
        "b = Box(10, 20, 30)\n",
        "print(b.getVolume())"
      ]
    },
    {
      "cell_type": "markdown",
      "id": "8d4f2b82-d5aa-42b6-b2ea-d0c96faa6224",
      "metadata": {
        "id": "8d4f2b82-d5aa-42b6-b2ea-d0c96faa6224"
      },
      "source": [
        "## More about constructor\n",
        "\n",
        "The **constructor** is simply a function definition, so we can define parameter lists in the same way as any other functions. For example, we can make use of default values:"
      ]
    },
    {
      "cell_type": "code",
      "execution_count": null,
      "id": "986f97ce-7eaa-4112-a3ac-c3848760c765",
      "metadata": {
        "id": "986f97ce-7eaa-4112-a3ac-c3848760c765",
        "outputId": "396b83dd-40b9-4fe8-eadd-fd6c0573b2cf"
      },
      "outputs": [
        {
          "name": "stdout",
          "output_type": "stream",
          "text": [
            "1 6000\n"
          ]
        }
      ],
      "source": [
        "class Box:\n",
        "    def __init__(self, width = 1, height = 1, depth = 1):\n",
        "      self.width = width\n",
        "      self.height = height\n",
        "      self.depth = depth\n",
        "      \n",
        "    def getVolume(self):\n",
        "        return self.width * self.height * self.depth\n",
        "        \n",
        "b1 = Box()\n",
        "b2 = Box(10, 20, 30)\n",
        "print(b1.getVolume(), b2.getVolume())"
      ]
    },
    {
      "cell_type": "markdown",
      "id": "b2829d28-bf40-4b5d-a16f-4e862c9353f6",
      "metadata": {
        "id": "b2829d28-bf40-4b5d-a16f-4e862c9353f6"
      },
      "source": [
        "# Naming convention"
      ]
    },
    {
      "cell_type": "markdown",
      "id": "e6b0e010-f68c-4b27-8250-04e8c27cc8b3",
      "metadata": {
        "id": "e6b0e010-f68c-4b27-8250-04e8c27cc8b3"
      },
      "source": [
        "## The underscore\n",
        "\n",
        "In Python, underscore `_` is used in a number of places for special purposes. For example, any function starting with `_` is considered **hidden** or **private**.\n",
        "\n",
        "In many cases, this is used to show the intention of the program design. There are also some implication when the entities are imported to other programs, which is discussed in an optional topic below."
      ]
    },
    {
      "cell_type": "markdown",
      "id": "4b368322-896d-4267-958c-77c6646a8096",
      "metadata": {
        "id": "4b368322-896d-4267-958c-77c6646a8096"
      },
      "source": [
        "## Underscore in a class\n",
        "\n",
        "Attributes and methods starting with `_` has a meaning that they are private. They are not supposed to be used outside the class.\n",
        "\n",
        "In the following example, `_w`, `_h`, and `_d` are considered private attributes of the class, we should not access them directly **outside** of the class.\n",
        "\n",
        "```python\n",
        "class Box:\n",
        "    def __init__(self, w, h, d):\n",
        "        self._w, self._h, self._d = w, h, d\n",
        "        \n",
        "    def getVolume(self):\n",
        "        return self._w * self._h * self._d\n",
        "```\n",
        "\n",
        "However, note that the private attribute names are just a convention that shows the intention of the program design, they are still accessible. The following code still works perfectly, but it is not recommended."
      ]
    },
    {
      "cell_type": "code",
      "execution_count": null,
      "id": "2357f61f-d43f-4fe8-b7f0-24d1ff706323",
      "metadata": {
        "id": "2357f61f-d43f-4fe8-b7f0-24d1ff706323",
        "outputId": "0590202c-ecd3-4ecc-8515-925739419e96"
      },
      "outputs": [
        {
          "name": "stdout",
          "output_type": "stream",
          "text": [
            "10 20 30\n"
          ]
        }
      ],
      "source": [
        "class Box:\n",
        "    def __init__(self, w, h, d):\n",
        "        self._w, self._h, self._d = w, h, d\n",
        "        \n",
        "    def getVolume(self):\n",
        "        return self._w * self._h * self._d\n",
        "        \n",
        "b = Box(10, 20, 30)\n",
        "print(b._w, b._h, b._d)"
      ]
    },
    {
      "cell_type": "markdown",
      "id": "05a57ee3-3071-4c44-a00c-8ca4b5e708f6",
      "metadata": {
        "id": "05a57ee3-3071-4c44-a00c-8ca4b5e708f6"
      },
      "source": [
        "## Double underscore\n",
        "\n",
        "If we add one more underscore, the members will be hidden outside of the class and not accessible. In this example below, `__w`, `__h`, and `__d` can only be used internally by the class, so the code will fail to run."
      ]
    },
    {
      "cell_type": "code",
      "execution_count": null,
      "id": "230e6101-1ffc-4563-9398-4e893a01d6f8",
      "metadata": {
        "id": "230e6101-1ffc-4563-9398-4e893a01d6f8",
        "outputId": "38be02ee-8e6d-43a3-aa10-4cfdc86b005a"
      },
      "outputs": [
        {
          "ename": "AttributeError",
          "evalue": "'Box' object has no attribute '__w'",
          "output_type": "error",
          "traceback": [
            "\u001b[1;31m---------------------------------------------------------------------------\u001b[0m",
            "\u001b[1;31mAttributeError\u001b[0m                            Traceback (most recent call last)",
            "\u001b[1;32mc:\\Users\\kevin\\OneDrive\\Documents\\CS\\Python\\WorkshopLivingVersion\\03b.Classes.ipynb Cell 24\u001b[0m in \u001b[0;36m<cell line: 9>\u001b[1;34m()\u001b[0m\n\u001b[0;32m      <a href='vscode-notebook-cell:/c%3A/Users/kevin/OneDrive/Documents/CS/Python/WorkshopLivingVersion/03b.Classes.ipynb#X32sZmlsZQ%3D%3D?line=5'>6</a>\u001b[0m         \u001b[39mreturn\u001b[39;00m \u001b[39mself\u001b[39m\u001b[39m.\u001b[39m__w \u001b[39m*\u001b[39m \u001b[39mself\u001b[39m\u001b[39m.\u001b[39m__h \u001b[39m*\u001b[39m \u001b[39mself\u001b[39m\u001b[39m.\u001b[39m__d\n\u001b[0;32m      <a href='vscode-notebook-cell:/c%3A/Users/kevin/OneDrive/Documents/CS/Python/WorkshopLivingVersion/03b.Classes.ipynb#X32sZmlsZQ%3D%3D?line=7'>8</a>\u001b[0m b \u001b[39m=\u001b[39m Box(\u001b[39m10\u001b[39m, \u001b[39m20\u001b[39m, \u001b[39m30\u001b[39m)\n\u001b[1;32m----> <a href='vscode-notebook-cell:/c%3A/Users/kevin/OneDrive/Documents/CS/Python/WorkshopLivingVersion/03b.Classes.ipynb#X32sZmlsZQ%3D%3D?line=8'>9</a>\u001b[0m \u001b[39mprint\u001b[39m(b\u001b[39m.\u001b[39;49m__w, b\u001b[39m.\u001b[39m__h, b\u001b[39m.\u001b[39m__d)\n",
            "\u001b[1;31mAttributeError\u001b[0m: 'Box' object has no attribute '__w'"
          ]
        }
      ],
      "source": [
        "class Box:\n",
        "    def __init__(self, w, h, d):\n",
        "        self.__w, self.__h, self.__d = w, h, d\n",
        "        \n",
        "    def getVolume(self):\n",
        "        return self.__w * self.__h * self.__d\n",
        "        \n",
        "b = Box(10, 20, 30)\n",
        "print(b.__w, b.__h, b.__d)"
      ]
    },
    {
      "cell_type": "markdown",
      "id": "25a9adec-3b6a-4461-87ad-ebdb102c0c4c",
      "metadata": {
        "id": "25a9adec-3b6a-4461-87ad-ebdb102c0c4c"
      },
      "source": [
        "In fact, the class members are not really hidden, Python only mangled their names so that we cannot use them directly. The `dir()` function shows all member available in an object. You can see that the three hidden attribtes are actually just renamed to something else and are still available."
      ]
    },
    {
      "cell_type": "code",
      "execution_count": null,
      "id": "83b37d86-7d59-4742-8db1-486fd3234d9d",
      "metadata": {
        "id": "83b37d86-7d59-4742-8db1-486fd3234d9d",
        "outputId": "81cfdbf0-e37f-4d16-c45d-231bac62daca"
      },
      "outputs": [
        {
          "name": "stdout",
          "output_type": "stream",
          "text": [
            "['_Box__d', '_Box__h', '_Box__w', '__class__', '__delattr__', '__dict__', '__dir__', '__doc__', '__eq__', '__format__', '__ge__', '__getattribute__', '__gt__', '__hash__', '__init__', '__init_subclass__', '__le__', '__lt__', '__module__', '__ne__', '__new__', '__reduce__', '__reduce_ex__', '__repr__', '__setattr__', '__sizeof__', '__str__', '__subclasshook__', '__weakref__', 'getVolume']\n",
            "10 20 30\n"
          ]
        }
      ],
      "source": [
        "class Box:\n",
        "    def __init__(self, w, h, d):\n",
        "        self.__w, self.__h, self.__d = w, h, d\n",
        "        \n",
        "    def getVolume(self):\n",
        "        return self.__w * self.__h * self.__d\n",
        "    \n",
        "b = Box(10, 20, 30)\n",
        "print(dir(b))\n",
        "print(b._Box__w, b._Box__h, b._Box__d)"
      ]
    },
    {
      "cell_type": "markdown",
      "id": "e89eeda7-b893-4b04-aba8-71161eb1dd39",
      "metadata": {
        "id": "e89eeda7-b893-4b04-aba8-71161eb1dd39"
      },
      "source": [
        "## Double-double underscore\n",
        "\n",
        "Names in the form of `__XX__` are defined by Python as internal. They exists for specific purposes. These internal functions, although starting with double underscore, are not mangled. `__init__()` is one of the example. "
      ]
    },
    {
      "cell_type": "markdown",
      "id": "c6d383b0-2be1-4edf-be78-179a42ed0924",
      "metadata": {
        "id": "c6d383b0-2be1-4edf-be78-179a42ed0924"
      },
      "source": [
        "## String representation of an object (`__str()__`)\n",
        "\n",
        "Consider the previous `Box` class, if we print an object directly, the output does not look good:"
      ]
    },
    {
      "cell_type": "code",
      "execution_count": null,
      "id": "d998d8b9-30d8-4cb6-9350-536c8b5bfcc1",
      "metadata": {
        "id": "d998d8b9-30d8-4cb6-9350-536c8b5bfcc1",
        "outputId": "7f9f7008-f04a-4f91-a8f2-8b20c8dd0733"
      },
      "outputs": [
        {
          "name": "stdout",
          "output_type": "stream",
          "text": [
            "<__main__.Box object at 0x00000165FECD4910>\n"
          ]
        }
      ],
      "source": [
        "b = Box(10, 20, 30)\n",
        "print(b)"
      ]
    },
    {
      "cell_type": "markdown",
      "id": "53ba2a5e-38f4-44da-8886-5d3db8642999",
      "metadata": {
        "id": "53ba2a5e-38f4-44da-8886-5d3db8642999"
      },
      "source": [
        "We may implement the `__str__()` function to specify how an object can be presented. Note that the `__str__()` function is another example of internal function."
      ]
    },
    {
      "cell_type": "code",
      "execution_count": null,
      "id": "705bc033-dfc9-475c-aa6a-a2a192f52ab4",
      "metadata": {
        "id": "705bc033-dfc9-475c-aa6a-a2a192f52ab4",
        "outputId": "6491b86b-b0dc-4b35-c5b6-85e8cc1a8630"
      },
      "outputs": [
        {
          "name": "stdout",
          "output_type": "stream",
          "text": [
            "A box sized 10 x 20 x 30\n"
          ]
        }
      ],
      "source": [
        "class Box:\n",
        "    def __init__(self, w, h, d):\n",
        "        self.__w, self.__h, self.__d = w, h, d\n",
        "    def __str__(self):\n",
        "        return f'A box sized {self.__w} x {self.__h} x {self.__d}'\n",
        "        \n",
        "b = Box(10, 20, 30)\n",
        "print(b)        "
      ]
    },
    {
      "cell_type": "markdown",
      "id": "94b2aa97-e920-40d1-996e-787d6cef8af0",
      "metadata": {
        "id": "94b2aa97-e920-40d1-996e-787d6cef8af0"
      },
      "source": [
        "# Standard libraries\n",
        "\n",
        "Python provide a lot of standard libraries that could be used in any python program without installing additional packages. For example, `math` and `random`.\n",
        "\n",
        "You can read the corresponding references:\n",
        "- Math: <https://docs.python.org/3/library/math.html>\n",
        "- Random: <https://docs.python.org/3/library/random.html>"
      ]
    },
    {
      "cell_type": "markdown",
      "id": "b4c99f07-eddd-4661-b09f-c6c3badd65e9",
      "metadata": {
        "id": "b4c99f07-eddd-4661-b09f-c6c3badd65e9"
      },
      "source": [
        "## Import\n",
        "\n",
        "To use the libraries, we need to first import them using `import`, For example:"
      ]
    },
    {
      "cell_type": "code",
      "execution_count": null,
      "id": "8b21d688-b7a6-402f-bd90-e02be9e7254d",
      "metadata": {
        "id": "8b21d688-b7a6-402f-bd90-e02be9e7254d",
        "outputId": "529aff43-2f29-436c-f3e6-99d86d02eab2"
      },
      "outputs": [
        {
          "name": "stdout",
          "output_type": "stream",
          "text": [
            "GCD of 24 and 36 is 12\n"
          ]
        }
      ],
      "source": [
        "import math\n",
        "a = 24\n",
        "b = 36\n",
        "print(\"GCD of\", a, \"and\", b, \"is\", math.gcd(a, b))"
      ]
    },
    {
      "cell_type": "markdown",
      "id": "a53e9f7f-3da4-4bda-b441-ddb23862c9e4",
      "metadata": {
        "id": "a53e9f7f-3da4-4bda-b441-ddb23862c9e4"
      },
      "source": [
        "Other use of `import` is covered in the optional section."
      ]
    },
    {
      "cell_type": "markdown",
      "id": "0f2a1e11-890e-462c-868d-de8b165f7ca3",
      "metadata": {
        "id": "0f2a1e11-890e-462c-868d-de8b165f7ca3"
      },
      "source": [
        "# Quiz"
      ]
    },
    {
      "cell_type": "markdown",
      "id": "80a38663-1956-4f30-a0c8-da0e01cc281c",
      "metadata": {
        "id": "80a38663-1956-4f30-a0c8-da0e01cc281c"
      },
      "source": [
        "## Quiz 3b\n",
        "\n",
        "Consider the following class that model a simple counter.\n",
        "\n",
        "```python\n",
        "class Counter:\n",
        "  tick = 0\n",
        "  def click(self):\n",
        "    # ...\n",
        "```\n",
        "\n",
        "1. Give a statement in place of `# ...` so that the counter tick is increased by 1. Remove all unnecessary space in your answer.\n",
        "2. What is the name of the member function one should implement if object of this class could be printed directly to output its tick? For example, we hope the follwing code could be executed.\n",
        "\n",
        "```python\n",
        "c = Counter()\n",
        "c.click()\n",
        "print(c)  # outputs 1\n",
        "```"
      ]
    },
    {
      "cell_type": "markdown",
      "id": "0c352d22-e012-4fda-9df7-c122dec74248",
      "metadata": {
        "id": "0c352d22-e012-4fda-9df7-c122dec74248"
      },
      "source": [
        "# Exercises"
      ]
    },
    {
      "cell_type": "markdown",
      "id": "2a7d833a-e860-45b8-a289-d253ec1339c2",
      "metadata": {
        "id": "2a7d833a-e860-45b8-a289-d253ec1339c2"
      },
      "source": [
        "## Exercise 3-4\n",
        "\n",
        "Define a class `Frac` modelling a fraction with integer numerator and denominator. It supports the following features."
      ]
    },
    {
      "cell_type": "markdown",
      "id": "29468af3-20b1-4bff-9b0e-1bae4dc79353",
      "metadata": {
        "id": "29468af3-20b1-4bff-9b0e-1bae4dc79353"
      },
      "source": [
        "### Object creation\n",
        "- `x = Frac(1, 2)` creates a fraction of \\\\(1/2\\\\).\n",
        "- `print(x)` prints fraction `x` in the form of \\\\(a/b\\\\) in the simplest form. For example:\n",
        "\n",
        "```python\n",
        "x, y = Frac(2, 4), Frac(6, 3)\n",
        "print(x, y)\n",
        "```\n",
        "\n",
        "Output:\n",
        "\n",
        "```text\n",
        "1/2 2/1\n",
        "```"
      ]
    },
    {
      "cell_type": "markdown",
      "id": "229764b7-f97d-491e-a91e-ef648363768f",
      "metadata": {
        "id": "229764b7-f97d-491e-a91e-ef648363768f"
      },
      "source": [
        "### Invert\n",
        "\n",
        "`x.invert()` will replace fraction `x` by its reciprocal.\n",
        "\n",
        "```python\n",
        "x = Frac(2, 3)\n",
        "x.invert()\n",
        "print(x)\n",
        "```\n",
        "\n",
        "Output:\n",
        "\n",
        "```text\n",
        "3/2\n",
        "```"
      ]
    },
    {
      "cell_type": "markdown",
      "id": "518556ba-fab6-43fd-8905-da49d8f5f142",
      "metadata": {
        "id": "518556ba-fab6-43fd-8905-da49d8f5f142"
      },
      "source": [
        "### Multiplication\n",
        "\n",
        "`x.multi(y)` multiply fraction `y` to fraction `x`, fraction `x` will be updated.\n",
        "\n",
        "```python\n",
        "x, y = Frac(1, 3), Frac(1, 2)\n",
        "x.multi(y)\n",
        "print(x)\n",
        "```\n",
        "\n",
        "Output:\n",
        "\n",
        "```text\n",
        "1/6\n",
        "```"
      ]
    },
    {
      "cell_type": "markdown",
      "id": "42eeaa00-2cef-4da6-92d3-7d7d74087589",
      "metadata": {
        "id": "42eeaa00-2cef-4da6-92d3-7d7d74087589"
      },
      "source": [
        "### Addition\n",
        "\n",
        "`x.add(y)` add fraction `y` to fraction `x`, fraction `x` will be updated.\n",
        "\n",
        "```python\n",
        "x, y = Frac(1, 3), Frac(1, 2)\n",
        "x.add(x)\n",
        "print(x)\n",
        "x.add(y)\n",
        "print(x)\n",
        "```\n",
        "\n",
        "Output:\n",
        "\n",
        "```text\n",
        "2/3\n",
        "7/6\n",
        "```"
      ]
    },
    {
      "cell_type": "markdown",
      "id": "932e16f8-4005-4624-9377-c5212b01e358",
      "metadata": {
        "id": "932e16f8-4005-4624-9377-c5212b01e358"
      },
      "source": [
        "### Evaluation\n",
        "\n",
        "`x.eval()` will **return** the decimal form of the fraction.\n",
        "\n",
        "```python\n",
        "x = Frac(1, 8)\n",
        "print(x.eval())\n",
        "```\n",
        "\n",
        "Output:\n",
        "\n",
        "```text\n",
        "0.125\n",
        "```"
      ]
    },
    {
      "cell_type": "markdown",
      "id": "c7fe853c-f85d-483b-8e75-d2682e50e277",
      "metadata": {
        "id": "c7fe853c-f85d-483b-8e75-d2682e50e277"
      },
      "source": [
        "### Test case\n",
        "\n",
        "```python\n",
        "n = 5\n",
        "x = Frac(1, 1)\n",
        "for i in range(2, n):\n",
        "    x.add(Frac(1, i))\n",
        "    x.multi(Frac(1, 2))\n",
        "    x.invert()\n",
        "print(n, x, x.eval())\n",
        "```\n",
        "\n",
        "Output:\n",
        "\n",
        "```text\n",
        "5 40/29 1.379310344827586\n",
        "```"
      ]
    },
    {
      "cell_type": "markdown",
      "id": "d4dc898f-b2f5-42b6-8bb4-2be9cd60eead",
      "metadata": {
        "id": "d4dc898f-b2f5-42b6-8bb4-2be9cd60eead"
      },
      "source": [
        "## Exercise 3-5 (VPL available)\n",
        "\n",
        "Modify your code in Exercise 3-4 to add the **minus()** and **divide()** functions.\n",
        "\n",
        "Then add code that reads 6 integers `a`, `b`, `c`, `d`, `e`, `f` then output the result of \\\\((\\frac{a}{b}-\\frac{c}{d}) / (\\frac{e}{f})\\\\).\n",
        "\n",
        "Your code will look like this:\n",
        "```python\n",
        "class Frac:\n",
        "    # ...\n",
        "    # ...\n",
        "    \n",
        "a = input()\n",
        "b = input()\n",
        "# ...\n",
        "f = input()\n",
        "\n",
        "ab = Frac(a, b)\n",
        "cd = Frac(c, d)\n",
        "ef = Frac(e, f)\n",
        "ab.minus(cd)\n",
        "ab.divide(ef)\n",
        "print(ab)\n",
        "```\n",
        "Sample input/output:\n",
        "\n",
        "| Input    | Output || Input    | Output |\n",
        "| ----     | ---    || ----     | ---    |\n",
        "| 1<br>2<br>1<br>3<br>2<br>3 | 1/4 || 3<br>6<br>1<br>6<br>4<br>9 | 3/4 |"
      ]
    },
    {
      "cell_type": "markdown",
      "id": "9f7423f2-9553-4188-a90f-4e4b78281611",
      "metadata": {
        "id": "9f7423f2-9553-4188-a90f-4e4b78281611"
      },
      "source": [
        "## Exercise 3-6 (Optional)\n",
        "\n",
        "Note: This exercise requires understanding of **Module**, which is covered in the optional topic below."
      ]
    },
    {
      "cell_type": "markdown",
      "id": "f8cdda66-19be-4218-bd3e-eaefffaf7d5c",
      "metadata": {
        "id": "f8cdda66-19be-4218-bd3e-eaefffaf7d5c"
      },
      "source": [
        "### Monte Carlo method\n",
        "\n",
        "A Monte Carlo method is to solve a problem by using random events. In this exercise we are going to find \\\\(\\pi\\\\) using this method.\n",
        "\n",
        "Consider a square of size \\\\(1 \\times 1\\\\) with a quater of a circle with raduis \\\\(1\\\\) as shown below. \n",
        "\n",
        "![Monte Carlo illustration](https://drive.google.com/uc?export=view&id=1_S6V-3UOzFyCt0VhGh-acCkVapQuJKtv&__v1)\n",
        "\n",
        "By considering the area of the two regions in the figure, the chance of a random dot falling in the shaded region equals \\\\(\\pi/4\\\\). Therefore, if we generate \\\\(X\\\\) random dots in the square, and counted that \\\\(Y\\\\) of them being in the circle, we can estimate that \\\\(\\pi\\\\) equals \\\\(4Y/X\\\\)."
      ]
    },
    {
      "cell_type": "markdown",
      "id": "030f1282-7a5f-4d49-a94b-7ff591d20ed6",
      "metadata": {
        "id": "030f1282-7a5f-4d49-a94b-7ff591d20ed6"
      },
      "source": [
        "### Pseudo code\n",
        "\n",
        "Here is the pseudo code of the Monte Carlo method.\n",
        "\n",
        "```text\n",
        "count = 0\n",
        "while number of random points < target number of points\n",
        "    generate random value x in range [0, 1)\n",
        "    generate random value y in range [0, 1)\n",
        "    if x^2 + y^2 < 1\n",
        "        increment count\n",
        "        \n",
        "pi = 4 * count / total number of random points   \n",
        "```"
      ]
    },
    {
      "cell_type": "markdown",
      "id": "69c06253-ea95-4fa8-9061-3f0082ed98cb",
      "metadata": {
        "id": "69c06253-ea95-4fa8-9061-3f0082ed98cb"
      },
      "source": [
        "### Task\n",
        "\n",
        "For this exercise, you need to prepare two files. Say, `ex36MC.py` and `ex36main.py`.\n",
        "\n",
        "- `ex36MC.py` implements a function (or class) that computes \\\\(\\pi\\\\) using the Monte Carlo method explained above, using a given number `n`.\n",
        "- `ex36main.py` implements a program that reads `n` from input and computes \\\\(\\pi\\\\) using the function (or class) in `ex36MC.py`.\n",
        "\n",
        "Your `ex36main.py` will probably be in this form:\n",
        "\n",
        "```python\n",
        "# ... (import function \"findPi()\" from ex36MC.py)\n",
        "\n",
        "n = input()\n",
        "pi = findPi(n)\n",
        "print(pi)\n",
        "```\n",
        "\n",
        "or if it is done using a class:\n",
        "\n",
        "```python\n",
        "# ... (import class \"FindPi\" from ex36MC.py)\n",
        "\n",
        "n = input()\n",
        "pi = FindPi(n)\n",
        "print(pi.find())\n",
        "```"
      ]
    },
    {
      "cell_type": "markdown",
      "id": "877f5deb-a8b9-42aa-b248-baae35950601",
      "metadata": {
        "id": "877f5deb-a8b9-42aa-b248-baae35950601"
      },
      "source": [
        "# Optional: Modules"
      ]
    },
    {
      "cell_type": "markdown",
      "id": "9ca0a679-0536-413a-8fa3-5055162f2b25",
      "metadata": {
        "id": "9ca0a679-0536-413a-8fa3-5055162f2b25"
      },
      "source": [
        "It is possible to reuse functions or classes defined in another file. Suppose you have written the following function in a file named `helloUtil.py`.\n",
        "\n",
        "```python\n",
        "def hello(hello='hello', name='David', message='How are you'):\n",
        "    print(hello, name)\n",
        "    print(message)  \n",
        "```\n",
        "\n",
        "In another file, you can import this function by the statement:\n",
        "\n",
        "```python\n",
        "from helloUtil import hello\n",
        "hello()\n",
        "```"
      ]
    },
    {
      "cell_type": "markdown",
      "id": "9f1f71f4-afb5-4ef6-8a98-3c473f3aca6e",
      "metadata": {
        "id": "9f1f71f4-afb5-4ef6-8a98-3c473f3aca6e"
      },
      "source": [
        "## Import *\n",
        "\n",
        "The statement `from XX import YY` specify that we import the name `YY` from file `XX.py`.\n",
        "\n",
        "- Name `YY` can be any variable or function name.\n",
        "- File `XX.py` will be retrived in the same folder of the code, or the library path.\n",
        "- We can import all names with `from XX import *`.\n",
        "\n",
        "Note that `import *` will not import private/hidden functions that starts with an underscore `_`.\n",
        "\n",
        "Suppose we have a file `myUtil.py` with function `_a()` defined:\n",
        "\n",
        "```python\n",
        "# myUtil.py\n",
        "def _a():\n",
        "  pass\n",
        "```\n",
        "\n",
        "Then if we use `import *` to import it in another file, `_a()` cannot be used. This will give an error.\n",
        "\n",
        "```python\n",
        "from myUtil import *\n",
        "_a()\n",
        "```"
      ]
    },
    {
      "cell_type": "markdown",
      "id": "48d9d380-7c26-4f5d-9eb7-824f31887804",
      "metadata": {
        "id": "48d9d380-7c26-4f5d-9eb7-824f31887804"
      },
      "source": [
        "## Name clashes and `import ... as`\n",
        "\n",
        "Consider this example:\n",
        "\n",
        "```python\n",
        "def hello():\n",
        "    print('Hello!')\n",
        "\n",
        "from helloUtil import hello\n",
        "hello()\n",
        "```\n",
        "\n",
        "The name `hello` is overwritten by import, and so the original definition is gone. To avoid this, we can use `as` to rename the imported function.\n",
        "\n",
        "```python\n",
        "def hello():\n",
        "    print('Hello!')\n",
        "\n",
        "from helloUtil import hello as hello2\n",
        "hello()\n",
        "hello2()\n",
        "```"
      ]
    },
    {
      "cell_type": "markdown",
      "id": "9249f789-2337-4f5d-9484-e4c27ca7c0b7",
      "metadata": {
        "id": "9249f789-2337-4f5d-9484-e4c27ca7c0b7"
      },
      "source": [
        "## Import module\n",
        "\n",
        "Using `import *` is convenient but it will import all names from the file which may never be used, which is not desirable. One possible solution is to import the file as a **module** instead.\n",
        "\n",
        "```python\n",
        "import helloUtil\n",
        "helloUtil.hello()\n",
        "```\n",
        "\n",
        "Note that in this case, we need to access the functions from the module name instead.\n",
        "\n",
        "Similarly, we can import a module and rename it using `as`.\n",
        "\n",
        "```python\n",
        "import helloUtil as hello\n",
        "hello.hello()\n",
        "```"
      ]
    },
    {
      "cell_type": "markdown",
      "id": "fe7210a4-3b3d-4622-ad44-f496a7f00a4f",
      "metadata": {
        "id": "fe7210a4-3b3d-4622-ad44-f496a7f00a4f"
      },
      "source": [
        "# Optional: Static & class methods"
      ]
    },
    {
      "cell_type": "markdown",
      "id": "2ffca42d-0251-4e58-830b-d248da32e3c0",
      "metadata": {
        "id": "2ffca42d-0251-4e58-830b-d248da32e3c0"
      },
      "source": [
        "## Using the Class itself\n",
        "\n",
        "When we define a class, the class itself is actually a kind of object. It also owns all the members. "
      ]
    },
    {
      "cell_type": "code",
      "execution_count": null,
      "id": "7f2f51e1-b8f6-4bc6-be8e-afc77cf61765",
      "metadata": {
        "id": "7f2f51e1-b8f6-4bc6-be8e-afc77cf61765",
        "outputId": "93268b7f-f7ad-48e5-b367-1381279a38c8"
      },
      "outputs": [
        {
          "name": "stdout",
          "output_type": "stream",
          "text": [
            "10 20 5\n"
          ]
        }
      ],
      "source": [
        "class Box:\n",
        "    w, h, d = 10, 20, 5\n",
        "    \n",
        "print(Box.w, Box.h, Box.d)"
      ]
    },
    {
      "cell_type": "markdown",
      "id": "937c80e9-d4ce-4399-b0b7-072255dfaaf8",
      "metadata": {
        "id": "937c80e9-d4ce-4399-b0b7-072255dfaaf8"
      },
      "source": [
        "## Method and self\n",
        "\n",
        "In fact, when a method is called from an object, it is the same as if we call the method through the class name, then provide the object as the first argument:"
      ]
    },
    {
      "cell_type": "code",
      "execution_count": null,
      "id": "2fc5bde3-040a-41e3-8d3f-9ecba82443fa",
      "metadata": {
        "id": "2fc5bde3-040a-41e3-8d3f-9ecba82443fa",
        "outputId": "9cf2c675-887a-425d-b89e-095475ed2122"
      },
      "outputs": [
        {
          "name": "stdout",
          "output_type": "stream",
          "text": [
            "1000\n",
            "1000\n"
          ]
        }
      ],
      "source": [
        "class Box:\n",
        "    w, h, d = 10, 20, 5\n",
        "    def getVolume(self):\n",
        "        return self.w * self.h * self.d\n",
        "        \n",
        "b = Box()\n",
        "print(b.getVolume())\n",
        "print(Box.getVolume(b))"
      ]
    },
    {
      "cell_type": "markdown",
      "id": "ce0d455f-7ad1-43a9-b777-dc91e6dbd551",
      "metadata": {
        "id": "ce0d455f-7ad1-43a9-b777-dc91e6dbd551"
      },
      "source": [
        "In an other words, `self` is automatically applied by Python when a method is called from an object. These methods can be called instance methods, as they work on instances of classes (i.e., objects)."
      ]
    },
    {
      "cell_type": "markdown",
      "id": "b8d75282-b575-4d25-b558-716d3495d114",
      "metadata": {
        "id": "b8d75282-b575-4d25-b558-716d3495d114"
      },
      "source": [
        "## No self\n",
        "\n",
        "On the other hand, if a function is supposed to be called by the class name only, the function should not include the `self` parameter."
      ]
    },
    {
      "cell_type": "code",
      "execution_count": null,
      "id": "9612d548-dbd4-45a3-b3f0-ec6cef89b50c",
      "metadata": {
        "id": "9612d548-dbd4-45a3-b3f0-ec6cef89b50c",
        "outputId": "ff35e2b5-ab14-4d9e-ba0a-f21cde4dfb87"
      },
      "outputs": [
        {
          "name": "stdout",
          "output_type": "stream",
          "text": [
            "This is a Box class.\n",
            "Default size: 10 x 20 x 5.\n"
          ]
        }
      ],
      "source": [
        "class Box:\n",
        "    w, h, d = 10, 20, 5\n",
        "    def explain():\n",
        "        print('This is a Box class.')\n",
        "        print(f'Default size: {Box.w} x {Box.h} x {Box.d}.')\n",
        "    \n",
        "Box.explain()"
      ]
    },
    {
      "cell_type": "markdown",
      "id": "293b678d-4564-4b1a-9231-59137f1d533b",
      "metadata": {
        "id": "293b678d-4564-4b1a-9231-59137f1d533b"
      },
      "source": [
        "## Static methods\n",
        "\n",
        "The previously defined `explain()` method cannot be used by objects of the class because of the automatic `self` argument.\n",
        "\n",
        "```python\n",
        "b = Box()\n",
        "b.explain()  # this will fail\n",
        "```\n",
        "\n",
        "To allow any objects to use it, we can add a decorator `@staticmethod` before the definion. The function becomes a static method.\n",
        "\n",
        "```python\n",
        "    @staticmethod\n",
        "    def explain():\n",
        "        print('This is a Box class.')\n",
        "        print(f'Default size: {Box.w} x {Box.h} x {Box.d}.')\n",
        "```"
      ]
    },
    {
      "cell_type": "code",
      "execution_count": null,
      "id": "0dd20cc7-66a7-4799-bbd2-c1300b82805d",
      "metadata": {
        "id": "0dd20cc7-66a7-4799-bbd2-c1300b82805d",
        "outputId": "085acd7f-0e89-402e-e190-79e947b0401d"
      },
      "outputs": [
        {
          "name": "stdout",
          "output_type": "stream",
          "text": [
            "This is a Box class.\n",
            "Default size: 10 x 20 x 5.\n"
          ]
        }
      ],
      "source": [
        "class Box:\n",
        "    w, h, d = 10, 20, 5\n",
        "    @staticmethod\n",
        "    def explain():\n",
        "        print('This is a Box class.')\n",
        "        print(f'Default size: {Box.w} x {Box.h} x {Box.d}.')\n",
        "  \n",
        "b = Box()\n",
        "b.explain()"
      ]
    },
    {
      "cell_type": "markdown",
      "id": "eba2c0bc-a518-4c7f-9979-6bd39e7f12c7",
      "metadata": {
        "id": "eba2c0bc-a518-4c7f-9979-6bd39e7f12c7"
      },
      "source": [
        "## Class methods\n",
        "\n",
        "Notice that in the example above, the function `explain()` needs to know the class name `Box` to access the three variables. This will be a problem if the class name changes.\n",
        "\n",
        "We can use the `@classmethod` decorator instead to make it a class method. A class method will add the class as the first argument automatically when executed, similar to how `self` is automatically populated.\n",
        "\n",
        "```python\n",
        "    @classmethod\n",
        "    def explain(cls):\n",
        "        print('This is a Box class.')\n",
        "        print(f'Default size: {cls.w} x {cls.h} x {cls.d}.')\n",
        "```"
      ]
    },
    {
      "cell_type": "code",
      "execution_count": null,
      "id": "c092fc41-9f7c-4295-9a1a-7536b8a4a54a",
      "metadata": {
        "id": "c092fc41-9f7c-4295-9a1a-7536b8a4a54a",
        "outputId": "acc7deaf-3318-4a0e-f930-2960de34c0fb"
      },
      "outputs": [
        {
          "name": "stdout",
          "output_type": "stream",
          "text": [
            "This is a Box class.\n",
            "Default size: 10 x 20 x 5.\n"
          ]
        }
      ],
      "source": [
        "class Box:\n",
        "    w, h, d = 10, 20, 5\n",
        "    @classmethod\n",
        "    def explain(c):\n",
        "        print('This is a Box class.')\n",
        "        print(f'Default size: {c.w} x {c.h} x {c.d}.')\n",
        "  \n",
        "Box.explain()"
      ]
    },
    {
      "cell_type": "code",
      "execution_count": null,
      "id": "a1efc56c-4f26-4b30-a5a9-e2b3f5c9993e",
      "metadata": {
        "id": "a1efc56c-4f26-4b30-a5a9-e2b3f5c9993e",
        "outputId": "15bad2f9-106f-479f-f479-ccf3c4982a90"
      },
      "outputs": [
        {
          "name": "stdout",
          "output_type": "stream",
          "text": [
            "This is a Box class.\n",
            "Default size: 10 x 20 x 5.\n"
          ]
        }
      ],
      "source": [
        "b = Box()\n",
        "b.explain()"
      ]
    },
    {
      "cell_type": "markdown",
      "id": "10e9f1c4-b6f2-4668-aedc-c8e4b15a40cc",
      "metadata": {
        "id": "10e9f1c4-b6f2-4668-aedc-c8e4b15a40cc"
      },
      "source": [
        "# Optional: Inheritance"
      ]
    },
    {
      "cell_type": "markdown",
      "id": "669fb3b3-a246-478e-a892-e929fedbd3a7",
      "metadata": {
        "id": "669fb3b3-a246-478e-a892-e929fedbd3a7"
      },
      "source": [
        "We can create a class based on another class by adding the base class during class definition. For example to define class `Dog` that extends from class `Animal`:\n",
        "\n",
        "```python\n",
        "class Animal:\n",
        "    def __init__(self, name):\n",
        "        self.name = name\n",
        "\n",
        "class Dog(Animal):\n",
        "    def bark(self):\n",
        "        print(f'{self.name}: woof!')\n",
        "```\n",
        "\n",
        "In the previous example, `Dog` class will inherits the constructor, so we can create an instance of Dog like this:\n",
        "\n",
        "```python\n",
        "d = Dog('Jimmy')\n",
        "```\n",
        "\n",
        "And since `d` is an object of class `Dog`, it can use the methods defines in `Dog`.\n",
        "\n",
        "```python\n",
        "d.bark()\n",
        "```\n",
        "\n",
        "Note that `bark()` is using the attributes initialize in the constructor of `Animal`."
      ]
    },
    {
      "cell_type": "code",
      "execution_count": null,
      "id": "a544248d-ddba-48c7-9077-102e91ab14a1",
      "metadata": {
        "id": "a544248d-ddba-48c7-9077-102e91ab14a1",
        "outputId": "b2b4bdb6-e5ec-4560-bcc8-b6d4f6ec9e76"
      },
      "outputs": [
        {
          "name": "stdout",
          "output_type": "stream",
          "text": [
            "Jimmy: woof!\n"
          ]
        }
      ],
      "source": [
        "class Animal:\n",
        "    def __init__(self, name):\n",
        "        self.name = name\n",
        "\n",
        "class Dog(Animal):\n",
        "    def bark(self):\n",
        "        print(f'{self.name}: woof!')\n",
        "\n",
        "d = Dog('Jimmy')\n",
        "d.bark()"
      ]
    },
    {
      "cell_type": "markdown",
      "id": "8ffbece5-71ee-440b-9c07-75a9f27060f0",
      "metadata": {
        "id": "8ffbece5-71ee-440b-9c07-75a9f27060f0"
      },
      "source": [
        "## Method overriding\n",
        "\n",
        "When we extends a class, we can define a new method to override the original ones.\n",
        "\n",
        "Here is an example that overrides the constructor so that parameter `name` is optional:"
      ]
    },
    {
      "cell_type": "code",
      "execution_count": null,
      "id": "cecc1cfb-9d54-4de8-9be4-187cf2abfd69",
      "metadata": {
        "id": "cecc1cfb-9d54-4de8-9be4-187cf2abfd69",
        "outputId": "2377813c-f014-416a-d5e9-4a2c288719bb"
      },
      "outputs": [
        {
          "name": "stdout",
          "output_type": "stream",
          "text": [
            "Jo: woof!\n"
          ]
        }
      ],
      "source": [
        "class Animal:\n",
        "    sound = \"...\"\n",
        "    def __init__(self, name):\n",
        "        self.name = name\n",
        "    def bark(self):\n",
        "        print(f'{self.name}: {self.sound}')\n",
        "        \n",
        "class Dog(Animal):\n",
        "    def __init__(self, name='Jo'):\n",
        "        self.name = name\n",
        "        self.sound = 'woof!'\n",
        "d = Dog()\n",
        "d.bark()"
      ]
    },
    {
      "cell_type": "markdown",
      "id": "09c17221-a6d9-4f81-a524-c7e7b1f8a1b2",
      "metadata": {
        "id": "09c17221-a6d9-4f81-a524-c7e7b1f8a1b2"
      },
      "source": [
        "## super()\n",
        "\n",
        "We can use `super()` to access the base class. For example this will use the constructor of the base class to initialize name instead:"
      ]
    },
    {
      "cell_type": "code",
      "execution_count": null,
      "id": "f7e7cc6e-d478-4130-b66a-5af4b663c84d",
      "metadata": {
        "id": "f7e7cc6e-d478-4130-b66a-5af4b663c84d",
        "outputId": "7bef49b7-6e15-44b3-9989-e412106f53be"
      },
      "outputs": [
        {
          "name": "stdout",
          "output_type": "stream",
          "text": [
            "Jo: woof!\n"
          ]
        }
      ],
      "source": [
        "class Animal:\n",
        "    sound = \"...\"\n",
        "    def __init__(self, name):\n",
        "        self.name = name\n",
        "    def bark(self):\n",
        "        print(f'{self.name}: {self.sound}')\n",
        "        \n",
        "class Dog(Animal):\n",
        "    def __init__(self, name='Jo'):\n",
        "        super().__init__(name)\n",
        "        self.sound = 'woof!'\n",
        "\n",
        "d = Dog()\n",
        "d.bark()"
      ]
    },
    {
      "cell_type": "markdown",
      "id": "6f3e4ef0-6abb-4b70-83f9-da9c5ae95a42",
      "metadata": {
        "id": "6f3e4ef0-6abb-4b70-83f9-da9c5ae95a42"
      },
      "source": [
        "# Optional: Duck typing\n",
        "\n",
        "> If it walks like a duck and it quacks like a duck, then it must be a duck.\n",
        "\n",
        "Python uses a principle called **Duck Typing**. When we define functions that takes some objects as arguments, we don't care about the type of the arguments, but instead, we care if the object provide the necessary features."
      ]
    },
    {
      "cell_type": "markdown",
      "id": "309675e3-c369-4cd9-a2f3-678bc84cf4f2",
      "metadata": {
        "id": "309675e3-c369-4cd9-a2f3-678bc84cf4f2"
      },
      "source": [
        "## Duck typing example\n",
        "\n",
        "Consider the following function that works on lists:\n",
        "\n",
        "```python\n",
        "def countPositive(numbers):\n",
        "    count = 0\n",
        "    for n in numbers:\n",
        "        if n > 0:\n",
        "            count += 1\n",
        "            \n",
        "    return count\n",
        "```\n",
        "\n",
        "Although the function is designed for list input, the code works perfectly when `numbers` can be iterated by a for-loop and all items are numerical. Therefore, the function work for any list, tuple, range, or even dictionary etc."
      ]
    },
    {
      "cell_type": "code",
      "execution_count": null,
      "id": "d5a8bfcf-59b1-4133-b914-9524b9ebc6ff",
      "metadata": {
        "id": "d5a8bfcf-59b1-4133-b914-9524b9ebc6ff",
        "outputId": "0310170a-e023-4e94-cd9e-03647e8f6672"
      },
      "outputs": [
        {
          "name": "stdout",
          "output_type": "stream",
          "text": [
            "2\n",
            "2\n",
            "3\n",
            "1\n"
          ]
        }
      ],
      "source": [
        "def countPositive(numbers):\n",
        "    count = 0\n",
        "    for n in numbers:\n",
        "        if n > 0:\n",
        "            count += 1\n",
        "            \n",
        "    return count\n",
        "\n",
        "print(countPositive([-1, 1, -2, 2])) # list\n",
        "print(countPositive((-1, 1, -2, 2))) # tuple\n",
        "print(countPositive(range(-10, 10, 3))) # range\n",
        "print(countPositive({1: 'a', -1: 'b'})) # dictionary"
      ]
    },
    {
      "cell_type": "markdown",
      "id": "52b19326-0e32-4d55-9adb-3c6556a5cf30",
      "metadata": {
        "id": "52b19326-0e32-4d55-9adb-3c6556a5cf30"
      },
      "source": [
        "Another example goes to the `print()` function. The `print()` function do not care what the type of the argument is, it will always use the result from `__str()__` of the value."
      ]
    },
    {
      "cell_type": "code",
      "execution_count": null,
      "id": "3a87ceba-8018-45fb-a59d-fd8827252fc5",
      "metadata": {
        "id": "3a87ceba-8018-45fb-a59d-fd8827252fc5",
        "outputId": "47a4133f-bf8e-4521-e228-ff675669db9e"
      },
      "outputs": [
        {
          "name": "stdout",
          "output_type": "stream",
          "text": [
            "A B\n"
          ]
        }
      ],
      "source": [
        "class A:\n",
        "    def __str__(self):\n",
        "        return \"A\"\n",
        "        \n",
        "class B:\n",
        "    def __str__(self):\n",
        "        return \"B\"\n",
        "\n",
        "a, b = A(), B()\n",
        "print(a, b)"
      ]
    }
  ],
  "metadata": {
    "kernelspec": {
      "display_name": "Python 3.10.6 64-bit",
      "language": "python",
      "name": "python3"
    },
    "language_info": {
      "codemirror_mode": {
        "name": "ipython",
        "version": 3
      },
      "file_extension": ".py",
      "mimetype": "text/x-python",
      "name": "python",
      "nbconvert_exporter": "python",
      "pygments_lexer": "ipython3",
      "version": "3.10.6"
    },
    "vscode": {
      "interpreter": {
        "hash": "bd5508c2ffc7f17f7d31cf4086cc872f89e96996a08987e995649e5fbe85a3a4"
      }
    },
    "colab": {
      "name": "03b.Classes.ipynb",
      "provenance": [],
      "include_colab_link": true
    }
  },
  "nbformat": 4,
  "nbformat_minor": 5
}