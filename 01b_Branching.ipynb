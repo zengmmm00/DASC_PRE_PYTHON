{
  "cells": [
    {
      "cell_type": "markdown",
      "metadata": {
        "id": "view-in-github",
        "colab_type": "text"
      },
      "source": [
        "<a href=\"https://colab.research.google.com/github/zengmmm00/DASC_PRE_PYTHON/blob/main/01b_Branching.ipynb\" target=\"_parent\"><img src=\"https://colab.research.google.com/assets/colab-badge.svg\" alt=\"Open In Colab\"/></a>"
      ]
    },
    {
      "cell_type": "markdown",
      "id": "03d3774b-3e7b-4df8-a018-c05cbd76445d",
      "metadata": {
        "id": "03d3774b-3e7b-4df8-a018-c05cbd76445d"
      },
      "source": [
        "> _Self-learning material_  \n",
        "> **Python workshop - 1b. Branching**\n",
        "> \n",
        "> Branching is mainly supported by the **if-statement** in Python. It could be used in many ways, but we will focus on the structural form here. Before we could introduce if-statement, we need to cover a few important concepts first.\n"
      ]
    },
    {
      "cell_type": "markdown",
      "id": "535e6c57-6867-4749-b324-42024fada534",
      "metadata": {
        "id": "535e6c57-6867-4749-b324-42024fada534"
      },
      "source": [
        "# Comparison operators"
      ]
    },
    {
      "cell_type": "markdown",
      "id": "5227a2c7-d59a-4b0b-af97-677e956430ec",
      "metadata": {
        "id": "5227a2c7-d59a-4b0b-af97-677e956430ec"
      },
      "source": [
        "## Conditions\n",
        "\n",
        "Remember that a variable can store a boolean value, `True` or `False`.\n",
        "\n",
        "```python\n",
        "y = True\n",
        "n = False\n",
        "```\n",
        "\n",
        "A condition is an expression that evaluates to either `True` of `False`. For example, `val > 0` is a condition."
      ]
    },
    {
      "cell_type": "markdown",
      "id": "a093d201-1d69-4ae6-8c91-b7116ba11cfa",
      "metadata": {
        "id": "a093d201-1d69-4ae6-8c91-b7116ba11cfa"
      },
      "source": [
        "## Comparison operators\n",
        "\n",
        "**Comparison operators** `<`, `<=`, `==`, `>=`, `>`, and `!=` (not equal) can be used to produce a boolean value. For example:"
      ]
    },
    {
      "cell_type": "code",
      "execution_count": null,
      "id": "666cdc72-c4e2-423e-86be-a059b7f5e008",
      "metadata": {
        "id": "666cdc72-c4e2-423e-86be-a059b7f5e008",
        "outputId": "aa35fb9d-7d44-45ae-d521-6e753eb29834"
      },
      "outputs": [
        {
          "name": "stdout",
          "output_type": "stream",
          "text": [
            "10 < 3 is False\n"
          ]
        }
      ],
      "source": [
        "a = 10\n",
        "b = 3\n",
        "print(a, '<', b, 'is', a < b)"
      ]
    },
    {
      "cell_type": "code",
      "execution_count": null,
      "id": "64e1ea98-c274-4ab4-bdbf-458f02b02460",
      "metadata": {
        "id": "64e1ea98-c274-4ab4-bdbf-458f02b02460",
        "outputId": "a00181df-f287-40bb-a858-52b07438da8a"
      },
      "outputs": [
        {
          "name": "stdout",
          "output_type": "stream",
          "text": [
            "10 != 3 is True\n"
          ]
        }
      ],
      "source": [
        "print(a, '!=', b, 'is', a != b)  # output 10 != 3 is True"
      ]
    },
    {
      "cell_type": "markdown",
      "id": "c2e9f187-2626-4626-bee7-5445934175b9",
      "metadata": {
        "id": "c2e9f187-2626-4626-bee7-5445934175b9"
      },
      "source": [
        "## Locigal operators\n",
        "\n",
        "We can use `and`, `or`, and `not` as the logical operators on boolean values:"
      ]
    },
    {
      "cell_type": "code",
      "execution_count": null,
      "id": "fefb0da2-cc61-471a-81dc-8f6a58e09a71",
      "metadata": {
        "id": "fefb0da2-cc61-471a-81dc-8f6a58e09a71",
        "outputId": "e5337319-b8c0-45c2-e6d8-8c44ff41d478"
      },
      "outputs": [
        {
          "name": "stdout",
          "output_type": "stream",
          "text": [
            "True\n"
          ]
        }
      ],
      "source": [
        "a = 10\n",
        "b = 3\n",
        "c = 5\n",
        "print(a > b and c > b)"
      ]
    },
    {
      "cell_type": "code",
      "execution_count": null,
      "id": "dc84334a-175f-4748-b43a-41f8077e9d25",
      "metadata": {
        "id": "dc84334a-175f-4748-b43a-41f8077e9d25",
        "outputId": "320b4f52-301a-46a1-ae12-5c68bf80775f"
      },
      "outputs": [
        {
          "name": "stdout",
          "output_type": "stream",
          "text": [
            "False\n"
          ]
        }
      ],
      "source": [
        "print(a < b or a < c)"
      ]
    },
    {
      "cell_type": "code",
      "execution_count": null,
      "id": "d9f1cfaf-cb7e-43e3-b842-abd4354c66bd",
      "metadata": {
        "id": "d9f1cfaf-cb7e-43e3-b842-abd4354c66bd",
        "outputId": "9231ec28-890b-4af8-bc8f-c81518eec094"
      },
      "outputs": [
        {
          "name": "stdout",
          "output_type": "stream",
          "text": [
            "True\n"
          ]
        }
      ],
      "source": [
        "print(not a < b)"
      ]
    },
    {
      "cell_type": "markdown",
      "id": "b7ba1648-40c2-41f1-861b-cdcdabdb7fca",
      "metadata": {
        "id": "b7ba1648-40c2-41f1-861b-cdcdabdb7fca"
      },
      "source": [
        "# if-statement"
      ]
    },
    {
      "cell_type": "markdown",
      "id": "8facb3db-d5f5-40b0-9b38-cf4a9baf38b6",
      "metadata": {
        "id": "8facb3db-d5f5-40b0-9b38-cf4a9baf38b6"
      },
      "source": [
        "## if-statement\n",
        "\n",
        "An **if-statement** will only be executed when the condition evaluates to `True`.\n",
        "\n",
        "![If-statement](https://drive.google.com/uc?export=view&id=1oGBSgp-a4XXYMXOY5gixt8iCV8XAY5pj&__v1)"
      ]
    },
    {
      "cell_type": "markdown",
      "id": "5d07274a-a906-488d-a087-e268dadbf551",
      "metadata": {
        "id": "5d07274a-a906-488d-a087-e268dadbf551"
      },
      "source": [
        "### Example"
      ]
    },
    {
      "cell_type": "code",
      "execution_count": null,
      "id": "0b3c5d9d-1752-4ee8-bb97-87b4ee976758",
      "metadata": {
        "id": "0b3c5d9d-1752-4ee8-bb97-87b4ee976758",
        "outputId": "e9c0f97a-6060-4926-9f5e-5a3d5aa2b03d"
      },
      "outputs": [
        {
          "name": "stdout",
          "output_type": "stream",
          "text": [
            "Absolute value of your number is 7\n"
          ]
        }
      ],
      "source": [
        "number = int(input('Input a number: '))\n",
        "if number < 0:\n",
        "    number = -number\n",
        "print('Absolute value of your number is', number)"
      ]
    },
    {
      "cell_type": "markdown",
      "id": "5221bb45-2ec3-4060-8ffd-699b8430a1fd",
      "metadata": {
        "id": "5221bb45-2ec3-4060-8ffd-699b8430a1fd"
      },
      "source": [
        "## Program block\n",
        "\n",
        "Take a look at the example again:\n",
        "\n",
        "```python\n",
        "number = int(input('Input a number: '))\n",
        "if number < 0:\n",
        "    number = -number\n",
        "print('Absolute value of your number is', number)\n",
        "```\n",
        "\n",
        "- Notice that the statement after `if` is **indented one level**.\n",
        "- Indentation defines a program block in Python.\n",
        "- Such block must follow a line ending with a colon `:`.\n",
        "\n",
        "Consecutive lines with the same indentation are considered the same block. Consider the following examples, what are the outputs of the two codes above when `a` is 0 and when `a` is 1? "
      ]
    },
    {
      "cell_type": "code",
      "execution_count": null,
      "id": "6bdd5522-d218-4272-bf3c-96add0f6c7cd",
      "metadata": {
        "id": "6bdd5522-d218-4272-bf3c-96add0f6c7cd",
        "outputId": "d7298469-9d8d-4b62-dc06-0065d39c1f39"
      },
      "outputs": [
        {
          "name": "stdout",
          "output_type": "stream",
          "text": [
            "a is 30\n"
          ]
        }
      ],
      "source": [
        "a = int(input())\n",
        "if a > 0:\n",
        "    a = a + 10\n",
        "    a = a + 10\n",
        "print(\"a is\", a)"
      ]
    },
    {
      "cell_type": "code",
      "execution_count": null,
      "id": "915e6b78-d0a3-4440-9d18-745c01631803",
      "metadata": {
        "id": "915e6b78-d0a3-4440-9d18-745c01631803",
        "outputId": "8c733efb-c733-4044-895b-325cdbf91707"
      },
      "outputs": [
        {
          "name": "stdout",
          "output_type": "stream",
          "text": [
            "a is 30\n"
          ]
        }
      ],
      "source": [
        "a = int(input())\n",
        "if a > 0:\n",
        "    a = a + 10\n",
        "a = a + 10\n",
        "print('a is', a)"
      ]
    },
    {
      "cell_type": "markdown",
      "id": "06bf74f3-0f6f-4744-aba1-41cfce35639a",
      "metadata": {
        "id": "06bf74f3-0f6f-4744-aba1-41cfce35639a"
      },
      "source": [
        "Now, let's see another example. What happens if the input value is `5`, `50`, or `500`?"
      ]
    },
    {
      "cell_type": "code",
      "execution_count": null,
      "id": "b4b03702-8f0d-49ec-87f4-7b0477b117c2",
      "metadata": {
        "id": "b4b03702-8f0d-49ec-87f4-7b0477b117c2",
        "outputId": "e7dd830e-1e71-4372-f74f-e8f79c5ae41d"
      },
      "outputs": [
        {
          "name": "stdout",
          "output_type": "stream",
          "text": [
            "10 is positive!\n"
          ]
        }
      ],
      "source": [
        "val = int(input())\n",
        "if val > 0:\n",
        "    if val > 10:\n",
        "        if val > 100:\n",
        "            print(val, 'is huge!')\n",
        "        print(val, 'is big!')\n",
        "    print(val, 'is positive!')"
      ]
    },
    {
      "cell_type": "markdown",
      "id": "7017db0b-fb84-4cd7-a810-a15f84491721",
      "metadata": {
        "id": "7017db0b-fb84-4cd7-a810-a15f84491721"
      },
      "source": [
        "## if-else\n",
        "\n",
        "We can use `else` after `if` to specify alternative action when the condition does not match.\n",
        "\n",
        "![Flowchart: Else](https://drive.google.com/uc?export=view&id=1kG2QpyFgtbye-bh-J0m0ahurj5FtuLet&__v1)"
      ]
    },
    {
      "cell_type": "markdown",
      "id": "d291760e-8f36-48c6-8a75-e29203405e7d",
      "metadata": {
        "id": "d291760e-8f36-48c6-8a75-e29203405e7d"
      },
      "source": [
        "### Example"
      ]
    },
    {
      "cell_type": "code",
      "execution_count": null,
      "id": "e92c267a-c335-493d-8991-1eaa1e759ece",
      "metadata": {
        "id": "e92c267a-c335-493d-8991-1eaa1e759ece",
        "outputId": "27dd2d64-aee7-47fc-9a02-d48f7987b2cc"
      },
      "outputs": [
        {
          "name": "stdout",
          "output_type": "stream",
          "text": [
            "Your number is not negative.\n"
          ]
        }
      ],
      "source": [
        "number = int(input('Input a number: '))\n",
        "if number < 0:\n",
        "    print('Your number is negative.')\n",
        "else:\n",
        "    print('Your number is not negative.')"
      ]
    },
    {
      "cell_type": "markdown",
      "id": "447571f5-3ec0-444e-b764-6f7888c8f379",
      "metadata": {
        "id": "447571f5-3ec0-444e-b764-6f7888c8f379"
      },
      "source": [
        "## elif\n",
        "\n",
        "We can use `elif` (else if) to specify another conditions and the corresponding actions.\n",
        "\n",
        "![Flowchart: Elif](https://drive.google.com/uc?export=view&id=1fYRThNvwmgksNRBqZ5BHuyZREVr38Yn3&__v1)"
      ]
    },
    {
      "cell_type": "markdown",
      "id": "e7942dc8-143b-4dcf-8bdd-638317af5f83",
      "metadata": {
        "id": "e7942dc8-143b-4dcf-8bdd-638317af5f83"
      },
      "source": [
        "### Example"
      ]
    },
    {
      "cell_type": "code",
      "execution_count": null,
      "id": "86f005e1-ff4d-4598-a031-d410f7a686a0",
      "metadata": {
        "id": "86f005e1-ff4d-4598-a031-d410f7a686a0",
        "outputId": "6d016b46-0b9b-45cb-8b1f-df1fe1506cda"
      },
      "outputs": [
        {
          "name": "stdout",
          "output_type": "stream",
          "text": [
            "Your number is positive.\n"
          ]
        }
      ],
      "source": [
        "number = int(input('Input a number: '))\n",
        "if number < 0:\n",
        "    print('Your number is negative.')\n",
        "elif number == 0:\n",
        "    print('Your number is zero.')\n",
        "else:\n",
        "    print('Your number is positive.')"
      ]
    },
    {
      "cell_type": "markdown",
      "id": "48ff16da-15c1-4f93-970a-e677900b6f28",
      "metadata": {
        "id": "48ff16da-15c1-4f93-970a-e677900b6f28"
      },
      "source": [
        "# Quiz"
      ]
    },
    {
      "cell_type": "markdown",
      "id": "c6c2ea48-e87d-4393-aa33-ee23fdf29a13",
      "metadata": {
        "id": "c6c2ea48-e87d-4393-aa33-ee23fdf29a13"
      },
      "source": [
        "## Quiz 1b\n",
        "\n",
        "What is the output of the following program...\n",
        "\n",
        "1. ...if the input is `4`?\n",
        "2. ...if the input is `-1`?\n",
        "3. ...if the input is `-4`?\n",
        "\n",
        "Try to answer without actually running the code.\n",
        "\n",
        "```python\n",
        "x = int(input())\n",
        "if x % 4 != 0 or x > 0:\n",
        "  print('apple', end='')\n",
        "  if x < 0:\n",
        "    print('banana', end='')\n",
        "elif x % 4 == 0:\n",
        "  print('cherry', end='')  \n",
        "```"
      ]
    },
    {
      "cell_type": "markdown",
      "id": "8e3739ac-87b6-450c-abea-dedbcbfd3144",
      "metadata": {
        "id": "8e3739ac-87b6-450c-abea-dedbcbfd3144"
      },
      "source": [
        "# Exercises"
      ]
    },
    {
      "cell_type": "markdown",
      "id": "827944e1-d5c9-480a-a3f7-953e4cd4e5c1",
      "metadata": {
        "id": "827944e1-d5c9-480a-a3f7-953e4cd4e5c1"
      },
      "source": [
        "## Exercise 1-3\n",
        "\n",
        "Write a program that reads one integer that represents a year, and output `True` or `False` to indicate if it is a leap year or not.\n",
        "\n",
        "- If it is divisible by 4, it is a leap year, \n",
        "  - except if it is divisible by 100, it is not a leap year, \n",
        "  - except if it is divisible by 400, it is a leap year.\n",
        "- Sample input/output:\n",
        "\n",
        "| Input | Output |  | Input | Output |\n",
        "| ---   | ---    |- | ---   | ---    |\n",
        "| 1900  | False  |  | 2000  | True   |\n",
        "| 1924  | True   |  | 2016  | True   |\n",
        "| 1925  | False  |  | 2018  | False  |"
      ]
    },
    {
      "cell_type": "markdown",
      "id": "24aedf79-b0b8-45a2-a13e-44a6665fec8d",
      "metadata": {
        "id": "24aedf79-b0b8-45a2-a13e-44a6665fec8d"
      },
      "source": [
        "# Optional: Match-case (Structural Pattern Matching)\n",
        "\n",
        "Note: this feature is only available in Python 3.10 onwards. As Colab runs code in Python 3.7, you need to test these code in your own environment."
      ]
    },
    {
      "cell_type": "markdown",
      "id": "ddff5205-3a6b-43a1-a039-111c7be11210",
      "metadata": {
        "id": "ddff5205-3a6b-43a1-a039-111c7be11210"
      },
      "source": [
        "## The match construct\n",
        "\n",
        "The **match** construct works in a similar way to a **switch** statement in other programming language, but was meant to be used in a different way.\n",
        "\n",
        "```python\n",
        "a = int(input(\"Please input a number: \"))\n",
        "match a:\n",
        "  case 1:\n",
        "    print(\"It's a one!\")\n",
        "  case 2:\n",
        "    print(\"It's a two!\")\n",
        "  case _:\n",
        "    print(\"It's not one nor two!\")\n",
        "```\n",
        "\n",
        "Reference: <https://www.python.org/dev/peps/pep-0622>"
      ]
    }
  ],
  "metadata": {
    "kernelspec": {
      "display_name": "Python 3.10.6 64-bit",
      "language": "python",
      "name": "python3"
    },
    "language_info": {
      "codemirror_mode": {
        "name": "ipython",
        "version": 3
      },
      "file_extension": ".py",
      "mimetype": "text/x-python",
      "name": "python",
      "nbconvert_exporter": "python",
      "pygments_lexer": "ipython3",
      "version": "3.10.6"
    },
    "vscode": {
      "interpreter": {
        "hash": "bd5508c2ffc7f17f7d31cf4086cc872f89e96996a08987e995649e5fbe85a3a4"
      }
    },
    "colab": {
      "name": "01b.Branching.ipynb",
      "provenance": [],
      "collapsed_sections": [],
      "include_colab_link": true
    }
  },
  "nbformat": 4,
  "nbformat_minor": 5
}