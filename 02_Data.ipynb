{
  "cells": [
    {
      "cell_type": "markdown",
      "metadata": {
        "id": "view-in-github",
        "colab_type": "text"
      },
      "source": [
        "<a href=\"https://colab.research.google.com/github/zengmmm00/DASC_PRE_PYTHON/blob/main/02_Data.ipynb\" target=\"_parent\"><img src=\"https://colab.research.google.com/assets/colab-badge.svg\" alt=\"Open In Colab\"/></a>"
      ]
    },
    {
      "cell_type": "markdown",
      "id": "b32c9602-8c06-44fa-a0b5-e9bb25a399e3",
      "metadata": {
        "tags": [],
        "id": "b32c9602-8c06-44fa-a0b5-e9bb25a399e3"
      },
      "source": [
        "> **Python workshop - 2. Data**"
      ]
    },
    {
      "cell_type": "markdown",
      "id": "3b0cfe09-b52c-4a0b-b14a-431a9a646e1e",
      "metadata": {
        "tags": [],
        "id": "3b0cfe09-b52c-4a0b-b14a-431a9a646e1e"
      },
      "source": [
        "# Tuple\n",
        "\n",
        "When we define a list of values separated by **comma**, Python creates a tuple for us."
      ]
    },
    {
      "cell_type": "code",
      "execution_count": null,
      "id": "ac07bb24-347a-4896-a06a-11489e822b17",
      "metadata": {
        "id": "ac07bb24-347a-4896-a06a-11489e822b17",
        "outputId": "0e622cc8-df32-40b0-a914-e821e7ade4c5"
      },
      "outputs": [
        {
          "name": "stdout",
          "output_type": "stream",
          "text": [
            "(1, 2, 3)\n"
          ]
        }
      ],
      "source": [
        "myTuple = 1, 2, 3\n",
        "print(myTuple)"
      ]
    },
    {
      "cell_type": "markdown",
      "id": "970f16eb-b01c-4ac7-b692-1366691ef261",
      "metadata": {
        "id": "970f16eb-b01c-4ac7-b692-1366691ef261"
      },
      "source": [
        "As seen from the output of the code above, a tuple could be represented by list of values in a pair of brackets `()`. "
      ]
    },
    {
      "cell_type": "markdown",
      "id": "82ef1e1a-1e56-4e8c-a455-b3ebd2bc6544",
      "metadata": {
        "tags": [],
        "id": "82ef1e1a-1e56-4e8c-a455-b3ebd2bc6544"
      },
      "source": [
        "## Accessing Tuple values\n",
        "\n",
        "Tuple is very useful when we need to manage **sequence** of values. To access a particular value in a tuple, we use the `[]` operator."
      ]
    },
    {
      "cell_type": "code",
      "execution_count": null,
      "id": "9ca8cd83-dc7b-463e-9d64-572f087be3ad",
      "metadata": {
        "id": "9ca8cd83-dc7b-463e-9d64-572f087be3ad",
        "outputId": "bd2b66a9-fc78-4e8d-ee26-97c4d0ebeed6"
      },
      "outputs": [
        {
          "name": "stdout",
          "output_type": "stream",
          "text": [
            "First value is  1\n",
            "Last value is  3\n"
          ]
        }
      ],
      "source": [
        "myTuple = (1, 2, 3)\n",
        "print(\"First value is \", myTuple[0])\n",
        "print(\"Last value is \", myTuple[2])"
      ]
    },
    {
      "cell_type": "markdown",
      "id": "cee39b2d-7901-41a0-89ad-59e1a12d19a7",
      "metadata": {
        "id": "cee39b2d-7901-41a0-89ad-59e1a12d19a7"
      },
      "source": [
        "A technique called **slicing** allow us to access a range of values in a tuple."
      ]
    },
    {
      "cell_type": "code",
      "execution_count": null,
      "id": "9440c7c1-0fc6-4829-915d-7b5f1a26e89b",
      "metadata": {
        "id": "9440c7c1-0fc6-4829-915d-7b5f1a26e89b",
        "outputId": "54f45041-909f-4735-a4d8-e52293587f74"
      },
      "outputs": [
        {
          "name": "stdout",
          "output_type": "stream",
          "text": [
            "The middle part of the tuple is  (2, 3, 4)\n"
          ]
        }
      ],
      "source": [
        "myTuple = (1, 2, 3, 4, 5)\n",
        "print(\"The middle part of the tuple is \", myTuple[1:4])"
      ]
    },
    {
      "cell_type": "markdown",
      "id": "52c2aa53-d722-40b3-9181-28a9a44b65dc",
      "metadata": {
        "tags": [],
        "id": "52c2aa53-d722-40b3-9181-28a9a44b65dc"
      },
      "source": [
        "## Tuple and for-loop\n",
        "\n",
        "We could **iterate** through a tuple using for-loop."
      ]
    },
    {
      "cell_type": "code",
      "execution_count": null,
      "id": "40f63267-f746-402d-9bf9-a52041917382",
      "metadata": {
        "id": "40f63267-f746-402d-9bf9-a52041917382",
        "outputId": "d8b02331-3ac0-4394-91b9-4aa03014cef1"
      },
      "outputs": [
        {
          "name": "stdout",
          "output_type": "stream",
          "text": [
            "1\n",
            "2\n",
            "3\n"
          ]
        }
      ],
      "source": [
        "myTuple = (1, 2, 3)\n",
        "for i in myTuple:\n",
        "  print(i)"
      ]
    },
    {
      "cell_type": "markdown",
      "id": "0359d124-a3b9-4c15-a780-d31f05354d5a",
      "metadata": {
        "tags": [],
        "id": "0359d124-a3b9-4c15-a780-d31f05354d5a"
      },
      "source": [
        "## Tuple is immutable\n",
        "\n",
        "Tuple is **immutable**, even though we can access a particular value of a tuple, we cannot modify it."
      ]
    },
    {
      "cell_type": "code",
      "execution_count": null,
      "id": "ccf00d0b-76aa-4c17-b54b-8cadbc4e2b8b",
      "metadata": {
        "id": "ccf00d0b-76aa-4c17-b54b-8cadbc4e2b8b"
      },
      "outputs": [],
      "source": [
        "myTuple = (1, 2, 3)\n",
        "myTuple[1] = 4 # Error!"
      ]
    },
    {
      "cell_type": "markdown",
      "id": "72f61d8c-003f-438c-bd9a-877f8ae761d0",
      "metadata": {
        "tags": [],
        "id": "72f61d8c-003f-438c-bd9a-877f8ae761d0"
      },
      "source": [
        "## String vs. tuple of characters\n",
        "\n",
        "A string has the behaviour of a tuple (of characters).  "
      ]
    },
    {
      "cell_type": "code",
      "execution_count": null,
      "id": "1d7b482b-dfb8-4a13-986f-850e5772bac2",
      "metadata": {
        "id": "1d7b482b-dfb8-4a13-986f-850e5772bac2"
      },
      "outputs": [],
      "source": [
        "myStr = \"abcde\"\n",
        "print(\"First character is\", myStr[0])\n",
        "print(\"Substring: \", myStr[1:4])\n",
        "myStr[1] = 'X' # Error!"
      ]
    },
    {
      "cell_type": "markdown",
      "id": "fd34713c-9306-4794-a382-ad18eb5f922c",
      "metadata": {
        "tags": [],
        "id": "fd34713c-9306-4794-a382-ad18eb5f922c"
      },
      "source": [
        "## Immutable data type\n",
        "\n",
        "We have seen many different data types already. Boolean, integer, floating point number, string, and tuple are all immutable data type. \n",
        "\n",
        "When values of these data type are used, they could not be changed. \n",
        "E.g., value 1 is always 1, string \"Hello\" is always \"Hello\", `(1, 2, 3)` will always be `(1, 2, 3)`. \n",
        "\n",
        "```python\n",
        "a = 1\n",
        "b = \"Hello\"\n",
        "c = (1, 2, 3)\n",
        "```\n",
        "\n",
        "There is no way to change the values to something else without re-assigning new values."
      ]
    },
    {
      "cell_type": "markdown",
      "id": "5461e1f5-faf7-411e-b520-a81476f6fa0c",
      "metadata": {
        "tags": [],
        "id": "5461e1f5-faf7-411e-b520-a81476f6fa0c"
      },
      "source": [
        "# List\n",
        "\n",
        "**List** could be considered as a mutable Tuple\n",
        "\n",
        "List is defined using `[]`. It works like a tuple but it is mutable."
      ]
    },
    {
      "cell_type": "code",
      "execution_count": null,
      "id": "066dadcf-b7b2-498f-a981-89aa112482a2",
      "metadata": {
        "id": "066dadcf-b7b2-498f-a981-89aa112482a2",
        "outputId": "67145f95-eebc-42ab-95be-1b93b3d5e6dd"
      },
      "outputs": [
        {
          "name": "stdout",
          "output_type": "stream",
          "text": [
            "[1, 4, 3]\n"
          ]
        }
      ],
      "source": [
        "myList = [1, 2, 3]\n",
        "myList[1] = 4\n",
        "print(myList) # gives [1, 4, 3]"
      ]
    },
    {
      "cell_type": "markdown",
      "id": "f4674006-96d1-45d1-ba80-ef1583c12d78",
      "metadata": {
        "tags": [],
        "id": "f4674006-96d1-45d1-ba80-ef1583c12d78"
      },
      "source": [
        "## Mutable reference\n",
        "\n",
        "Data structures like List is stored as a reference. \n",
        "The same list may be accessed by different variables."
      ]
    },
    {
      "cell_type": "code",
      "execution_count": null,
      "id": "3b89693f-e0ef-4a58-8de9-a94c3de34fec",
      "metadata": {
        "id": "3b89693f-e0ef-4a58-8de9-a94c3de34fec",
        "outputId": "cb205867-cccf-4650-db10-e70aaf355849"
      },
      "outputs": [
        {
          "name": "stdout",
          "output_type": "stream",
          "text": [
            "[1, 4, 3]\n"
          ]
        }
      ],
      "source": [
        "myList1 = [1, 2, 3]\n",
        "myList2 = myList1\n",
        "myList1[1] = 4\n",
        "print(myList2) # gives [1, 4, 3]"
      ]
    },
    {
      "cell_type": "markdown",
      "id": "ae06fb3b-3b99-4f33-82be-f9cf5d401c2c",
      "metadata": {
        "id": "ae06fb3b-3b99-4f33-82be-f9cf5d401c2c"
      },
      "source": [
        "It is important to understanding the behaviour when data structure is used in a program."
      ]
    },
    {
      "cell_type": "markdown",
      "id": "6ca552e7-0102-4ef2-abef-1edc5479660f",
      "metadata": {
        "tags": [],
        "id": "6ca552e7-0102-4ef2-abef-1edc5479660f"
      },
      "source": [
        "## Data Structures\n",
        "\n",
        "Here is a list of commonly used data structures:\n",
        "- **Tuple** `(1, 2, 3)`\n",
        "  - Immutable list of values.\n",
        "- **List** `[1, 2, 3]`\n",
        "  - List of values, in a specific order.\n",
        "- **Dictionary** `{'a': 1, 'b': 2, 'c': 3}`\n",
        "  - Unordered key-value pairs.\n",
        "- **Set** `{1, 2, 3}`\n",
        "  - Unordered collection of unique values."
      ]
    },
    {
      "cell_type": "markdown",
      "id": "21e91188-fa1d-4891-8502-29df709190c6",
      "metadata": {
        "tags": [],
        "id": "21e91188-fa1d-4891-8502-29df709190c6"
      },
      "source": [
        "# Self-learning topics\n",
        "\n",
        "Tuples\n",
        "- Tuples\n",
        "- Optional: Generator expressions\n",
        "\n",
        "Strings\n",
        "- Strings\n",
        "- Optional: String construction and character coding\n",
        "\n",
        "Lists\n",
        "- Lists\n",
        "- Optional: Advanced list operations\n",
        "- Working with mutable values"
      ]
    },
    {
      "cell_type": "markdown",
      "id": "41794796-3eaf-43cd-8f74-12e8fbde23c4",
      "metadata": {
        "tags": [],
        "id": "41794796-3eaf-43cd-8f74-12e8fbde23c4"
      },
      "source": [
        "These could be skipped if you need to catch up with the progress:\n",
        "\n",
        "Dictionaries\n",
        "- Dictionaries\n",
        "- Optional: Sets\n",
        "\n",
        "F-String\n",
        "- F-String"
      ]
    }
  ],
  "metadata": {
    "kernelspec": {
      "display_name": "Python 3",
      "language": "python",
      "name": "python3"
    },
    "language_info": {
      "codemirror_mode": {
        "name": "ipython",
        "version": 3
      },
      "file_extension": ".py",
      "mimetype": "text/x-python",
      "name": "python",
      "nbconvert_exporter": "python",
      "pygments_lexer": "ipython3",
      "version": "3.10.6"
    },
    "vscode": {
      "interpreter": {
        "hash": "bd5508c2ffc7f17f7d31cf4086cc872f89e96996a08987e995649e5fbe85a3a4"
      }
    },
    "colab": {
      "name": "02.Data.ipynb",
      "provenance": [],
      "include_colab_link": true
    }
  },
  "nbformat": 4,
  "nbformat_minor": 5
}