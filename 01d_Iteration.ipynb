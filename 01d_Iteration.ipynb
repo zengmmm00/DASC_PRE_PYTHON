{
  "cells": [
    {
      "cell_type": "markdown",
      "metadata": {
        "id": "view-in-github",
        "colab_type": "text"
      },
      "source": [
        "<a href=\"https://colab.research.google.com/github/zengmmm00/DASC_PRE_PYTHON/blob/main/01d_Iteration.ipynb\" target=\"_parent\"><img src=\"https://colab.research.google.com/assets/colab-badge.svg\" alt=\"Open In Colab\"/></a>"
      ]
    },
    {
      "cell_type": "markdown",
      "id": "d8a6b6f8-046b-4a22-902d-d2df25f7f49f",
      "metadata": {
        "id": "d8a6b6f8-046b-4a22-902d-d2df25f7f49f"
      },
      "source": [
        "> _Self-learning material_  \n",
        "> **Python workshop - 1d. Iteration**\n",
        ">\n",
        "> Iteration allow code to be executed on a sequence. It could be a sequence of consecutive values, or a sequence in a pre-defined list. In Python, we uses **for-loop** to iterate through a sequence of values. "
      ]
    },
    {
      "cell_type": "markdown",
      "id": "d57a6216-3f49-4dee-a2c7-7524d0b595c2",
      "metadata": {
        "id": "d57a6216-3f49-4dee-a2c7-7524d0b595c2"
      },
      "source": [
        "# for-loop"
      ]
    },
    {
      "cell_type": "markdown",
      "id": "6895039c-1795-4195-b469-c9071329b16e",
      "metadata": {
        "id": "6895039c-1795-4195-b469-c9071329b16e"
      },
      "source": [
        "## for-loop with `range()`\n",
        "\n",
        "**For-loop** can be used to iterate through a list of values. A list of values can be generated using the `range()` function."
      ]
    },
    {
      "cell_type": "code",
      "execution_count": null,
      "id": "811ee358-c45e-4f92-a223-245b02f5b092",
      "metadata": {
        "id": "811ee358-c45e-4f92-a223-245b02f5b092",
        "outputId": "fe10d703-db0b-49cd-ec6a-a82e21c3fbb1"
      },
      "outputs": [
        {
          "name": "stdout",
          "output_type": "stream",
          "text": [
            "Sum from 0 to 9 is 45\n"
          ]
        }
      ],
      "source": [
        "sum = 0\n",
        "for i in range(10):\n",
        "    sum += i\n",
        "\n",
        "print('Sum from 0 to 9 is', sum)"
      ]
    },
    {
      "cell_type": "markdown",
      "id": "5d2e7e2e-d1e7-4d84-b63d-a9177b0363f8",
      "metadata": {
        "id": "5d2e7e2e-d1e7-4d84-b63d-a9177b0363f8"
      },
      "source": [
        "- Needless to say, judging from indentation, there is only one statement in the for-loop above.\n",
        "- `range(10)` will generate a list of values from `0` up to but not including `10`.\n",
        "- `for i in ...` specify that in each iteration of the loop, variable `i` will be used to keep the current value. Therefore, when `sum += i` is executed the first time, `i` equals `0`.\n",
        "- The statement `sum += i` will therefore be executed 10 times, each with a different value of `i`."
      ]
    },
    {
      "cell_type": "markdown",
      "id": "484c3b5c-8867-4784-9f94-4a6731e6233d",
      "metadata": {
        "id": "484c3b5c-8867-4784-9f94-4a6731e6233d"
      },
      "source": [
        "# `range()`"
      ]
    },
    {
      "cell_type": "markdown",
      "id": "c420a657-119d-49e1-b8d8-ccbabbe707ed",
      "metadata": {
        "id": "c420a657-119d-49e1-b8d8-ccbabbe707ed"
      },
      "source": [
        "## `range(n)`\n",
        "\n",
        "The `range()` function could be used in many ways. The first form is already shown in the previous example: `range(n)` with one argument `n` generates a list of integer starting from `0`, up to but not including `n`. "
      ]
    },
    {
      "cell_type": "code",
      "execution_count": null,
      "id": "ab4b5a67-ef48-423d-9d43-f4ffa555c749",
      "metadata": {
        "id": "ab4b5a67-ef48-423d-9d43-f4ffa555c749",
        "outputId": "70520c84-93bd-455b-e42e-3ac4f2e7da18"
      },
      "outputs": [
        {
          "name": "stdout",
          "output_type": "stream",
          "text": [
            "Sum from 0 to 9 is 45\n"
          ]
        }
      ],
      "source": [
        "sum = 0\n",
        "for i in range( 10 ):\n",
        "    sum += i\n",
        "print('Sum from 0 to 9 is', sum)"
      ]
    },
    {
      "cell_type": "markdown",
      "id": "32cd39ff-0c8c-49b0-ad7f-e3e4aea647aa",
      "metadata": {
        "id": "32cd39ff-0c8c-49b0-ad7f-e3e4aea647aa"
      },
      "source": [
        "## `range(start, end)`\n",
        "\n",
        "- If you need a range **starting** from a specific value, you can specify start and stop values instead.\n",
        "- Start value is inclusive but end value is exclusive. So `range(1, 10)` will generate values `1` to `9`. For example:"
      ]
    },
    {
      "cell_type": "code",
      "execution_count": null,
      "id": "72046ddd-2a7d-47e6-8c71-eb05bcdb5462",
      "metadata": {
        "id": "72046ddd-2a7d-47e6-8c71-eb05bcdb5462",
        "outputId": "2bf8b329-540a-4b2a-85de-ebba94bd069f"
      },
      "outputs": [
        {
          "name": "stdout",
          "output_type": "stream",
          "text": [
            "Sum from 5 to 9 is 35\n"
          ]
        }
      ],
      "source": [
        "sum = 0\n",
        "for i in range(5, 10):\n",
        "    sum += i\n",
        "print('Sum from 5 to 9 is', sum)"
      ]
    },
    {
      "cell_type": "markdown",
      "id": "df6b1a75-d92c-4f93-a8e0-c9136d80fd03",
      "metadata": {
        "id": "df6b1a75-d92c-4f93-a8e0-c9136d80fd03"
      },
      "source": [
        "## `range(start, end, step)`\n",
        "\n",
        "- The optional third parameter of range can be added to specify the **step** between consecutive values in the sequence.\n",
        "- So `range(1, 10, 2)` will generate a list of odd numbers from `1` to `9`."
      ]
    },
    {
      "cell_type": "code",
      "execution_count": null,
      "id": "ece872c0-3d58-402b-900c-5652cd11cf08",
      "metadata": {
        "id": "ece872c0-3d58-402b-900c-5652cd11cf08",
        "outputId": "6ac8bbc6-6ef5-403e-f650-bd923949f56a"
      },
      "outputs": [
        {
          "name": "stdout",
          "output_type": "stream",
          "text": [
            "Sum of all odd numbers from 1 to 9 is 25\n"
          ]
        }
      ],
      "source": [
        "sum = 0\n",
        "for i in range(1, 10, 2):\n",
        "    sum += i\n",
        "print('Sum of all odd numbers from 1 to 9 is', sum)"
      ]
    },
    {
      "cell_type": "markdown",
      "id": "fa9041ac-ebd0-416d-be5a-3492132a4019",
      "metadata": {
        "id": "fa9041ac-ebd0-416d-be5a-3492132a4019"
      },
      "source": [
        "## Negative range\n",
        "\n",
        "All parameter in `range()` can be negative. For example:"
      ]
    },
    {
      "cell_type": "code",
      "execution_count": null,
      "id": "362cb32e-2ffb-4eb9-874c-690c9bb590ec",
      "metadata": {
        "id": "362cb32e-2ffb-4eb9-874c-690c9bb590ec",
        "outputId": "bc1fbe1f-2cec-4fe8-e912-02e56b320818"
      },
      "outputs": [
        {
          "name": "stdout",
          "output_type": "stream",
          "text": [
            "-1\n",
            "-2\n",
            "-3\n",
            "-4\n"
          ]
        }
      ],
      "source": [
        "for i in range(-1, -5, -1):\n",
        "    print(i)"
      ]
    },
    {
      "cell_type": "markdown",
      "id": "02b0ca70-f207-43f5-abd9-14c4be25664c",
      "metadata": {
        "id": "02b0ca70-f207-43f5-abd9-14c4be25664c"
      },
      "source": [
        "# Quiz"
      ]
    },
    {
      "cell_type": "markdown",
      "id": "5db0a7fa-152c-4f08-ad98-0ac4d052b2a2",
      "metadata": {
        "id": "5db0a7fa-152c-4f08-ad98-0ac4d052b2a2"
      },
      "source": [
        "## Quiz 1d\n",
        "\n",
        "What is the output of the following program...\n",
        "\n",
        "1. ...if the input is `1`?\n",
        "2. ...if the input is `-1`?\n",
        "\n",
        "Try to answer without running the code.\n",
        "\n",
        "```python\n",
        "x = int(input())\n",
        "for i in range(1, x * 10, x * 2):\n",
        "  print(i, end=\"\")\n",
        "```"
      ]
    },
    {
      "cell_type": "markdown",
      "id": "6e7c07f9-fab2-4db7-897c-3087890fa6ee",
      "metadata": {
        "id": "6e7c07f9-fab2-4db7-897c-3087890fa6ee"
      },
      "source": [
        "# Exercises"
      ]
    },
    {
      "cell_type": "markdown",
      "id": "2687f997-d3b7-4d3a-8112-2c11fc7ea878",
      "metadata": {
        "id": "2687f997-d3b7-4d3a-8112-2c11fc7ea878"
      },
      "source": [
        "## Exercise 1-5 (VPL available)\n",
        "\n",
        "- Write a program that reads one integer as `n`, then print the first `n` fibonacci numbers.\n",
        "- First two Fibonacci numbers are `0` and `1`, and the third onwards equal to the sum of the two previous number.\n",
        "- For example if the input is `5`, the output should be `0 1 1 2 3`.\n",
        "- Sample input/output:\n",
        "\n",
        "| Input | Output |\n",
        "| ---   | ---    |\n",
        "| 5     | 0 1 1 2 3 |\n",
        "| 7     | 0 1 1 2 3 5 8 |\n",
        "| 10    | 0 1 1 2 3 5 8 13 21 34 | "
      ]
    },
    {
      "cell_type": "markdown",
      "id": "fa8e7fee-ca71-4ee1-b987-6a8db5f7a0f1",
      "metadata": {
        "id": "fa8e7fee-ca71-4ee1-b987-6a8db5f7a0f1"
      },
      "source": [
        "## Exercise 1-6\n",
        "\n",
        "- Write a program that reads one integer as `n`, then print all prime numbers less than or equal to `n`.\n",
        "- For example if the input is `5`, the output should be `2 3 5`.\n",
        "- Sample input/output:\n",
        "\n",
        "| Input | Output |\n",
        "| ---   | ---    |\n",
        "| 5     | 2 3 5 |\n",
        "| 10    | 2 3 5 7 |\n",
        "| 25    | 2 3 5 7 11 13 17 19 23 |"
      ]
    },
    {
      "cell_type": "markdown",
      "id": "41dc6e56-86b1-44e9-bca0-3c6e39b1c8fb",
      "metadata": {
        "id": "41dc6e56-86b1-44e9-bca0-3c6e39b1c8fb"
      },
      "source": [
        "# Optional: Advanced loop controls on Nested loop"
      ]
    },
    {
      "cell_type": "markdown",
      "id": "0462f5d1-737a-48ed-a9d6-ebe504d70a31",
      "metadata": {
        "id": "0462f5d1-737a-48ed-a9d6-ebe504d70a31"
      },
      "source": [
        "It is possible to combine the use of `else` and `continue` to break two levels of loop.\n",
        "\n",
        "```python\n",
        "for p in range(4):\n",
        "    for q in range(4):\n",
        "        if p + q > 1:\n",
        "            print(p, q)\n",
        "            break\n",
        "    else:\n",
        "        continue\n",
        "    break\n",
        "```\n",
        "\n",
        "What happens if the `break` in the inner loop is executed? Here is the corresponding flow chart.\n",
        "\n",
        "![Flowchart: Break-continue-else](https://drive.google.com/uc?export=view&id=1K27OHjXknVT0_SEwXS5prlazM3EQRDVA&__v1)"
      ]
    },
    {
      "cell_type": "markdown",
      "id": "beb0e841-6cfc-401b-8d07-935051fc182c",
      "metadata": {
        "id": "beb0e841-6cfc-401b-8d07-935051fc182c"
      },
      "source": [
        "Try it yourself:"
      ]
    },
    {
      "cell_type": "code",
      "execution_count": null,
      "id": "f6d227c7-37fd-4ca6-a918-aa2f9cbbb9f9",
      "metadata": {
        "id": "f6d227c7-37fd-4ca6-a918-aa2f9cbbb9f9",
        "outputId": "0d77063d-f6a5-49f4-ed68-742bf21555e5"
      },
      "outputs": [
        {
          "name": "stdout",
          "output_type": "stream",
          "text": [
            "0 2\n"
          ]
        }
      ],
      "source": [
        "for p in range(4):\n",
        "    for q in range(4):\n",
        "        if p + q > 1:\n",
        "            print(p, q)\n",
        "            break\n",
        "    else:\n",
        "        continue\n",
        "    break"
      ]
    },
    {
      "cell_type": "markdown",
      "id": "700e51b9-35ab-4834-a961-c19f74ed4fb3",
      "metadata": {
        "id": "700e51b9-35ab-4834-a961-c19f74ed4fb3"
      },
      "source": [
        "- When `break` in the inner loop is not executed, `else` will be executed.\n",
        "    - If `else` is exectued, `continue` is executed, the final `break` will be skipped.\n",
        "- When `break` in the inner loop is executed, `else` will not be executed.\n",
        "    - If `else` is not exectued, the final `break` will be executed and ends the loop."
      ]
    },
    {
      "cell_type": "markdown",
      "id": "359aab4b-1f10-4ccd-822b-9188afa91d9d",
      "metadata": {
        "id": "359aab4b-1f10-4ccd-822b-9188afa91d9d"
      },
      "source": [
        "## Final words\n",
        "\n",
        "- As seen in the last example, it is not easy to quickly read and understand the code.\n",
        "  - `break`, `continue`, and `else` are handy tools, \n",
        "  but they also introduce complex control flow to a program. \n",
        "- Consider re-organizing your code if you need to use multiple `break`/`continue`.\n",
        "  - Write commments when needed."
      ]
    }
  ],
  "metadata": {
    "kernelspec": {
      "display_name": "Python 3.10.6 64-bit",
      "language": "python",
      "name": "python3"
    },
    "language_info": {
      "codemirror_mode": {
        "name": "ipython",
        "version": 3
      },
      "file_extension": ".py",
      "mimetype": "text/x-python",
      "name": "python",
      "nbconvert_exporter": "python",
      "pygments_lexer": "ipython3",
      "version": "3.10.6"
    },
    "vscode": {
      "interpreter": {
        "hash": "bd5508c2ffc7f17f7d31cf4086cc872f89e96996a08987e995649e5fbe85a3a4"
      }
    },
    "colab": {
      "name": "01d.Iteration.ipynb",
      "provenance": [],
      "include_colab_link": true
    }
  },
  "nbformat": 4,
  "nbformat_minor": 5
}