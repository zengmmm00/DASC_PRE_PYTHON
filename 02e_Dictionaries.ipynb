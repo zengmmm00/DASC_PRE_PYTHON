{
  "cells": [
    {
      "cell_type": "markdown",
      "metadata": {
        "id": "view-in-github",
        "colab_type": "text"
      },
      "source": [
        "<a href=\"https://colab.research.google.com/github/zengmmm00/DASC_PRE_PYTHON/blob/main/02e_Dictionaries.ipynb\" target=\"_parent\"><img src=\"https://colab.research.google.com/assets/colab-badge.svg\" alt=\"Open In Colab\"/></a>"
      ]
    },
    {
      "cell_type": "markdown",
      "id": "673364a9-6401-456e-a309-959e3e10419f",
      "metadata": {
        "id": "673364a9-6401-456e-a309-959e3e10419f"
      },
      "source": [
        "> _Self-learning material_  \n",
        "> **Python workship - 2e. Dictionaries**\n",
        "> \n",
        "> This section is semi-optional. You may skip this set of notes to catch up with the progress."
      ]
    },
    {
      "cell_type": "markdown",
      "id": "b4ada138-6907-42ce-b325-63d032f9399f",
      "metadata": {
        "id": "b4ada138-6907-42ce-b325-63d032f9399f"
      },
      "source": [
        "# Dictionaries\n",
        "\n",
        "A dictionary is a list with **key-value** pairs. Values are accessed by the key instead of an index."
      ]
    },
    {
      "cell_type": "code",
      "execution_count": null,
      "id": "6d97324c-520a-486d-bd21-185a1c96263c",
      "metadata": {
        "id": "6d97324c-520a-486d-bd21-185a1c96263c",
        "outputId": "a24873a2-070b-484f-f30c-d2ba0dc7159d"
      },
      "outputs": [
        {
          "name": "stdout",
          "output_type": "stream",
          "text": [
            "d['a'] is 1\n",
            "d['b'] is 2\n",
            "d['c'] is 3\n"
          ]
        }
      ],
      "source": [
        "d = {'a': 1, 'b': 2, 'c': 3}\n",
        "print(\"d['a'] is\", d['a'])\n",
        "print(\"d['b'] is\", d['b'])\n",
        "print(\"d['c'] is\", d['c'])"
      ]
    },
    {
      "cell_type": "markdown",
      "id": "cfe455ae-02ca-456c-9d8e-a2b07e0d230e",
      "metadata": {
        "id": "cfe455ae-02ca-456c-9d8e-a2b07e0d230e"
      },
      "source": [
        "## Dictionary key\n",
        "\n",
        "Any hashable value could be used as a key. All fully immutable values are hashable.\n",
        "\n",
        "```python\n",
        "myDict1 = { True: 'boolean', 1: 'integer', 2.3: 'floating'}\n",
        "myDict2 = {'str': 'string', (1,2): 'tuple'}\n",
        "```"
      ]
    },
    {
      "cell_type": "markdown",
      "id": "901e4343-11da-4ada-b4d3-891d9cc08eca",
      "metadata": {
        "id": "901e4343-11da-4ada-b4d3-891d9cc08eca"
      },
      "source": [
        "## Partially immutable value\n",
        "\n",
        "Note that although Tuple is immutable, but it could hold mutable values."
      ]
    },
    {
      "cell_type": "code",
      "execution_count": null,
      "id": "0462753b-8d20-4249-b305-01bbcd716196",
      "metadata": {
        "id": "0462753b-8d20-4249-b305-01bbcd716196",
        "outputId": "3bde9c06-9501-4392-c574-063504011d84"
      },
      "outputs": [
        {
          "name": "stdout",
          "output_type": "stream",
          "text": [
            "b is (1, [3, 2])\n"
          ]
        }
      ],
      "source": [
        "a = [1, 2]\n",
        "b = (1, a)\n",
        "a[0] = 3\n",
        "print('b is', b)"
      ]
    },
    {
      "cell_type": "markdown",
      "id": "0c454c97-b03c-4536-9ed5-90019a82ed6b",
      "metadata": {
        "id": "0c454c97-b03c-4536-9ed5-90019a82ed6b"
      },
      "source": [
        "In this case, if we modify values in `a`, the content of `b` will be modified.  Therefore, `b` is not fully immutable and thus it could not be used as a key in a dictionary."
      ]
    },
    {
      "cell_type": "markdown",
      "id": "d2571272-b52a-4228-b39c-6489daf5fd05",
      "metadata": {
        "id": "d2571272-b52a-4228-b39c-6489daf5fd05"
      },
      "source": [
        "## `in` operator\n",
        "\n",
        "Recall that the `in` operator can check if an item is in a list/tuple."
      ]
    },
    {
      "cell_type": "code",
      "execution_count": null,
      "id": "f3077b55-3e75-47e2-a8ac-f004fff6a8b1",
      "metadata": {
        "id": "f3077b55-3e75-47e2-a8ac-f004fff6a8b1",
        "outputId": "90893925-2df5-45ba-831f-715063e0f504"
      },
      "outputs": [
        {
          "name": "stdout",
          "output_type": "stream",
          "text": [
            "apple is in fruits!\n"
          ]
        }
      ],
      "source": [
        "fruits = [\"apple\", \"orange\", \"banana\"]\n",
        "if \"apple\" in fruits:\n",
        "    print('apple is in fruits!')\n",
        "if \"tomato\" in fruits:\n",
        "    print('tomato is in fruits!')    "
      ]
    },
    {
      "cell_type": "markdown",
      "id": "50db4b93-112a-47a5-9d28-86b1ec64bc51",
      "metadata": {
        "id": "50db4b93-112a-47a5-9d28-86b1ec64bc51"
      },
      "source": [
        "For dictionary, the `in` operator checks the key instead."
      ]
    },
    {
      "cell_type": "code",
      "execution_count": null,
      "id": "bb77b323-dd69-4858-9de7-4be33f562bb4",
      "metadata": {
        "id": "bb77b323-dd69-4858-9de7-4be33f562bb4",
        "outputId": "aab79809-706d-4896-cb6f-a27fbc94efb1"
      },
      "outputs": [
        {
          "name": "stdout",
          "output_type": "stream",
          "text": [
            "apple is in fruits!\n"
          ]
        }
      ],
      "source": [
        "fruits = {'apple': 100, 'orange': 200, 'banana': 300}\n",
        "if \"apple\" in fruits:\n",
        "    print('apple is in fruits!')\n",
        "if \"tomato\" in fruits:\n",
        "    print('tomato is in fruits!')    "
      ]
    },
    {
      "cell_type": "markdown",
      "id": "4ea0a70e-19eb-47a6-8433-29a450e13f80",
      "metadata": {
        "id": "4ea0a70e-19eb-47a6-8433-29a450e13f80"
      },
      "source": [
        "## for-loop of dictionary\n",
        "\n",
        "Similarly when **for-loop** is used on a dictionary, the key is used instead of values."
      ]
    },
    {
      "cell_type": "code",
      "execution_count": null,
      "id": "a6881f3e-cad3-4bb6-b1b6-040a50539d37",
      "metadata": {
        "id": "a6881f3e-cad3-4bb6-b1b6-040a50539d37",
        "outputId": "33523e4c-530b-4859-8513-834139d1096f"
      },
      "outputs": [
        {
          "name": "stdout",
          "output_type": "stream",
          "text": [
            "apple 100\n",
            "orange 200\n",
            "banana 300\n"
          ]
        }
      ],
      "source": [
        "fruits = {'apple': 100, 'orange': 200, 'banana': 300}\n",
        "for f in fruits:\n",
        "    print(f, fruits[f])"
      ]
    },
    {
      "cell_type": "markdown",
      "id": "0eecbb8b-619e-4b98-924d-911426507ee5",
      "metadata": {
        "id": "0eecbb8b-619e-4b98-924d-911426507ee5"
      },
      "source": [
        "## Views of a dictionary\n",
        "\n",
        "We can get the **key view** or **value view** of a dictionary using `keys()` and `values()`. The results can then be used like a list/tuple in a loop."
      ]
    },
    {
      "cell_type": "code",
      "execution_count": null,
      "id": "eb86f433-d65c-4bba-a1d0-a3b0094f294d",
      "metadata": {
        "id": "eb86f433-d65c-4bba-a1d0-a3b0094f294d",
        "outputId": "fd73b268-f0bc-4b7a-df5e-57f007558a2d"
      },
      "outputs": [
        {
          "name": "stdout",
          "output_type": "stream",
          "text": [
            "dict_keys(['apple', 'orange', 'banana'])\n"
          ]
        }
      ],
      "source": [
        "fruits = {'apple': 100, 'orange': 200, 'banana': 300}\n",
        "print(fruits.keys())"
      ]
    },
    {
      "cell_type": "code",
      "execution_count": null,
      "id": "a03bd85a-5059-446b-823c-faa15a64c15f",
      "metadata": {
        "id": "a03bd85a-5059-446b-823c-faa15a64c15f",
        "outputId": "243a9993-c2ca-463c-d424-0de0d45b715f"
      },
      "outputs": [
        {
          "name": "stdout",
          "output_type": "stream",
          "text": [
            "dict_values([100, 200, 300])\n"
          ]
        }
      ],
      "source": [
        "print(fruits.values())"
      ]
    },
    {
      "cell_type": "markdown",
      "id": "843c841f-b8db-4bb8-a888-42f5da89563c",
      "metadata": {
        "id": "843c841f-b8db-4bb8-a888-42f5da89563c"
      },
      "source": [
        "# Exercises"
      ]
    },
    {
      "cell_type": "markdown",
      "id": "2513c74d-4ddb-4af0-a425-3da76139bc2f",
      "metadata": {
        "id": "2513c74d-4ddb-4af0-a425-3da76139bc2f"
      },
      "source": [
        "## Exercise 2-9\n",
        "\n",
        "- Write a program that repeatedly reads integers until a zero is received.\n",
        "- Maintain a **dictionary** that keep counts of each unique integers received.\n",
        "- When the program receives a zero, print the number of times of each unique integers received.\n",
        "\n",
        "Sample input/output: (Note that the output could be in any order)\n",
        "\n",
        "| Input | Output |\n",
        "| ---   | ---    |\n",
        "| 1<br>1<br>0 | 1 2 |\n",
        "| 1<br>2<br>0 | 1 1<br>2 1 |\n",
        "| 1<br>2<br>2<br>0 | 1 1<br>2 2 |"
      ]
    },
    {
      "cell_type": "markdown",
      "id": "6fc69d67-937e-4781-8869-ddaa53a15cf9",
      "metadata": {
        "id": "6fc69d67-937e-4781-8869-ddaa53a15cf9"
      },
      "source": [
        "# Optional: Sets"
      ]
    },
    {
      "cell_type": "markdown",
      "id": "807f4905-ad69-4b71-806e-b41469a88c5a",
      "metadata": {
        "id": "807f4905-ad69-4b71-806e-b41469a88c5a"
      },
      "source": [
        "**Set** is defined using `{}`. It could be seen as a dictionary without values. In a set, we only care if an item is in the set or not, the order is not guaranteed."
      ]
    },
    {
      "cell_type": "code",
      "execution_count": null,
      "id": "e02a6359-e738-4026-8617-7306f8953c0f",
      "metadata": {
        "id": "e02a6359-e738-4026-8617-7306f8953c0f",
        "outputId": "28ce7ce4-1fea-4285-ed67-fdcdf7a7a61b"
      },
      "outputs": [
        {
          "name": "stdout",
          "output_type": "stream",
          "text": [
            "{1, 2, 3}\n"
          ]
        }
      ],
      "source": [
        "s = {1, 2, 3}\n",
        "print(s)"
      ]
    },
    {
      "cell_type": "markdown",
      "id": "5d8899e1-3e30-4d41-a8aa-9b2c1b1d0593",
      "metadata": {
        "id": "5d8899e1-3e30-4d41-a8aa-9b2c1b1d0593"
      },
      "source": [
        "## Set operations\n",
        "\n",
        "Basic **set operations** including union `|`, intersection `&`, difference `-`, and symmetric difference `^` are supported."
      ]
    },
    {
      "cell_type": "code",
      "execution_count": null,
      "id": "b1f69331-9dbb-4646-a828-0bae36c4dfda",
      "metadata": {
        "id": "b1f69331-9dbb-4646-a828-0bae36c4dfda",
        "outputId": "b9503d0d-2704-4ece-8cdd-158be0056178"
      },
      "outputs": [
        {
          "name": "stdout",
          "output_type": "stream",
          "text": [
            "{1, 2, 3, 4, 5, 6}\n"
          ]
        }
      ],
      "source": [
        "p = {1, 2, 3, 4}\n",
        "q = {3, 4, 5, 6}\n",
        "print(p | q)"
      ]
    },
    {
      "cell_type": "code",
      "execution_count": null,
      "id": "d510a714-f674-4bbb-8f4d-32cfd8bb0c4e",
      "metadata": {
        "id": "d510a714-f674-4bbb-8f4d-32cfd8bb0c4e",
        "outputId": "8152d8bf-e6a7-4d5e-aee9-2329b771d83f"
      },
      "outputs": [
        {
          "name": "stdout",
          "output_type": "stream",
          "text": [
            "{3, 4}\n"
          ]
        }
      ],
      "source": [
        "print(p & q)"
      ]
    },
    {
      "cell_type": "code",
      "execution_count": null,
      "id": "4d93402f-5d59-43dd-84fd-de53f439bdd8",
      "metadata": {
        "id": "4d93402f-5d59-43dd-84fd-de53f439bdd8",
        "outputId": "4c94afcb-384e-4206-eb00-544bdfb76731"
      },
      "outputs": [
        {
          "name": "stdout",
          "output_type": "stream",
          "text": [
            "{1, 2}\n"
          ]
        }
      ],
      "source": [
        "print(p - q)"
      ]
    },
    {
      "cell_type": "code",
      "execution_count": null,
      "id": "34da4a4f-6420-4ad1-b4bd-c5abd433fade",
      "metadata": {
        "id": "34da4a4f-6420-4ad1-b4bd-c5abd433fade",
        "outputId": "3eedb4bc-8f4b-4e8f-8206-fe71f06b32e1"
      },
      "outputs": [
        {
          "name": "stdout",
          "output_type": "stream",
          "text": [
            "{1, 2, 5, 6}\n"
          ]
        }
      ],
      "source": [
        "print(p ^ q)"
      ]
    },
    {
      "cell_type": "markdown",
      "id": "d6fbb91d-7567-41f0-bffd-f45cc9791d83",
      "metadata": {
        "id": "d6fbb91d-7567-41f0-bffd-f45cc9791d83"
      },
      "source": [
        "## Empty set\n",
        "\n",
        "We have to use the `set()` function to create an empty set. If you use `{}`, a dictionary is created instead."
      ]
    },
    {
      "cell_type": "code",
      "execution_count": null,
      "id": "67a44b5b-93a4-4744-b04a-11ce451f29de",
      "metadata": {
        "id": "67a44b5b-93a4-4744-b04a-11ce451f29de",
        "outputId": "f011eaf3-ebd5-4a00-b6ab-11403e813295"
      },
      "outputs": [
        {
          "name": "stdout",
          "output_type": "stream",
          "text": [
            "set()\n"
          ]
        }
      ],
      "source": [
        "s = set()\n",
        "print(s)"
      ]
    },
    {
      "cell_type": "markdown",
      "id": "7f1f7f81-530d-4180-978c-0c267698dde5",
      "metadata": {
        "id": "7f1f7f81-530d-4180-978c-0c267698dde5"
      },
      "source": [
        "# Optional: Generator expressions"
      ]
    },
    {
      "cell_type": "markdown",
      "id": "46249c0e-9180-4aca-8ff0-b511099f0a81",
      "metadata": {
        "id": "46249c0e-9180-4aca-8ff0-b511099f0a81"
      },
      "source": [
        "## The generator expression for Dictionaries\n",
        "\n",
        "The **generator expression** can also be used to generate a dictionary:"
      ]
    },
    {
      "cell_type": "code",
      "execution_count": null,
      "id": "81b77117-a85d-4336-8ebd-0708b12884d8",
      "metadata": {
        "id": "81b77117-a85d-4336-8ebd-0708b12884d8",
        "outputId": "25645f5d-7759-4410-cd0f-320740733056"
      },
      "outputs": [
        {
          "name": "stdout",
          "output_type": "stream",
          "text": [
            "{1: 1, 2: 4, 3: 9, 4: 16, 5: 25, 6: 36, 7: 49}\n"
          ]
        }
      ],
      "source": [
        "myDict = { i: i * i for i in range(1, 8) }\n",
        "print(myDict)"
      ]
    },
    {
      "cell_type": "markdown",
      "id": "f12ee22f-6cad-44b1-ac47-0fe683d463b2",
      "metadata": {
        "id": "f12ee22f-6cad-44b1-ac47-0fe683d463b2"
      },
      "source": [
        "## The generator expression for Sets\n",
        "\n",
        "The **generator expression** can also be used to generate a set:"
      ]
    },
    {
      "cell_type": "code",
      "execution_count": null,
      "id": "d20c28a8-0a91-4834-b095-ea308cc649dc",
      "metadata": {
        "id": "d20c28a8-0a91-4834-b095-ea308cc649dc",
        "outputId": "47496796-1253-4738-fd33-13e0dc6e798f"
      },
      "outputs": [
        {
          "name": "stdout",
          "output_type": "stream",
          "text": [
            "{64, 1, 4, 36, 100, 9, 16, 49, 81, 25}\n"
          ]
        }
      ],
      "source": [
        "mySet = set(i * i for i in range(1, 11))\n",
        "print(mySet)"
      ]
    }
  ],
  "metadata": {
    "kernelspec": {
      "display_name": "Python 3.10.6 64-bit",
      "language": "python",
      "name": "python3"
    },
    "language_info": {
      "codemirror_mode": {
        "name": "ipython",
        "version": 3
      },
      "file_extension": ".py",
      "mimetype": "text/x-python",
      "name": "python",
      "nbconvert_exporter": "python",
      "pygments_lexer": "ipython3",
      "version": "3.10.6"
    },
    "vscode": {
      "interpreter": {
        "hash": "bd5508c2ffc7f17f7d31cf4086cc872f89e96996a08987e995649e5fbe85a3a4"
      }
    },
    "colab": {
      "name": "02e.Dictionaries.ipynb",
      "provenance": [],
      "include_colab_link": true
    }
  },
  "nbformat": 4,
  "nbformat_minor": 5
}