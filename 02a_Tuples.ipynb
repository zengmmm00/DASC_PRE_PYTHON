{
  "cells": [
    {
      "cell_type": "markdown",
      "metadata": {
        "id": "view-in-github",
        "colab_type": "text"
      },
      "source": [
        "<a href=\"https://colab.research.google.com/github/zengmmm00/DASC_PRE_PYTHON/blob/main/02a_Tuples.ipynb\" target=\"_parent\"><img src=\"https://colab.research.google.com/assets/colab-badge.svg\" alt=\"Open In Colab\"/></a>"
      ]
    },
    {
      "cell_type": "markdown",
      "id": "e2c98b1f-fa80-44f0-8882-2f98ac8eab5b",
      "metadata": {
        "id": "e2c98b1f-fa80-44f0-8882-2f98ac8eab5b"
      },
      "source": [
        "> _Self-learning material_  \n",
        "> **Python workshop - 2a. Tuples**"
      ]
    },
    {
      "cell_type": "markdown",
      "id": "48bfb41c-e42e-476f-b742-0d89c8f32ec1",
      "metadata": {
        "id": "48bfb41c-e42e-476f-b742-0d89c8f32ec1"
      },
      "source": [
        "# Tuples"
      ]
    },
    {
      "cell_type": "markdown",
      "id": "4c03a796-7a2f-41e7-8ab4-a3fc444a7e22",
      "metadata": {
        "id": "4c03a796-7a2f-41e7-8ab4-a3fc444a7e22"
      },
      "source": [
        "## Defining a tuple\n",
        "\n",
        "A tuple can be defined by a comma separated list of values with or without `()`.\n",
        "\n",
        "```python\n",
        "myTuple1 = (1, 2, 3)\n",
        "myTuple2 = 1, 2, 3\n",
        "```\n",
        "\n",
        "Values can be of mixed types, but it is **not recommended** (consider using a dictionary instead).\n",
        "\n",
        "\n",
        "```python\n",
        "myPoorTuple = (1, 2.3, 'abc')\n",
        "```"
      ]
    },
    {
      "cell_type": "markdown",
      "id": "ab1fa11d-29db-4ce4-b97b-510538afb59b",
      "metadata": {
        "id": "ab1fa11d-29db-4ce4-b97b-510538afb59b"
      },
      "source": [
        "## Using a tuple\n",
        "\n",
        "You can output a tuple directly."
      ]
    },
    {
      "cell_type": "code",
      "execution_count": null,
      "id": "8baaf7dc-ed8d-4480-8a9f-833a434c7a92",
      "metadata": {
        "id": "8baaf7dc-ed8d-4480-8a9f-833a434c7a92",
        "outputId": "5de338a3-a9b5-4518-c4ad-07e8aa542406"
      },
      "outputs": [
        {
          "name": "stdout",
          "output_type": "stream",
          "text": [
            "myTuple: (1, 2, 3)\n"
          ]
        }
      ],
      "source": [
        "myTuple = (1, 2, 3)\n",
        "print('myTuple:', myTuple)"
      ]
    },
    {
      "cell_type": "markdown",
      "id": "a1a71cc7-3516-4b30-a544-d5b2b73b9532",
      "metadata": {
        "id": "a1a71cc7-3516-4b30-a544-d5b2b73b9532"
      },
      "source": [
        "**Size** of a tuple can be retrived using the `len()` function."
      ]
    },
    {
      "cell_type": "code",
      "execution_count": null,
      "id": "3d74c9aa-9e7c-4ed2-a4de-cc06afa0926b",
      "metadata": {
        "id": "3d74c9aa-9e7c-4ed2-a4de-cc06afa0926b",
        "outputId": "101a5269-7f29-41e2-d6d3-8877b71fbc1b"
      },
      "outputs": [
        {
          "name": "stdout",
          "output_type": "stream",
          "text": [
            "Size of tuple is 3\n"
          ]
        }
      ],
      "source": [
        "print('Size of tuple is', len(myTuple))"
      ]
    },
    {
      "cell_type": "markdown",
      "id": "4af88e7f-6d81-410a-a972-919717c36dfb",
      "metadata": {
        "id": "4af88e7f-6d81-410a-a972-919717c36dfb"
      },
      "source": [
        "## Accessing item in a tuple\n",
        "\n",
        "- Getting **items** from a tuple can be done using the `[]` operator. \n",
        "- Note that **index** starts from `0`. \n",
        "- A negative index could be used to count from the end."
      ]
    },
    {
      "cell_type": "code",
      "execution_count": null,
      "id": "13d33982-955b-4bb2-b190-99211a85b90c",
      "metadata": {
        "id": "13d33982-955b-4bb2-b190-99211a85b90c",
        "outputId": "d7847d5e-52dd-4d69-dbe8-cc571614b4ac"
      },
      "outputs": [
        {
          "name": "stdout",
          "output_type": "stream",
          "text": [
            "First item in the tuple is 1\n",
            "Second item in the tuple is 2\n",
            "Last item in the tuple is 3\n"
          ]
        }
      ],
      "source": [
        "myTuple = (1, 2, 3)\n",
        "print('First item in the tuple is', myTuple[0])\n",
        "print('Second item in the tuple is', myTuple[1])\n",
        "print('Last item in the tuple is', myTuple[-1])"
      ]
    },
    {
      "cell_type": "markdown",
      "id": "31d09a0d-6123-4dde-8814-67fd3c2f7a08",
      "metadata": {
        "id": "31d09a0d-6123-4dde-8814-67fd3c2f7a08"
      },
      "source": [
        "## The `in` operator\n",
        "\n",
        "We can use the `in` operator to check if an item is inside a tuple."
      ]
    },
    {
      "cell_type": "code",
      "execution_count": null,
      "id": "a2aa3214-d24c-4b61-bcf6-9eb73ba96b0a",
      "metadata": {
        "id": "a2aa3214-d24c-4b61-bcf6-9eb73ba96b0a",
        "outputId": "3f6eecf2-fa36-411f-d40e-ecc168711e81"
      },
      "outputs": [
        {
          "name": "stdout",
          "output_type": "stream",
          "text": [
            "Yes!\n"
          ]
        }
      ],
      "source": [
        "myTuple = (1, 2, 3, 4, 5)\n",
        "if 3 in myTuple:\n",
        "    print('Yes!')"
      ]
    },
    {
      "cell_type": "markdown",
      "id": "b65ddaf8-e763-4a03-9476-149d2c7fdefc",
      "metadata": {
        "id": "b65ddaf8-e763-4a03-9476-149d2c7fdefc"
      },
      "source": [
        "## Immutable\n",
        "\n",
        "Tuple is **immutable**, so the following will throw an exception."
      ]
    },
    {
      "cell_type": "code",
      "execution_count": null,
      "id": "55736cac-17a2-49af-a5de-ddadc71836da",
      "metadata": {
        "id": "55736cac-17a2-49af-a5de-ddadc71836da"
      },
      "outputs": [],
      "source": [
        "myTuple = (1, 2, 3, 4)\n",
        "myTuple[0] = 1 # Error!"
      ]
    },
    {
      "cell_type": "markdown",
      "id": "335781c5-dde7-40df-98e1-5f31ac6f8653",
      "metadata": {
        "tags": [],
        "id": "335781c5-dde7-40df-98e1-5f31ac6f8653"
      },
      "source": [
        "## Concatenate\n",
        "\n",
        "We can use the `+` operator to **concatenate** two tuples:"
      ]
    },
    {
      "cell_type": "code",
      "execution_count": null,
      "id": "d7153679-99b6-4aa5-a9f7-16ccf214dc8e",
      "metadata": {
        "id": "d7153679-99b6-4aa5-a9f7-16ccf214dc8e",
        "outputId": "dd67f221-c034-4c4e-8057-6c48186c047b"
      },
      "outputs": [
        {
          "name": "stdout",
          "output_type": "stream",
          "text": [
            "(1, 2, 3, 4)\n"
          ]
        }
      ],
      "source": [
        "a = (1, 2)\n",
        "b = (3, 4)\n",
        "print(a + b)"
      ]
    },
    {
      "cell_type": "markdown",
      "id": "860d753c-0a43-4706-a063-aab14d97dc39",
      "metadata": {
        "id": "860d753c-0a43-4706-a063-aab14d97dc39"
      },
      "source": [
        "## For-loop revisited\n",
        "\n",
        "For-loop can be used to **iterate** through a tuple"
      ]
    },
    {
      "cell_type": "code",
      "execution_count": null,
      "id": "a001b149-9573-4416-a3d5-da9799bd6375",
      "metadata": {
        "id": "a001b149-9573-4416-a3d5-da9799bd6375",
        "outputId": "568607df-953a-4daa-d1ca-e87ad87e21da"
      },
      "outputs": [
        {
          "name": "stdout",
          "output_type": "stream",
          "text": [
            "sum = 6\n"
          ]
        }
      ],
      "source": [
        "sum = 0\n",
        "myTuple = (1, 2, 3)\n",
        "for i in myTuple:\n",
        "    sum += i\n",
        "print('sum =', sum)"
      ]
    },
    {
      "cell_type": "markdown",
      "id": "de5a2df6-0bba-4ede-b7e1-1f301de1eff5",
      "metadata": {
        "id": "de5a2df6-0bba-4ede-b7e1-1f301de1eff5"
      },
      "source": [
        "## Empty tuple and singleton\n",
        "\n",
        "To create an empty tuple, simply use `()`:\n",
        "\n",
        "```python\n",
        "a = ()\n",
        "```\n",
        "\n",
        "To create a tuple with a single element, a comma is needed:\n",
        "\n",
        "```python\n",
        "a = (1,)\n",
        "```\n",
        "\n",
        "Without the comma, the bracket will be treated as a simple bracket as in an arithmetic expression."
      ]
    },
    {
      "cell_type": "markdown",
      "id": "3c942f10-5106-4978-8645-202962a6f0d3",
      "metadata": {
        "id": "3c942f10-5106-4978-8645-202962a6f0d3"
      },
      "source": [
        "# Slicing"
      ]
    },
    {
      "cell_type": "markdown",
      "id": "1fc4d939-0c01-4b82-b63a-6e4c79d96232",
      "metadata": {
        "id": "1fc4d939-0c01-4b82-b63a-6e4c79d96232"
      },
      "source": [
        "## Slicing\n",
        "\n",
        "Instead of accessing one item, we can access a **slice** of a tuple using `[:]`:"
      ]
    },
    {
      "cell_type": "code",
      "execution_count": null,
      "id": "8eb16278-76b7-4bdb-b3d1-cb62c0297129",
      "metadata": {
        "id": "8eb16278-76b7-4bdb-b3d1-cb62c0297129",
        "outputId": "d9ca4368-edba-4522-b382-41ca1362d667"
      },
      "outputs": [
        {
          "name": "stdout",
          "output_type": "stream",
          "text": [
            "Slicing from 1 up to 4: (1, 2, 3)\n"
          ]
        }
      ],
      "source": [
        "myTuple = (0, 1, 2, 3, 4, 5)\n",
        "print('Slicing from 1 up to 4:', myTuple[1:4])"
      ]
    },
    {
      "cell_type": "markdown",
      "id": "6ba31765-c9e4-4ab8-8512-417fc94aeb66",
      "metadata": {
        "id": "6ba31765-c9e4-4ab8-8512-417fc94aeb66"
      },
      "source": [
        "- Note that index starts from 0.\n",
        "- The parameters used in slicing is the same as that used in `range()`, the second number is exclusive."
      ]
    },
    {
      "cell_type": "markdown",
      "id": "0a7625bc-43fa-452a-a322-1a1d51650240",
      "metadata": {
        "id": "0a7625bc-43fa-452a-a322-1a1d51650240"
      },
      "source": [
        "## Slicing defaults\n",
        "\n",
        "The two values can be omitted, in that case they defaults to the beginning and the end of the list."
      ]
    },
    {
      "cell_type": "code",
      "execution_count": null,
      "id": "58f27756-3747-45fa-a075-f94f7cf3a55f",
      "metadata": {
        "id": "58f27756-3747-45fa-a075-f94f7cf3a55f",
        "outputId": "fdf4c079-ca4f-4b63-84ff-730038ec88ca"
      },
      "outputs": [
        {
          "name": "stdout",
          "output_type": "stream",
          "text": [
            "(0, 1, 2)\n",
            "(3, 4, 5)\n"
          ]
        }
      ],
      "source": [
        "myTuple = (0, 1, 2, 3, 4, 5)\n",
        "print(myTuple[:3]) \n",
        "print(myTuple[3:])"
      ]
    },
    {
      "cell_type": "markdown",
      "id": "dd43366b-4762-4410-8c34-c574b18ee57e",
      "metadata": {
        "id": "dd43366b-4762-4410-8c34-c574b18ee57e"
      },
      "source": [
        "- First value defaults to `0`.\n",
        "- Second value defaults to the size of list.\n",
        "- As the ending value is exclusive, the notation ensure that `[:n]` and `[n:]` together gives the original tuple."
      ]
    },
    {
      "cell_type": "markdown",
      "id": "628fbac4-8409-4de7-b25a-7dce44ef2faa",
      "metadata": {
        "id": "628fbac4-8409-4de7-b25a-7dce44ef2faa"
      },
      "source": [
        "## Negative values\n",
        "\n",
        "Values could be negative, that means we count from the back instead."
      ]
    },
    {
      "cell_type": "code",
      "execution_count": null,
      "id": "8bb9fef2-8a4c-498a-b9b2-f46f9e238fb6",
      "metadata": {
        "id": "8bb9fef2-8a4c-498a-b9b2-f46f9e238fb6",
        "outputId": "61958acc-7b9c-4c16-f265-abc8938c5c8d"
      },
      "outputs": [
        {
          "name": "stdout",
          "output_type": "stream",
          "text": [
            "(0, 1, 2, 3)\n",
            "(4, 5)\n"
          ]
        }
      ],
      "source": [
        "myTuple = (0, 1, 2, 3, 4, 5)\n",
        "print(myTuple[:-2])\n",
        "print(myTuple[-2:])"
      ]
    },
    {
      "cell_type": "markdown",
      "id": "d071eb0a-6a21-4ae4-8058-6a48661d5357",
      "metadata": {
        "id": "d071eb0a-6a21-4ae4-8058-6a48661d5357"
      },
      "source": [
        "In this case, a value of `-2` is identical to the length of list - 2."
      ]
    },
    {
      "cell_type": "markdown",
      "id": "b1fe60c4-d42d-4cda-b7a2-dc22ca2c04d5",
      "metadata": {
        "id": "b1fe60c4-d42d-4cda-b7a2-dc22ca2c04d5"
      },
      "source": [
        "## Using variables\n",
        "\n",
        "It is also possible to use a variable in slicing."
      ]
    },
    {
      "cell_type": "code",
      "execution_count": null,
      "id": "2e2e0827-d79b-4ec2-94e2-15197304bf06",
      "metadata": {
        "id": "2e2e0827-d79b-4ec2-94e2-15197304bf06",
        "outputId": "b7aade1f-66ad-47b8-bea8-6caee7d3865c"
      },
      "outputs": [
        {
          "name": "stdout",
          "output_type": "stream",
          "text": [
            "(0,)\n",
            "(0, 1)\n",
            "(0, 1, 2)\n"
          ]
        }
      ],
      "source": [
        "myTuple = (0, 1, 2, 3, 4, 5)\n",
        "for i in range(3):\n",
        "    print(myTuple[:i + 1])"
      ]
    },
    {
      "cell_type": "markdown",
      "id": "e5659765-d186-4ac7-b4d6-0d5d6db984ba",
      "metadata": {
        "id": "e5659765-d186-4ac7-b4d6-0d5d6db984ba"
      },
      "source": [
        "## The third value\n",
        "\n",
        "We can specify a third value, which gives a similar behaviour as the 3 parameters case in the `range()` function."
      ]
    },
    {
      "cell_type": "code",
      "execution_count": null,
      "id": "67d535a1-e22b-436d-83be-c2e9c40e4f8f",
      "metadata": {
        "id": "67d535a1-e22b-436d-83be-c2e9c40e4f8f",
        "outputId": "7afc23f8-e880-42a3-8323-0cde3df25bc1"
      },
      "outputs": [
        {
          "name": "stdout",
          "output_type": "stream",
          "text": [
            "(0, 2)\n"
          ]
        }
      ],
      "source": [
        "myTuple = (0, 1, 2, 3, 4, 5)\n",
        "print(myTuple[0:4:2])"
      ]
    },
    {
      "cell_type": "markdown",
      "id": "82ed2c1c-a4de-4a7d-bfa6-11953312fb65",
      "metadata": {
        "id": "82ed2c1c-a4de-4a7d-bfa6-11953312fb65"
      },
      "source": [
        "# Auto-packing/unpacking"
      ]
    },
    {
      "cell_type": "markdown",
      "id": "27c7253f-5796-4ea8-b444-ac3c02933e2c",
      "metadata": {
        "id": "27c7253f-5796-4ea8-b444-ac3c02933e2c"
      },
      "source": [
        "## Automatic tuple packing\n",
        "\n",
        "- A tuple without the bracket is actually a list of expressions.\n",
        "- When we assign a list of expressions to a variable, the values could said to be **packed** into a tuple."
      ]
    },
    {
      "cell_type": "code",
      "execution_count": null,
      "id": "6ab28c3e-28ec-4ff6-b53d-f5b5a459d177",
      "metadata": {
        "id": "6ab28c3e-28ec-4ff6-b53d-f5b5a459d177",
        "outputId": "9dc92ba9-753c-48ed-c02d-5bb1a9c72791"
      },
      "outputs": [
        {
          "name": "stdout",
          "output_type": "stream",
          "text": [
            "(10, 11, 30)\n"
          ]
        }
      ],
      "source": [
        "a = 10\n",
        "b = a, a + 1, a * 3\n",
        "print(b)"
      ]
    },
    {
      "cell_type": "markdown",
      "id": "c04f5be7-2ee1-4049-8d06-c0dac833ba24",
      "metadata": {
        "id": "c04f5be7-2ee1-4049-8d06-c0dac833ba24"
      },
      "source": [
        "## Automatic tuple unpacking\n",
        "\n",
        "When we assign a tuple to a list of variables, the tuple will automatically be **unpacked**."
      ]
    },
    {
      "cell_type": "code",
      "execution_count": null,
      "id": "f30b32fa-80aa-4737-a375-353969b0918b",
      "metadata": {
        "id": "f30b32fa-80aa-4737-a375-353969b0918b",
        "outputId": "55db4551-eacb-4aa7-cefc-ffd7ff46d950"
      },
      "outputs": [
        {
          "name": "stdout",
          "output_type": "stream",
          "text": [
            "37 100\n"
          ]
        }
      ],
      "source": [
        "a = (37, 100)\n",
        "b, c = a\n",
        "print(b, c)"
      ]
    },
    {
      "cell_type": "markdown",
      "id": "c6585efe-176d-4d1b-b207-ecfe05f9f6e2",
      "metadata": {
        "id": "c6585efe-176d-4d1b-b207-ecfe05f9f6e2"
      },
      "source": [
        "## Packing and unpacking\n",
        "\n",
        "Packing and unpacking can be done in the same statement. Therefore the following is possible:"
      ]
    },
    {
      "cell_type": "code",
      "execution_count": null,
      "id": "7c4040cb-4b72-4a85-b216-5f32cb214f7c",
      "metadata": {
        "id": "7c4040cb-4b72-4a85-b216-5f32cb214f7c",
        "outputId": "b2d2f191-f111-4e29-e441-7df17aff5af1"
      },
      "outputs": [
        {
          "name": "stdout",
          "output_type": "stream",
          "text": [
            "63 137\n"
          ]
        }
      ],
      "source": [
        "a = 37\n",
        "b = 100\n",
        "b, a = a + b, b - a\n",
        "print(a, b)"
      ]
    },
    {
      "cell_type": "markdown",
      "id": "a4901d1c-3552-4019-8d78-b964b28e93bd",
      "metadata": {
        "id": "a4901d1c-3552-4019-8d78-b964b28e93bd"
      },
      "source": [
        "The statement will be executed in two stages.\n",
        "1. Expression list `a + b, b - a` is temporarily packed to a tuple.\n",
        "2. The tuple is unpakced to variables `b` and `a` respsectively."
      ]
    },
    {
      "cell_type": "markdown",
      "id": "a890df15-915d-4974-8738-e31a2c494aba",
      "metadata": {
        "id": "a890df15-915d-4974-8738-e31a2c494aba"
      },
      "source": [
        "# Quiz"
      ]
    },
    {
      "cell_type": "markdown",
      "id": "783bc368-4344-448c-a7e9-b5a1128aa883",
      "metadata": {
        "id": "783bc368-4344-448c-a7e9-b5a1128aa883"
      },
      "source": [
        "## Quiz 2a\n",
        "\n",
        "1. Give a single statement that swap the values in variable `a` and `b`. \n",
        "   Use no spaces in your answer.\n",
        "2. Give a single statement that assign a tuple with a single value `1` to a \n",
        "   variable named `x`. Use no spaces in your answer."
      ]
    },
    {
      "cell_type": "markdown",
      "id": "a117f69c-cc7f-4b39-80e7-402bdc8074d8",
      "metadata": {
        "id": "a117f69c-cc7f-4b39-80e7-402bdc8074d8"
      },
      "source": [
        "# Exercises"
      ]
    },
    {
      "cell_type": "markdown",
      "id": "ee4e51fe-cf72-4156-84b8-a0f8ffbce7c4",
      "metadata": {
        "id": "ee4e51fe-cf72-4156-84b8-a0f8ffbce7c4"
      },
      "source": [
        "## Exercise 2-1\n",
        "\n",
        "- Write a program that reads a number of integers until a zero is received.\n",
        "  - Store the integers in a tuple by concatenation and assignment. (E.g.,: `myTuple = myTuple + (newValue,)`)\n",
        "- After reading all integers, repeatedly remove the first and last item from the tuple and print it. For example, if the input is `1 2 3 4 5 6 7 8 9 0`, the output will be:\n",
        "\n",
        "```text\n",
        "(1, 2, 3, 4, 5, 6, 7, 8, 9)\n",
        "(2, 3, 4, 5, 6, 7, 8)\n",
        "(3, 4, 5, 6, 7)\n",
        "(4, 5, 6)\n",
        "(5,)\n",
        "```"
      ]
    },
    {
      "cell_type": "markdown",
      "id": "5cf34c1c-4f50-4e53-a9fe-4078faceae53",
      "metadata": {
        "id": "5cf34c1c-4f50-4e53-a9fe-4078faceae53"
      },
      "source": [
        "## Exercise 2-2 (VPL available)\n",
        "\n",
        "- Write a program that reads two integers and calculate the **GCD** of the two integers using the following algorithm:\n",
        "  1. Read integer as `a`.\n",
        "  2. Read integer as `b`.\n",
        "  3. While `b` is not zero; set `b` as `a % b`, and `a` as `b` at the same time.\n",
        "  4. print `a` as the GCD.\n",
        "- Make use of tuple **auto-packing/unpacking** to complete the task.\n",
        "\n",
        "Sample input/output\n",
        "\n",
        "| Input    | Output |\n",
        "| ---      | ---    |\n",
        "| 11<br>19 | 1      |\n",
        "| 36<br>24 | 12     |\n",
        "| 15<br>24 | 3      |\n",
        "| 24<br>15 | 3      | "
      ]
    },
    {
      "cell_type": "markdown",
      "id": "bdacd073-da32-4b58-87e4-c651513d5f81",
      "metadata": {
        "id": "bdacd073-da32-4b58-87e4-c651513d5f81"
      },
      "source": [
        "# Optional: Tuple access"
      ]
    },
    {
      "cell_type": "markdown",
      "id": "72417f32-7a87-4b23-a4fa-2a3233b5c093",
      "metadata": {
        "id": "72417f32-7a87-4b23-a4fa-2a3233b5c093"
      },
      "source": [
        "## Tuple operations\n",
        "\n",
        "Operators `+` and `*` can be used on tuple.\n",
        "- `+` is used for concatenation.\n",
        "- `*` is used to generate a repeating pattern."
      ]
    },
    {
      "cell_type": "code",
      "execution_count": null,
      "id": "4f414fb5-33ff-4f12-add5-29ddad3a3c23",
      "metadata": {
        "id": "4f414fb5-33ff-4f12-add5-29ddad3a3c23",
        "outputId": "43518195-3fe2-4633-dce7-0e5e63304389"
      },
      "outputs": [
        {
          "name": "stdout",
          "output_type": "stream",
          "text": [
            "(1, 2, 3, 4) (1, 2, 1, 2, 1, 2)\n"
          ]
        }
      ],
      "source": [
        "myTuple1 = (1, 2) + (3, 4)\n",
        "myTuple2 = (1, 2) * 3\n",
        "print(myTuple1, myTuple2)"
      ]
    },
    {
      "cell_type": "markdown",
      "id": "31bb6d8e-bad9-42e5-b1de-eca6d74c7a9b",
      "metadata": {
        "id": "31bb6d8e-bad9-42e5-b1de-eca6d74c7a9b"
      },
      "source": [
        "Operators `+=` and `*=` can also be used."
      ]
    },
    {
      "cell_type": "code",
      "execution_count": null,
      "id": "10a9b1e3-fc4c-463c-995a-c67c605543d8",
      "metadata": {
        "id": "10a9b1e3-fc4c-463c-995a-c67c605543d8",
        "outputId": "06ae68f8-1a67-4870-f501-0b1003c167d1"
      },
      "outputs": [
        {
          "name": "stdout",
          "output_type": "stream",
          "text": [
            "(1, 2, 1, 2, 1, 2, 3, 4)\n"
          ]
        }
      ],
      "source": [
        "myTuple = (1, 2)\n",
        "myTuple *= 3\n",
        "myTuple += (3, 4)\n",
        "print(myTuple)"
      ]
    },
    {
      "cell_type": "markdown",
      "id": "76c14532-c095-41b7-9198-98226cc35f7d",
      "metadata": {
        "id": "76c14532-c095-41b7-9198-98226cc35f7d"
      },
      "source": [
        "## More tuple operations\n",
        "\n",
        "| Operation        | Effect |\n",
        "| ---              | --- |\n",
        "| `s.index(x)`     | Find the index of the first item with value `x`. |\n",
        "| `s.count(x)`     | Count the numbe of items with value `x`. |\n",
        "| `s.reverse()`    | Reverse the order of values in list `s`. |"
      ]
    },
    {
      "cell_type": "markdown",
      "id": "a5a2092d-911b-44bf-b625-f9c939d9ed1b",
      "metadata": {
        "id": "a5a2092d-911b-44bf-b625-f9c939d9ed1b"
      },
      "source": [
        "# Optional: Generator expressions"
      ]
    },
    {
      "cell_type": "markdown",
      "id": "45c5616e-8d35-43b3-b42d-7214354bfc5d",
      "metadata": {
        "id": "45c5616e-8d35-43b3-b42d-7214354bfc5d"
      },
      "source": [
        "The **generator expression** could be used to generate a tuple."
      ]
    },
    {
      "cell_type": "code",
      "execution_count": null,
      "id": "99ef7231-f03d-4bb5-9476-57c6c4de4ac7",
      "metadata": {
        "id": "99ef7231-f03d-4bb5-9476-57c6c4de4ac7",
        "outputId": "7cd6db34-27c1-4d30-9d2e-266565feb72f"
      },
      "outputs": [
        {
          "name": "stdout",
          "output_type": "stream",
          "text": [
            "(1, 4, 9, 16, 25, 36, 49, 64, 81, 100)\n"
          ]
        }
      ],
      "source": [
        "myTuple = tuple(i * i for i in range(1, 11))\n",
        "print(myTuple)"
      ]
    },
    {
      "cell_type": "markdown",
      "id": "79d24b7c-bdfa-4e4f-9097-1e2b0607bd60",
      "metadata": {
        "id": "79d24b7c-bdfa-4e4f-9097-1e2b0607bd60"
      },
      "source": [
        "- `for i in range(1, 11)` is equivalent to a for-loop.\n",
        "- `i * i` defines how each of the values in the tuple is generated."
      ]
    },
    {
      "cell_type": "markdown",
      "id": "31ab1c94-0172-4ad0-b785-d400863074bc",
      "metadata": {
        "id": "31ab1c94-0172-4ad0-b785-d400863074bc"
      },
      "source": [
        "## Generating tuple from tuple\n",
        "\n",
        "We can also generate a tuple from another tuple."
      ]
    },
    {
      "cell_type": "code",
      "execution_count": null,
      "id": "7a0ad543-d733-4f05-9fe5-12aeb186db3f",
      "metadata": {
        "id": "7a0ad543-d733-4f05-9fe5-12aeb186db3f",
        "outputId": "60482e37-544c-47ea-dcdb-0001799ce024"
      },
      "outputs": [
        {
          "name": "stdout",
          "output_type": "stream",
          "text": [
            "(4, 6, 10, 14, 22)\n"
          ]
        }
      ],
      "source": [
        "tuple1 = (2, 3, 5, 7, 11)\n",
        "tuple2 = tuple(x * 2 for x in tuple1)\n",
        "print(tuple2)"
      ]
    },
    {
      "cell_type": "markdown",
      "id": "994b9646-c9f9-492d-8d27-796f25511449",
      "metadata": {
        "id": "994b9646-c9f9-492d-8d27-796f25511449"
      },
      "source": [
        "## Filtering\n",
        "\n",
        "A condition can be added in the generator expression to filter the result."
      ]
    },
    {
      "cell_type": "code",
      "execution_count": null,
      "id": "6e255716-3937-412b-8854-78885b39b702",
      "metadata": {
        "id": "6e255716-3937-412b-8854-78885b39b702",
        "outputId": "eeaded50-e465-4642-aa8b-1dee8dc6283b"
      },
      "outputs": [
        {
          "name": "stdout",
          "output_type": "stream",
          "text": [
            "(16, 64)\n"
          ]
        }
      ],
      "source": [
        "myTuple = tuple(x * x for x in range(1, 11) if x % 4 == 0)\n",
        "print(myTuple)"
      ]
    }
  ],
  "metadata": {
    "kernelspec": {
      "display_name": "Python 3.10.6 64-bit",
      "language": "python",
      "name": "python3"
    },
    "language_info": {
      "codemirror_mode": {
        "name": "ipython",
        "version": 3
      },
      "file_extension": ".py",
      "mimetype": "text/x-python",
      "name": "python",
      "nbconvert_exporter": "python",
      "pygments_lexer": "ipython3",
      "version": "3.10.6"
    },
    "vscode": {
      "interpreter": {
        "hash": "bd5508c2ffc7f17f7d31cf4086cc872f89e96996a08987e995649e5fbe85a3a4"
      }
    },
    "colab": {
      "name": "02a.Tuples.ipynb",
      "provenance": [],
      "include_colab_link": true
    }
  },
  "nbformat": 4,
  "nbformat_minor": 5
}