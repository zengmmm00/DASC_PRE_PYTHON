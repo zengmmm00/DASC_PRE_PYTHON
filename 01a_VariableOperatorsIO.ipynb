{
  "cells": [
    {
      "cell_type": "markdown",
      "metadata": {
        "id": "view-in-github",
        "colab_type": "text"
      },
      "source": [
        "<a href=\"https://colab.research.google.com/github/zengmmm00/DASC_PRE_PYTHON/blob/main/01a_VariableOperatorsIO.ipynb\" target=\"_parent\"><img src=\"https://colab.research.google.com/assets/colab-badge.svg\" alt=\"Open In Colab\"/></a>"
      ]
    },
    {
      "cell_type": "markdown",
      "id": "29064982-4e80-4320-be5d-cf107a6faf52",
      "metadata": {
        "tags": [],
        "id": "29064982-4e80-4320-be5d-cf107a6faf52"
      },
      "source": [
        "> _Self-learning material_  \n",
        "> **Python workshop - 1a. Variable, operators and basic I/O** "
      ]
    },
    {
      "cell_type": "markdown",
      "id": "2bf4a390-e60a-4d31-a389-9633dd55fa12",
      "metadata": {
        "id": "2bf4a390-e60a-4d31-a389-9633dd55fa12"
      },
      "source": [
        "# Values and Variables\n",
        "\n",
        "- To maintain program states, we associate values to names.\n",
        "- These names are called variables.\n",
        "- In Python, we use the **assignment operator** `=` to assign a value to a variable, for example:\n",
        "\n",
        "```python\n",
        "a = 10\n",
        "```\n",
        "\n",
        "- In many programming language, variable must be **declared** before it could be used.\n",
        "  - In Python, assigning a value to a name automatically declare the variable.\n",
        "- The **assignment operator** `=` will always assign the **value** on the right to the **variable** on the left.\n",
        "- In the above example, variable `a` is assigned a value of 10."
      ]
    },
    {
      "cell_type": "markdown",
      "id": "4762441d-bd83-44a8-80a4-51f30097b58c",
      "metadata": {
        "id": "4762441d-bd83-44a8-80a4-51f30097b58c"
      },
      "source": [
        "## Using variables\n",
        "\n",
        "If we assign a new value to a variable, the variable will be overwritten. For example:\n",
        "\n",
        "```python\n",
        "a = 10\n",
        "a = 20\n",
        "```\n",
        "\n",
        "In the above example, variable `a` is assigned a value of 20."
      ]
    },
    {
      "cell_type": "markdown",
      "id": "4f4e8133-04fe-4dc9-90af-fd18ffb57560",
      "metadata": {
        "id": "4f4e8133-04fe-4dc9-90af-fd18ffb57560"
      },
      "source": [
        "## Types of values\n",
        "\n",
        "A variable can be used to hold different types of values.\n",
        "Typical variable type in Python are **boolean**, **integer**, **floating-point**, and **string**.\n",
        "\n",
        "```python\n",
        "# boolean values\n",
        "a = True\n",
        "b = False\n",
        "# integer/floating-point value\n",
        "c = 3\n",
        "d = 1.5\n",
        "# string (same for single quote or double quote)\n",
        "e = \"hello\"\n",
        "f = 'world'\n",
        "```"
      ]
    },
    {
      "cell_type": "markdown",
      "id": "83e34fb4-33cc-4102-9a30-5ccedda44588",
      "metadata": {
        "id": "83e34fb4-33cc-4102-9a30-5ccedda44588"
      },
      "source": [
        "# Basic output"
      ]
    },
    {
      "cell_type": "markdown",
      "id": "ca9575d1-6f51-4c57-9552-2b14b49ee923",
      "metadata": {
        "id": "ca9575d1-6f51-4c57-9552-2b14b49ee923"
      },
      "source": [
        "## Printing multiple values\n",
        "\n",
        "It is common to print a combination of values and variables. Consider this program for example:"
      ]
    },
    {
      "cell_type": "code",
      "execution_count": null,
      "id": "e6711923-4df2-4d5c-8612-d449bc922384",
      "metadata": {
        "id": "e6711923-4df2-4d5c-8612-d449bc922384",
        "outputId": "ec819d23-78f2-4fde-f795-a5cb1179252e"
      },
      "outputs": [
        {
          "name": "stdout",
          "output_type": "stream",
          "text": [
            "1\n",
            "+\n",
            "2\n",
            "=\n",
            "3\n"
          ]
        }
      ],
      "source": [
        "a = 1\n",
        "b = 2\n",
        "c = 3\n",
        "print(a)\n",
        "print('+')\n",
        "print(b)\n",
        "print('=')\n",
        "print(c)"
      ]
    },
    {
      "cell_type": "markdown",
      "id": "4545e953-b28f-43d3-be28-4251ed2b559f",
      "metadata": {
        "id": "4545e953-b28f-43d3-be28-4251ed2b559f"
      },
      "source": [
        "The output is not desirable (try it!). Sometimes, we pefer printing values on the same line."
      ]
    },
    {
      "cell_type": "markdown",
      "id": "9f538e6f-1ed9-46ec-abef-0383ff1ba298",
      "metadata": {
        "id": "9f538e6f-1ed9-46ec-abef-0383ff1ba298"
      },
      "source": [
        "We can print a list of values, separated by **commas** when we use `print()`, a space will be added between the values:"
      ]
    },
    {
      "cell_type": "code",
      "execution_count": null,
      "id": "b7cfc0d3-d171-432d-996f-3d62187ec0ac",
      "metadata": {
        "id": "b7cfc0d3-d171-432d-996f-3d62187ec0ac",
        "outputId": "4ffabed1-1984-4e4d-b20d-0b6d80ae0488"
      },
      "outputs": [
        {
          "name": "stdout",
          "output_type": "stream",
          "text": [
            "1 + 2 = 3\n"
          ]
        }
      ],
      "source": [
        "a = 1\n",
        "b = 2\n",
        "c = 3\n",
        "print(a, '+', b, '=', c)"
      ]
    },
    {
      "cell_type": "markdown",
      "id": "cd2b82ba-27d1-4333-9a68-c581188ae548",
      "metadata": {
        "id": "cd2b82ba-27d1-4333-9a68-c581188ae548"
      },
      "source": [
        "## Separator option: `sep`\n",
        "\n",
        "We can specify the **`sep`** option in `print()` to specify the separator to be used when printing multiple values."
      ]
    },
    {
      "cell_type": "code",
      "execution_count": null,
      "id": "85607f12-8953-433b-b6e0-6adaf5276c5c",
      "metadata": {
        "id": "85607f12-8953-433b-b6e0-6adaf5276c5c",
        "outputId": "618f5c38-f854-45b8-d86f-ffb04c66cf27"
      },
      "outputs": [
        {
          "name": "stdout",
          "output_type": "stream",
          "text": [
            "1 2 3\n",
            "1,2,3\n"
          ]
        }
      ],
      "source": [
        "print(1, 2, 3)\n",
        "print(1, 2, 3, sep=',')"
      ]
    },
    {
      "cell_type": "markdown",
      "id": "7734623d-ea16-4163-bf23-efee743c4580",
      "metadata": {
        "id": "7734623d-ea16-4163-bf23-efee743c4580"
      },
      "source": [
        "## Ending option: `end`\n",
        "\n",
        "Another option for `print()` is **`end`**, which control how to end the printing.\n",
        "By default a **new line** is inserted."
      ]
    },
    {
      "cell_type": "code",
      "execution_count": null,
      "id": "d128d639-a6ae-4923-991a-fed15e09a25e",
      "metadata": {
        "id": "d128d639-a6ae-4923-991a-fed15e09a25e",
        "outputId": "71acf4b5-154f-4b84-b0e0-30185d0897f6"
      },
      "outputs": [
        {
          "name": "stdout",
          "output_type": "stream",
          "text": [
            "1 + 2 = 3\n"
          ]
        }
      ],
      "source": [
        "print(1, end=' + ')\n",
        "print(2, end=' = ')\n",
        "print(3)"
      ]
    },
    {
      "cell_type": "markdown",
      "id": "27f45eca-3ee2-4103-bbfd-02c8ceb7885d",
      "metadata": {
        "id": "27f45eca-3ee2-4103-bbfd-02c8ceb7885d"
      },
      "source": [
        "Sometimes it will be usful to end with an empty string. For example, when we want to output a single line with multiple print statements:"
      ]
    },
    {
      "cell_type": "code",
      "execution_count": null,
      "id": "1eb3734c-b631-44a8-951f-6bfa66f844de",
      "metadata": {
        "id": "1eb3734c-b631-44a8-951f-6bfa66f844de",
        "outputId": "9b6b71b3-abc6-4cf0-e8e9-53ee5aa4d1f0"
      },
      "outputs": [
        {
          "name": "stdout",
          "output_type": "stream",
          "text": [
            "123\n"
          ]
        }
      ],
      "source": [
        "print(1, end='')\n",
        "print(2, end='')\n",
        "print(3)"
      ]
    },
    {
      "cell_type": "markdown",
      "id": "f6119903-2cb8-4bcb-bfe8-37b2d17cf97c",
      "metadata": {
        "id": "f6119903-2cb8-4bcb-bfe8-37b2d17cf97c"
      },
      "source": [
        "# Arithmetic operators\n",
        "\n",
        "For integer and floating point numbers, we can use the four **arithmetic operators**: `+`, `-`, `*` (multiply), and `/` (divide). For example:"
      ]
    },
    {
      "cell_type": "code",
      "execution_count": null,
      "id": "1f7822cc-2d48-47f3-9451-98e61598f3a8",
      "metadata": {
        "id": "1f7822cc-2d48-47f3-9451-98e61598f3a8",
        "outputId": "a6eeeb4c-6878-4734-bad4-de2cee8f6925"
      },
      "outputs": [
        {
          "name": "stdout",
          "output_type": "stream",
          "text": [
            "3\n"
          ]
        }
      ],
      "source": [
        "print(1 + 2)"
      ]
    },
    {
      "cell_type": "code",
      "execution_count": null,
      "id": "00104427-1fe1-484c-b253-bc442ae720a5",
      "metadata": {
        "id": "00104427-1fe1-484c-b253-bc442ae720a5",
        "outputId": "5b14c67d-a166-4ef2-bc09-f37fa718c902"
      },
      "outputs": [
        {
          "name": "stdout",
          "output_type": "stream",
          "text": [
            "8.5\n"
          ]
        }
      ],
      "source": [
        "print(10 - 1.5)"
      ]
    },
    {
      "cell_type": "code",
      "execution_count": null,
      "id": "7493fe42-9d7a-43b6-bf3d-c91bdde40cda",
      "metadata": {
        "id": "7493fe42-9d7a-43b6-bf3d-c91bdde40cda",
        "outputId": "f6a7f13e-66d1-44bd-c1dd-1aeb75f102e6"
      },
      "outputs": [
        {
          "name": "stdout",
          "output_type": "stream",
          "text": [
            "12\n"
          ]
        }
      ],
      "source": [
        "print(2 * 6)"
      ]
    },
    {
      "cell_type": "code",
      "execution_count": null,
      "id": "e0cbd09a-92fb-419b-8c3a-409bf3e4f6cc",
      "metadata": {
        "id": "e0cbd09a-92fb-419b-8c3a-409bf3e4f6cc",
        "outputId": "c44f304e-c3e1-48a0-cb98-8edcf651589c"
      },
      "outputs": [
        {
          "name": "stdout",
          "output_type": "stream",
          "text": [
            "1.5\n"
          ]
        }
      ],
      "source": [
        "print(9 / 6)"
      ]
    },
    {
      "cell_type": "markdown",
      "id": "f55ad505-7741-4a45-9670-f81146365fa2",
      "metadata": {
        "id": "f55ad505-7741-4a45-9670-f81146365fa2"
      },
      "source": [
        "## Order of execution (operator precedence)\n",
        "\n",
        "When there are multiple operators in the same statement, the order of execution follows a certain rules. For the basic arithmetic operators, it follows the basic mathematics rules (multiplication and division first), and is processed left-to-right."
      ]
    },
    {
      "cell_type": "code",
      "execution_count": null,
      "id": "1cff847b-4e44-4439-95e6-a3f0449f4f00",
      "metadata": {
        "id": "1cff847b-4e44-4439-95e6-a3f0449f4f00",
        "outputId": "1a5b2c93-a55f-4180-e790-a484394c254d"
      },
      "outputs": [
        {
          "name": "stdout",
          "output_type": "stream",
          "text": [
            "0.6\n"
          ]
        }
      ],
      "source": [
        "print(1 + 2 * (3 - 4) / 5)"
      ]
    },
    {
      "cell_type": "markdown",
      "id": "e0bf1549-d710-4c38-b889-8109e3142642",
      "metadata": {
        "id": "e0bf1549-d710-4c38-b889-8109e3142642"
      },
      "source": [
        "If unsure, always add brackets to specify the order of execution.\n",
        "\n",
        "Reference: <https://docs.python.org/3/reference/expressions.html#operator-precedence>"
      ]
    },
    {
      "cell_type": "markdown",
      "id": "96739bea-9a80-4c95-a4ec-8647a33e934e",
      "metadata": {
        "id": "96739bea-9a80-4c95-a4ec-8647a33e934e"
      },
      "source": [
        "## Floating point division and floor division\n",
        "\n",
        "Operator `/` always results in a **floating point number**, even when both operands are integers."
      ]
    },
    {
      "cell_type": "code",
      "execution_count": null,
      "id": "4d8dc755-b5a8-4e65-b239-1fd34bbad169",
      "metadata": {
        "id": "4d8dc755-b5a8-4e65-b239-1fd34bbad169",
        "outputId": "1a849e70-1377-4094-8d7a-e42ccbfdbb99"
      },
      "outputs": [
        {
          "name": "stdout",
          "output_type": "stream",
          "text": [
            "10.0\n"
          ]
        }
      ],
      "source": [
        "a = 100 \n",
        "b = 10\n",
        "print(a / b)"
      ]
    },
    {
      "cell_type": "markdown",
      "id": "9ac08212-ecf6-4611-b2fd-708d06161736",
      "metadata": {
        "id": "9ac08212-ecf6-4611-b2fd-708d06161736"
      },
      "source": [
        "If **integer division** is needed, we can use the floor division operator (`//`) instead.\n",
        "This operator will perform division and return the floor of the result.\n",
        "For example:"
      ]
    },
    {
      "cell_type": "code",
      "execution_count": null,
      "id": "7d4b0e70-c667-4770-84a0-2235ce32cd95",
      "metadata": {
        "id": "7d4b0e70-c667-4770-84a0-2235ce32cd95",
        "outputId": "fd3ec492-3ba5-41e9-f3b7-c727e402bce4"
      },
      "outputs": [
        {
          "name": "stdout",
          "output_type": "stream",
          "text": [
            "1\n"
          ]
        }
      ],
      "source": [
        "print(9 // 6)"
      ]
    },
    {
      "cell_type": "code",
      "execution_count": null,
      "id": "261777fd-7f13-4008-9333-46b0d72c472a",
      "metadata": {
        "id": "261777fd-7f13-4008-9333-46b0d72c472a",
        "outputId": "8a7a29a7-9a57-4df0-8256-48ce485b86ff"
      },
      "outputs": [
        {
          "name": "stdout",
          "output_type": "stream",
          "text": [
            "10\n"
          ]
        }
      ],
      "source": [
        "print(100 // 10)"
      ]
    },
    {
      "cell_type": "markdown",
      "id": "8777c446-cb1b-433b-a7fa-4b56a47c246f",
      "metadata": {
        "id": "8777c446-cb1b-433b-a7fa-4b56a47c246f"
      },
      "source": [
        "## Power operator\n",
        "\n",
        "The **power operator** `**` calculates and returns the value of a base raised to a specific power. \n",
        "\n",
        "Note: the `^` operator in Python is another operator, which will be discussed later (optional)."
      ]
    },
    {
      "cell_type": "code",
      "execution_count": null,
      "id": "cc0101d6-aa30-42d3-88b4-c83d236f1949",
      "metadata": {
        "id": "cc0101d6-aa30-42d3-88b4-c83d236f1949",
        "outputId": "b78bc098-5fcf-4c26-fa36-e397a7c891f4"
      },
      "outputs": [
        {
          "name": "stdout",
          "output_type": "stream",
          "text": [
            "100\n"
          ]
        }
      ],
      "source": [
        "print(10 ** 2)"
      ]
    },
    {
      "cell_type": "code",
      "execution_count": null,
      "id": "1a6a2106-44bd-4b32-b59a-36f9fcef90a0",
      "metadata": {
        "id": "1a6a2106-44bd-4b32-b59a-36f9fcef90a0",
        "outputId": "f07493d7-9699-4434-c839-392a6d546220"
      },
      "outputs": [
        {
          "name": "stdout",
          "output_type": "stream",
          "text": [
            "1024\n"
          ]
        }
      ],
      "source": [
        "print(2 ** 10)"
      ]
    },
    {
      "cell_type": "markdown",
      "id": "dee697f4-8c2d-4e24-ae32-3ea32a8c33a1",
      "metadata": {
        "id": "dee697f4-8c2d-4e24-ae32-3ea32a8c33a1"
      },
      "source": [
        "## Modulo operators\n",
        "\n",
        "The **modulo** operator `%` calculates and returns the **remainder** of dividing first operand by the second operand.\n",
        "\n",
        "The two operators, `//` and `%` can be used to find the quotient and remainer of a division operation.\n",
        "\n",
        "If, `q = a // b` and `r = a % b`, then `a = b * q + r`.\n",
        "\n",
        "**This operator is extremely important in computer science.** (why?)"
      ]
    },
    {
      "cell_type": "code",
      "execution_count": null,
      "id": "178698f6-e818-4444-b0bb-2368eeaef252",
      "metadata": {
        "id": "178698f6-e818-4444-b0bb-2368eeaef252",
        "outputId": "96d13667-45da-400b-b185-d5f8b5bfff56"
      },
      "outputs": [
        {
          "name": "stdout",
          "output_type": "stream",
          "text": [
            "1\n"
          ]
        }
      ],
      "source": [
        "print(100 % 3)"
      ]
    },
    {
      "cell_type": "code",
      "execution_count": null,
      "id": "4b4e1775-0b81-4ad8-994f-975f7110abc3",
      "metadata": {
        "id": "4b4e1775-0b81-4ad8-994f-975f7110abc3",
        "outputId": "841c2987-b5c9-4017-8285-14221b9d6364"
      },
      "outputs": [
        {
          "name": "stdout",
          "output_type": "stream",
          "text": [
            "2\n"
          ]
        }
      ],
      "source": [
        "print(100 % 7)"
      ]
    },
    {
      "cell_type": "markdown",
      "id": "b795f0ff-c5ae-4485-90f2-4b56f99f985e",
      "metadata": {
        "id": "b795f0ff-c5ae-4485-90f2-4b56f99f985e"
      },
      "source": [
        "# Reading input"
      ]
    },
    {
      "cell_type": "markdown",
      "id": "fe586a0d-e52a-4edd-a2fa-ea2e507fdf25",
      "metadata": {
        "id": "fe586a0d-e52a-4edd-a2fa-ea2e507fdf25"
      },
      "source": [
        "The `input()` function will always read a string from user."
      ]
    },
    {
      "cell_type": "code",
      "execution_count": null,
      "id": "0df2138f-8fbd-4faa-b24a-f1b130bb27cf",
      "metadata": {
        "id": "0df2138f-8fbd-4faa-b24a-f1b130bb27cf",
        "outputId": "853141be-2c3e-4d5d-a314-2031fa3a7e4b"
      },
      "outputs": [
        {
          "name": "stdout",
          "output_type": "stream",
          "text": [
            "Hello\n"
          ]
        }
      ],
      "source": [
        "a = input('Please input a string:')\n",
        "print(a)"
      ]
    },
    {
      "cell_type": "markdown",
      "id": "58132b5d-586d-4c67-b15f-a7208d77186e",
      "metadata": {
        "id": "58132b5d-586d-4c67-b15f-a7208d77186e"
      },
      "source": [
        "The part `'Please input a string:'` is a message to prompt user for input. It can be omitted:"
      ]
    },
    {
      "cell_type": "code",
      "execution_count": null,
      "id": "0554330c-d745-4597-8433-996bbaaabf91",
      "metadata": {
        "id": "0554330c-d745-4597-8433-996bbaaabf91",
        "outputId": "0f8c3211-6fc9-492b-c9cf-f8251154635d"
      },
      "outputs": [
        {
          "name": "stdout",
          "output_type": "stream",
          "text": [
            "Hello\n"
          ]
        }
      ],
      "source": [
        "a = input()\n",
        "print(a) "
      ]
    },
    {
      "cell_type": "markdown",
      "id": "715c858d-db3c-433c-80ae-752015bb9869",
      "metadata": {
        "id": "715c858d-db3c-433c-80ae-752015bb9869"
      },
      "source": [
        "## Reading integer or floating-point values\n",
        "\n",
        "As `input()` will always return a string, before we can use an input value in arithmetic calculation, we need to convert it to integer or floating point values. For example:"
      ]
    },
    {
      "cell_type": "code",
      "execution_count": null,
      "id": "8b9a4bbd-0584-4c23-b08b-926335fcd464",
      "metadata": {
        "id": "8b9a4bbd-0584-4c23-b08b-926335fcd464",
        "outputId": "b2137ca3-ae3a-45ef-a776-5ef0c8a70060"
      },
      "outputs": [
        {
          "name": "stdout",
          "output_type": "stream",
          "text": [
            "3 + 0.14 = 3.14\n"
          ]
        }
      ],
      "source": [
        "a = int(input())\n",
        "b = float(input())\n",
        "print(a, '+', b, '=', a + b)"
      ]
    },
    {
      "cell_type": "markdown",
      "id": "0fcfdbdb-b02f-49bd-bdf7-d6833fbb4c35",
      "metadata": {
        "id": "0fcfdbdb-b02f-49bd-bdf7-d6833fbb4c35"
      },
      "source": [
        "# Quiz\n",
        "\n",
        "- These questions tests your understanding to the topics.\n",
        "- All quizzes are available on Moodle for self-evaluation purpose."
      ]
    },
    {
      "cell_type": "markdown",
      "id": "85dad83e-04ef-4dca-ab4a-eddc4b44b9b9",
      "metadata": {
        "id": "85dad83e-04ef-4dca-ab4a-eddc4b44b9b9"
      },
      "source": [
        "## Quiz 1a\n",
        "\n",
        "1. Name the operator `//`.\n",
        "2. What is the output of the following program? Try to derive the output without running the code.\n",
        "\n",
        "```python\n",
        "print('Hello', 'oh', sep=',', end=' ')\n",
        "print('my', 'world', sep='', end='!')\n",
        "```"
      ]
    },
    {
      "cell_type": "markdown",
      "id": "e7f1b701-7770-4088-991b-a2c71d9d94fd",
      "metadata": {
        "id": "e7f1b701-7770-4088-991b-a2c71d9d94fd"
      },
      "source": [
        "# Exercises\n",
        "\n",
        "- Exercises help you to check your understanding to the topics.\n",
        "- There is no specific requirements to these exercises, you are encouraged to explore different approaches in solving the problems.\n",
        "- Some exercises are available on Moodle (in the form of VPL exercises) for self-evaluation\n",
        "  - When doing exercises on VPL, you must follow the exact input/output requirement.\n",
        "  - You must press the \"evaluate\" button to evaluate your work for it to be graded."
      ]
    },
    {
      "cell_type": "markdown",
      "id": "69e1c945-a5b9-47aa-aec3-d6194112082c",
      "metadata": {
        "id": "69e1c945-a5b9-47aa-aec3-d6194112082c"
      },
      "source": [
        "## Exercise 1-1\n",
        "\n",
        "- Write a program that reads **two floating-point values** and compute their harmonic mean.\n",
        "- Harmonic mean \\\\(H\\\\) of input values \\\\(a\\\\), and \\\\(b\\\\) can be calculated by the formula \\\\(\\frac{1}{H}=\\frac{1}{2}(\\frac{1}{a}+\\frac{1}{b})\\\\), or simply \\\\(H=\\frac{2ab}{a+b}\\\\).\n",
        "- Sample input/output:\n",
        "\n",
        "| Input    | Output |\n",
        "| ----     | ---    |\n",
        "| 1<br>4     | 1.6    |\n",
        "| 3<br>7     | 4.2    |\n",
        "| 3.7<br>4.3 | 3.9775 |"
      ]
    },
    {
      "cell_type": "markdown",
      "id": "4d0858a0-c6a5-43b4-8cd1-63a44f6c786f",
      "metadata": {
        "id": "4d0858a0-c6a5-43b4-8cd1-63a44f6c786f"
      },
      "source": [
        "## Exercise 1-2 (VPL available)\n",
        "\n",
        "- Write a program that convert time period (in seconds) to the long format represented by the pattern `?h ?m ?s`.\n",
        "- Sample input/output:\n",
        "\n",
        "| Input   | Output |\n",
        "| ----    | ---    |\n",
        "| 100     | 0h 1m 40s |\n",
        "| 10000   | 2h 46m 40s |\n",
        "| 1000000 | 277h 46m 40s |"
      ]
    },
    {
      "cell_type": "markdown",
      "id": "622d9afa-b17f-475e-964e-347df66b3948",
      "metadata": {
        "id": "622d9afa-b17f-475e-964e-347df66b3948"
      },
      "source": [
        "# Optional: Bitwise operators"
      ]
    },
    {
      "cell_type": "markdown",
      "id": "77dc00e9-8e31-4543-9224-8a063c414df4",
      "metadata": {
        "id": "77dc00e9-8e31-4543-9224-8a063c414df4"
      },
      "source": [
        "## Number base\n",
        "\n",
        "Apart from base 10 numbers, we can define numbers with base 2, 8 and 16 in Python.\n",
        "- Base 2 number is prefixed by pattern `0b`.\n",
        "- Base 8 number is prefixed by pattern `0o`.\n",
        "- Base 16 number is prefixed by pattern `0x`."
      ]
    },
    {
      "cell_type": "code",
      "execution_count": null,
      "id": "1849ed22-e14a-408f-aa4d-c29d2b004cca",
      "metadata": {
        "id": "1849ed22-e14a-408f-aa4d-c29d2b004cca",
        "outputId": "1f809a55-3202-4ee8-d3b4-918d7246d13d"
      },
      "outputs": [
        {
          "name": "stdout",
          "output_type": "stream",
          "text": [
            "212\n"
          ]
        }
      ],
      "source": [
        "print(0b011010100)"
      ]
    },
    {
      "cell_type": "code",
      "execution_count": null,
      "id": "d7ed30e3-6ee4-426f-b9a6-161afde14ef5",
      "metadata": {
        "id": "d7ed30e3-6ee4-426f-b9a6-161afde14ef5",
        "outputId": "d8957cae-0ff7-4b3b-cee6-54c0f2345cff"
      },
      "outputs": [
        {
          "name": "stdout",
          "output_type": "stream",
          "text": [
            "212\n"
          ]
        }
      ],
      "source": [
        "print(0o324)"
      ]
    },
    {
      "cell_type": "code",
      "execution_count": null,
      "id": "d2b43a8b-b269-4aba-ae97-89c760189900",
      "metadata": {
        "id": "d2b43a8b-b269-4aba-ae97-89c760189900",
        "outputId": "62c0ef36-2701-4be3-f77b-4d2a0ac798a0"
      },
      "outputs": [
        {
          "name": "stdout",
          "output_type": "stream",
          "text": [
            "212\n"
          ]
        }
      ],
      "source": [
        "print(0xD4)"
      ]
    },
    {
      "cell_type": "markdown",
      "id": "9b8a48b9-7a25-460b-a2f7-f812d56fe56d",
      "metadata": {
        "id": "9b8a48b9-7a25-460b-a2f7-f812d56fe56d"
      },
      "source": [
        "## Binary representation\n",
        "\n",
        "- In a computer, all values are stored as binary numbers.\n",
        "- So number `212` is internally stored as `0b11010100`.\n",
        "- These numbers are left-padded with zeros to match with the bit-length. \n",
        "Therefore the number `212` is actually stored as `0b00...011010100`.\n",
        "- Note that in a signed representation, numbers are stored in [2's complement](https://en.wikipedia.org/wiki/Two%27s_complement) representation."
      ]
    },
    {
      "cell_type": "markdown",
      "id": "d183a96a-105a-4a91-b819-32d01f286d1b",
      "metadata": {
        "id": "d183a96a-105a-4a91-b819-32d01f286d1b"
      },
      "source": [
        "## Bitwise operations\n",
        "\n",
        "Bitwise operations apply on numbers bit by bit, for example, the AND operation (`&`) on values 12 (`0b01100`) and 10 (`0b01010`) will be:\n",
        "\n",
        "```text\n",
        "  00...01100 (12)\n",
        "& 00...01010 (10)\n",
        "------------------\n",
        "  00...01000 ( 8)\n",
        "```\n",
        "\n",
        "Only one of the bits above will give a result of 1 as both operands are 1."
      ]
    },
    {
      "cell_type": "markdown",
      "id": "f65ae155-339b-44c3-a8ec-beeaa049dbaa",
      "metadata": {
        "id": "f65ae155-339b-44c3-a8ec-beeaa049dbaa"
      },
      "source": [
        "## Bitwise Logical Operators"
      ]
    },
    {
      "cell_type": "markdown",
      "id": "8ebeb829-6b94-4665-9dec-710c1261c633",
      "metadata": {
        "id": "8ebeb829-6b94-4665-9dec-710c1261c633"
      },
      "source": [
        "### AND / OR / XOR\n",
        "\n",
        "Bitwise logical operators includes AND (`&`), OR (`|`), and XOR (`^`), for example:"
      ]
    },
    {
      "cell_type": "code",
      "execution_count": null,
      "id": "5fd6e93b-0b49-4722-92d8-b1b6f5548cbd",
      "metadata": {
        "id": "5fd6e93b-0b49-4722-92d8-b1b6f5548cbd",
        "outputId": "6f99cd82-34e2-4997-a470-91b3c7d6ad20"
      },
      "outputs": [
        {
          "name": "stdout",
          "output_type": "stream",
          "text": [
            "8 14 6\n"
          ]
        }
      ],
      "source": [
        "a = 0b01100\n",
        "b = 0b01010\n",
        "print(a & b, a | b, a ^ b)"
      ]
    },
    {
      "cell_type": "markdown",
      "id": "54962c30-54a9-4e74-b461-b2edf3796a61",
      "metadata": {
        "id": "54962c30-54a9-4e74-b461-b2edf3796a61"
      },
      "source": [
        "### NOT\n",
        "\n",
        "There is also the negation operator (`~`) which inverts all the bits. \n",
        "For example, positive value `01100` (`00...01100`) will becomes `11...10011`.\n",
        "\n",
        "In [2's complement](https://en.wikipedia.org/wiki/Two%27s_complement) representation. The above value equals `-13`. "
      ]
    },
    {
      "cell_type": "code",
      "execution_count": null,
      "id": "1a420898-6c59-4ddc-acc4-17381cf4c0e8",
      "metadata": {
        "id": "1a420898-6c59-4ddc-acc4-17381cf4c0e8",
        "outputId": "9f3b119b-6854-4dec-b56f-a4723e63121f"
      },
      "outputs": [
        {
          "name": "stdout",
          "output_type": "stream",
          "text": [
            "-13 -11\n"
          ]
        }
      ],
      "source": [
        "a = 0b01100\n",
        "b = 0b01010\n",
        "print(~a, ~b)"
      ]
    },
    {
      "cell_type": "markdown",
      "id": "3d63a02e-9f2b-48f5-8cf1-9fb2ef436582",
      "metadata": {
        "id": "3d63a02e-9f2b-48f5-8cf1-9fb2ef436582"
      },
      "source": [
        "## Shift Operators\n",
        "\n",
        "Shift operators shift the binary pattern to the left (`<<`) or right (`>>`). For example:"
      ]
    },
    {
      "cell_type": "code",
      "execution_count": null,
      "id": "cade7a2a-584c-4b19-9e77-bc70b153561e",
      "metadata": {
        "id": "cade7a2a-584c-4b19-9e77-bc70b153561e",
        "outputId": "a9c9c76b-d13f-413b-ff50-d613575dd879"
      },
      "outputs": [
        {
          "name": "stdout",
          "output_type": "stream",
          "text": [
            "3 26\n"
          ]
        }
      ],
      "source": [
        "x = 0b01101\n",
        "print(x >> 2, x << 1)"
      ]
    },
    {
      "cell_type": "markdown",
      "id": "40f7d099-f680-4ffa-aacf-731c48413ae2",
      "metadata": {
        "id": "40f7d099-f680-4ffa-aacf-731c48413ae2"
      },
      "source": [
        "`x >> 2` shifts value `0b00...01101` (13) two positions to the right, therefore the result is `0b00...011` (3). Similarly, `x << 1` shifts the same value one position to the left, so the result is `0b00...011010` (26)."
      ]
    },
    {
      "cell_type": "markdown",
      "id": "59aaf981",
      "metadata": {
        "id": "59aaf981"
      },
      "source": [
        "# Optional: Type hint"
      ]
    },
    {
      "cell_type": "markdown",
      "id": "3c3e82a9",
      "metadata": {
        "id": "3c3e82a9"
      },
      "source": [
        "## Every value has a \"type\"\n",
        "\n",
        "We can check the type of a value using `type()`."
      ]
    },
    {
      "cell_type": "code",
      "execution_count": null,
      "id": "3ba76b0d",
      "metadata": {
        "id": "3ba76b0d",
        "outputId": "b89e6285-8360-4fa4-b92c-0c7167dcdb82"
      },
      "outputs": [
        {
          "name": "stdout",
          "output_type": "stream",
          "text": [
            "<class 'int'>\n",
            "<class 'float'>\n",
            "<class 'str'>\n"
          ]
        }
      ],
      "source": [
        "print(type(1))\n",
        "print(type(3.14))\n",
        "print(type('Hello'))"
      ]
    },
    {
      "cell_type": "markdown",
      "id": "7e61e3c5",
      "metadata": {
        "id": "7e61e3c5"
      },
      "source": [
        "## Variable type\n",
        "\n",
        "When we assign a value to a variable, the type of variable changes accordingly."
      ]
    },
    {
      "cell_type": "code",
      "execution_count": null,
      "id": "9e72667d",
      "metadata": {
        "id": "9e72667d",
        "outputId": "8c8576ed-5724-4f96-a78d-997ffc04f930"
      },
      "outputs": [
        {
          "name": "stdout",
          "output_type": "stream",
          "text": [
            "<class 'int'>\n",
            "<class 'float'>\n",
            "<class 'str'>\n"
          ]
        }
      ],
      "source": [
        "a = 1\n",
        "print(type(a))\n",
        "a = 3.14\n",
        "print(type(a))\n",
        "a = 'Hello'\n",
        "print(type(a))"
      ]
    },
    {
      "cell_type": "markdown",
      "id": "689f69da",
      "metadata": {
        "id": "689f69da"
      },
      "source": [
        "## Type hint\n",
        "\n",
        "It is always advised to keep the type of a variable unchanged. In many programming languages, you have to declare the type for a variable before you can use it. In Python, it is not necessary but possible. "
      ]
    },
    {
      "cell_type": "code",
      "execution_count": null,
      "id": "da4344de",
      "metadata": {
        "id": "da4344de",
        "outputId": "cba2db83-29ad-45b9-9b13-21dcf4d50aa0"
      },
      "outputs": [
        {
          "name": "stdout",
          "output_type": "stream",
          "text": [
            "<class 'int'> <class 'float'> <class 'str'>\n"
          ]
        }
      ],
      "source": [
        "myInt: int = 1\n",
        "myFloat: float = 3.14\n",
        "myStr: str = 'Hello'\n",
        "print(type(myInt), type(myFloat), type(myStr))"
      ]
    },
    {
      "cell_type": "markdown",
      "id": "2103e3bb",
      "metadata": {
        "id": "2103e3bb"
      },
      "source": [
        "## But it's just a \"hint\"\n",
        "\n",
        "Type hint has no effect during code execution, it is a hint for developers and for the IDE to detect possible error in your program. Variable type will still be changed if you assign value of diffeent type to it."
      ]
    },
    {
      "cell_type": "code",
      "execution_count": null,
      "id": "9162ca58",
      "metadata": {
        "id": "9162ca58",
        "outputId": "0798dc40-b9e1-4ed5-d247-3627bcc11349"
      },
      "outputs": [
        {
          "name": "stdout",
          "output_type": "stream",
          "text": [
            "<class 'float'>\n"
          ]
        }
      ],
      "source": [
        "myInt: int = 1\n",
        "myInt = 3.14\n",
        "print(type(myInt))"
      ]
    }
  ],
  "metadata": {
    "kernelspec": {
      "display_name": "Python 3.10.6 64-bit",
      "language": "python",
      "name": "python3"
    },
    "language_info": {
      "codemirror_mode": {
        "name": "ipython",
        "version": 3
      },
      "file_extension": ".py",
      "mimetype": "text/x-python",
      "name": "python",
      "nbconvert_exporter": "python",
      "pygments_lexer": "ipython3",
      "version": "3.10.6"
    },
    "toc-autonumbering": false,
    "vscode": {
      "interpreter": {
        "hash": "bd5508c2ffc7f17f7d31cf4086cc872f89e96996a08987e995649e5fbe85a3a4"
      }
    },
    "colab": {
      "name": "01a.VariableOperatorsIO.ipynb",
      "provenance": [],
      "collapsed_sections": [],
      "include_colab_link": true
    }
  },
  "nbformat": 4,
  "nbformat_minor": 5
}