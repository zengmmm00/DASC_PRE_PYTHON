{
  "cells": [
    {
      "cell_type": "markdown",
      "metadata": {
        "id": "view-in-github",
        "colab_type": "text"
      },
      "source": [
        "<a href=\"https://colab.research.google.com/github/zengmmm00/DASC_PRE_PYTHON/blob/main/02b_Strings.ipynb\" target=\"_parent\"><img src=\"https://colab.research.google.com/assets/colab-badge.svg\" alt=\"Open In Colab\"/></a>"
      ]
    },
    {
      "cell_type": "markdown",
      "id": "a32e52aa-479b-43b1-a075-4aa6f6e10afb",
      "metadata": {
        "id": "a32e52aa-479b-43b1-a075-4aa6f6e10afb"
      },
      "source": [
        "> _Self-learning material_  \n",
        "> **Python workshop - 2b. Strings**"
      ]
    },
    {
      "cell_type": "markdown",
      "id": "cf137135-d478-4a5b-8274-f8739e8760f8",
      "metadata": {
        "id": "cf137135-d478-4a5b-8274-f8739e8760f8"
      },
      "source": [
        "# Strings"
      ]
    },
    {
      "cell_type": "markdown",
      "id": "b87a9be3-d928-43a8-aaea-2f1ac505d92e",
      "metadata": {
        "id": "b87a9be3-d928-43a8-aaea-2f1ac505d92e"
      },
      "source": [
        "## Strings and Tuples\n",
        "\n",
        "**Strings** and Tuples are very similar. In fact, a string can be seen as a tuple of characters."
      ]
    },
    {
      "cell_type": "code",
      "execution_count": null,
      "id": "c6dda139-7aae-4f30-98b0-067f7a4f01d2",
      "metadata": {
        "id": "c6dda139-7aae-4f30-98b0-067f7a4f01d2",
        "outputId": "ee4f2a2d-cf8d-47b2-f1b7-b5d1e67beac7"
      },
      "outputs": [
        {
          "name": "stdout",
          "output_type": "stream",
          "text": [
            "Length of (1, 2, 3) is 3\n"
          ]
        }
      ],
      "source": [
        "myTuple = (1, 2, 3)\n",
        "myStr = \"abc\"\n",
        "print('Length of', myTuple, \"is\", len(myTuple))"
      ]
    },
    {
      "cell_type": "code",
      "execution_count": null,
      "id": "3d37cd6e-e2cc-4ad9-b632-e3e234440f4a",
      "metadata": {
        "id": "3d37cd6e-e2cc-4ad9-b632-e3e234440f4a",
        "outputId": "32ea0fb5-4510-43d4-ba58-4be41cef4588"
      },
      "outputs": [
        {
          "name": "stdout",
          "output_type": "stream",
          "text": [
            "Length of abc is 3\n"
          ]
        }
      ],
      "source": [
        "print('Length of', myStr, \"is\", len(myStr))"
      ]
    },
    {
      "cell_type": "markdown",
      "id": "dddff185-ed5f-4bc7-a07c-1d47dc394103",
      "metadata": {
        "id": "dddff185-ed5f-4bc7-a07c-1d47dc394103"
      },
      "source": [
        "## String in for-loop\n",
        "\n",
        "We can iterated a string in a **for-loop**:"
      ]
    },
    {
      "cell_type": "code",
      "execution_count": null,
      "id": "3234fa4d-26b9-4dcb-934c-646d4827d27f",
      "metadata": {
        "id": "3234fa4d-26b9-4dcb-934c-646d4827d27f",
        "outputId": "9c8ae412-8ea7-47aa-a186-184adece578d"
      },
      "outputs": [
        {
          "name": "stdout",
          "output_type": "stream",
          "text": [
            "a\n",
            "b\n",
            "c\n"
          ]
        }
      ],
      "source": [
        "myStr = \"abc\"\n",
        "for c in myStr:\n",
        "    print(c)"
      ]
    },
    {
      "cell_type": "markdown",
      "id": "05760bdd-2bc3-4a79-97c6-8dd02faff9c3",
      "metadata": {
        "id": "05760bdd-2bc3-4a79-97c6-8dd02faff9c3"
      },
      "source": [
        "## Slicing\n",
        "\n",
        "**Slicing** is also possible for strings."
      ]
    },
    {
      "cell_type": "code",
      "execution_count": null,
      "id": "c0138dc7-2bb7-4f57-be11-ce8d2d5a688c",
      "metadata": {
        "id": "c0138dc7-2bb7-4f57-be11-ce8d2d5a688c",
        "outputId": "4630b2ef-15a3-4d3a-c5c6-0a641e11e143"
      },
      "outputs": [
        {
          "name": "stdout",
          "output_type": "stream",
          "text": [
            "bcd\n",
            "bdf\n"
          ]
        }
      ],
      "source": [
        "myStr = \"abcdefg\"\n",
        "print(myStr[1:4])\n",
        "print(myStr[1:6:2])"
      ]
    },
    {
      "cell_type": "markdown",
      "id": "d72282a3-ca7a-4762-ad27-9186beef23f9",
      "metadata": {
        "id": "d72282a3-ca7a-4762-ad27-9186beef23f9"
      },
      "source": [
        "## String is Immutable\n",
        "\n",
        "However since string is **immutable**, we cannot assign values to an index or a slice."
      ]
    },
    {
      "cell_type": "code",
      "execution_count": null,
      "id": "e03689cf-539c-476d-989c-14ba2199851e",
      "metadata": {
        "id": "e03689cf-539c-476d-989c-14ba2199851e"
      },
      "outputs": [],
      "source": [
        "myStr = \"abcdefg\"\n",
        "myStr[1] = 'X'\n",
        "myStr[1:4] = 'XXX'"
      ]
    },
    {
      "cell_type": "markdown",
      "id": "fbc3173d-facd-4d91-be43-b849f389bca3",
      "metadata": {
        "id": "fbc3173d-facd-4d91-be43-b849f389bca3"
      },
      "source": [
        "- The above code will throw an **error**. \n",
        "- We need to construct the string using concatenation or string formatting."
      ]
    },
    {
      "cell_type": "markdown",
      "id": "9ad299a3-921a-4cbe-b02c-0a06595477f2",
      "metadata": {
        "id": "9ad299a3-921a-4cbe-b02c-0a06595477f2"
      },
      "source": [
        "# String manipulation"
      ]
    },
    {
      "cell_type": "markdown",
      "id": "1272c7a1-2241-4917-bd1a-7476bff91203",
      "metadata": {
        "id": "1272c7a1-2241-4917-bd1a-7476bff91203"
      },
      "source": [
        "## String construction\n",
        "\n",
        "Suppose we try to produce a string that shows the result of adding two values:"
      ]
    },
    {
      "cell_type": "code",
      "execution_count": null,
      "id": "4c82e689-4b0f-4e88-85f4-81f9d5db4e77",
      "metadata": {
        "id": "4c82e689-4b0f-4e88-85f4-81f9d5db4e77"
      },
      "outputs": [],
      "source": [
        "a = 1\n",
        "b = 2\n",
        "c = a + b\n",
        "s = a + \"+\" + b + \"=\" + c\n",
        "print(s)"
      ]
    },
    {
      "cell_type": "markdown",
      "id": "79e2c891-45c1-4c24-9254-31cd5eebe9f0",
      "metadata": {
        "id": "79e2c891-45c1-4c24-9254-31cd5eebe9f0"
      },
      "source": [
        "- The above code will throw an error when executed.\n",
        "- Operator `+` can be used to concatenate two strings, but it cannot concatenate a string and a number.\n",
        "- We need to **convert** the non-string value to a string using the `str()` function."
      ]
    },
    {
      "cell_type": "code",
      "execution_count": null,
      "id": "ad6a372f-14e8-474d-8da7-d4d2260a14bb",
      "metadata": {
        "id": "ad6a372f-14e8-474d-8da7-d4d2260a14bb",
        "outputId": "a8a9fba6-85a8-4c7e-dc9b-78be2fdc7f2b"
      },
      "outputs": [
        {
          "name": "stdout",
          "output_type": "stream",
          "text": [
            "1+2=3\n"
          ]
        }
      ],
      "source": [
        "a = 1\n",
        "b = 2\n",
        "c = a + b\n",
        "s = str(a) + \"+\" + str(b) + \"=\" + str(c)\n",
        "print(s)"
      ]
    },
    {
      "cell_type": "markdown",
      "id": "c80b198d-5255-4f3c-bbfc-1caa1e55040b",
      "metadata": {
        "id": "c80b198d-5255-4f3c-bbfc-1caa1e55040b"
      },
      "source": [
        "## String repeatition\n",
        "\n",
        "Operator `*` can be used to generate a repeated sequence of strings."
      ]
    },
    {
      "cell_type": "code",
      "execution_count": null,
      "id": "28cfd06e-2e4d-414f-96b8-7e94d993b9d4",
      "metadata": {
        "id": "28cfd06e-2e4d-414f-96b8-7e94d993b9d4",
        "outputId": "a048c312-c59c-4b87-fd5d-55d5810296d3"
      },
      "outputs": [
        {
          "name": "stdout",
          "output_type": "stream",
          "text": [
            "=-==-==-==-==-==-==-==-==-==-=\n"
          ]
        }
      ],
      "source": [
        "print('=-=' * 10)"
      ]
    },
    {
      "cell_type": "markdown",
      "id": "ef680476-79d0-4c17-96bc-3086b815bc49",
      "metadata": {
        "id": "ef680476-79d0-4c17-96bc-3086b815bc49"
      },
      "source": [
        "## Other useful string operations\n",
        "\n",
        "| Operation | Effect |\n",
        "| ---       | --- |\n",
        "| `str.count(sub)` | Count the number of occurrances of `sub` in `str`. |\n",
        "| `str.startsWith(prefix)` | Check if `str` starts with `prefix`. |\n",
        "| `str.endsWith(suffix)` | Check if `str` ends with `suffix`. |\n",
        "| `str.find(sub)` | Find the position of the first occurrance of `sub` in `str`. |\n",
        "| `str.split(sep)` | Split `str` into list of strings using separator `sep`. |\n",
        "| `str.join(iter)` | Join list/tuple `iter` into a string concatenated by `str`. |\n",
        "\n",
        "Reference: <https://docs.python.org/3/library/stdtypes.html#string-methods>"
      ]
    },
    {
      "cell_type": "markdown",
      "id": "de015217-8903-40b6-a8d0-a81cd87eaec0",
      "metadata": {
        "id": "de015217-8903-40b6-a8d0-a81cd87eaec0"
      },
      "source": [
        "## F-string\n",
        "\n",
        "F-string allow us to inject values into a string by specifying placeholders."
      ]
    },
    {
      "cell_type": "code",
      "execution_count": null,
      "id": "42b5b7a5-26b3-409e-8d05-cd9c5e9c69a7",
      "metadata": {
        "id": "42b5b7a5-26b3-409e-8d05-cd9c5e9c69a7",
        "outputId": "cb68e54c-80d8-4527-ea12-d2b4e4df4d5d"
      },
      "outputs": [
        {
          "name": "stdout",
          "output_type": "stream",
          "text": [
            "1+2=3\n"
          ]
        }
      ],
      "source": [
        "a = 1\n",
        "b = 2\n",
        "print(f'{a}+{b}={a+b}')"
      ]
    },
    {
      "cell_type": "markdown",
      "id": "2919c940-9d7b-454e-87b6-e07fa6c90980",
      "metadata": {
        "id": "2919c940-9d7b-454e-87b6-e07fa6c90980"
      },
      "source": [
        "- `f'...'` specifies an f-string.\n",
        "- `{}` is a placeholder for values to be put into the string.\n",
        "- Details will be covered in a notes 3f (optiona)."
      ]
    },
    {
      "cell_type": "markdown",
      "id": "839b795f-b0ee-491d-99d8-3c6341036a23",
      "metadata": {
        "id": "839b795f-b0ee-491d-99d8-3c6341036a23"
      },
      "source": [
        "# Quiz"
      ]
    },
    {
      "cell_type": "markdown",
      "id": "8f3315eb-6e52-45f6-af9f-77f10311d711",
      "metadata": {
        "id": "8f3315eb-6e52-45f6-af9f-77f10311d711"
      },
      "source": [
        "## Quiz 2b\n",
        "\n",
        "1. Give a single statement following the code below, so that the variable `s` with a value of type string,\n",
        "   is appended with the number in variable `i` using operator `+`. \n",
        "   Use no spaces in your answer.\n",
        "\n",
        "```python\n",
        "s = input()\n",
        "i = int(input())\n",
        "# ...\n",
        "```\n",
        "\n",
        "2. Given variable `s`, with the use of slicing, give an expression that equals to `ape` if `s='apple'`,\n",
        "   and equals to `pnape` if `s='pineapple'`."
      ]
    },
    {
      "cell_type": "markdown",
      "id": "f7b1ccbc-3d9e-4e41-b752-89cad0bb0a4e",
      "metadata": {
        "id": "f7b1ccbc-3d9e-4e41-b752-89cad0bb0a4e"
      },
      "source": [
        "# Exercises"
      ]
    },
    {
      "cell_type": "markdown",
      "id": "5b4436e4-cc6a-4abf-a276-a1d4c50c56d9",
      "metadata": {
        "id": "5b4436e4-cc6a-4abf-a276-a1d4c50c56d9"
      },
      "source": [
        "## Exercise 2-3\n",
        "\n",
        "- Write a program that reads an input string, and print a list of strings following a specific pattern as shown below.\n",
        "- Suppose the input string is `hello`, the output should be:\n",
        "\n",
        "```text\n",
        "hellohello\n",
        "_ellohell\n",
        "__llohel\n",
        "___lohe\n",
        "____oh\n",
        "```\n",
        "\n",
        "Another example output for the input `foobar`:\n",
        "\n",
        "```text\n",
        "foobarfoobar\n",
        "_oobarfooba\n",
        "__obarfoob\n",
        "___barfoo\n",
        "____arfo\n",
        "_____rf\n",
        "```"
      ]
    },
    {
      "cell_type": "markdown",
      "id": "0fca1092-ff47-4c95-a089-e65c86852467",
      "metadata": {
        "id": "0fca1092-ff47-4c95-a089-e65c86852467"
      },
      "source": [
        "## Exercise 2-4 (VPL available)\n",
        "\n",
        "- Write a program that reads an input string, and print a strings following a specific pattern as shown below.\n",
        "- Suppose the input string is `hello`, the output should be:\n",
        "\n",
        "```text\n",
        "hhehelhellhelloellolloloo\n",
        "```\n",
        "\n",
        "Note: The output is the concatenation of `'h'`, `'he'`, `'hel'`, `'hell'`, `'hello'`, `'ello'`, `'llo'`, `'lo'`, and `'o'`.\n",
        "\n",
        "Sample input/output:\n",
        "\n",
        "| Input | Output |\n",
        "| --- | --- |\n",
        "| blah | bblblablahlahahh |\n",
        "| foobar | ffofoofoobfoobafoobaroobarobarbararr |"
      ]
    },
    {
      "cell_type": "markdown",
      "id": "ee375237-267d-44c5-9892-c0666253c476",
      "metadata": {
        "id": "ee375237-267d-44c5-9892-c0666253c476"
      },
      "source": [
        "# Optional: Better string construction"
      ]
    },
    {
      "cell_type": "markdown",
      "id": "3b2abbdc-1211-4017-a340-cfd32f19ae31",
      "metadata": {
        "id": "3b2abbdc-1211-4017-a340-cfd32f19ae31"
      },
      "source": [
        "## Concatenation performance\n",
        "\n",
        "Consider the following example:\n",
        "\n",
        "```python\n",
        "a = \"...100 characters...\"\n",
        "s = \"\"\n",
        "for i in range(10):\n",
        "    s += a\n",
        "```\n",
        "- Every time the statement `s += a` is executed, a new string is created and all characters are copied to a new string.\n",
        "- What happens if the for-loop is running on `range(1000)`?\n",
        "- Number of characters copied will be a lot!"
      ]
    },
    {
      "cell_type": "markdown",
      "id": "997541c2-b696-4a50-ab37-b79f84bbccea",
      "metadata": {
        "id": "997541c2-b696-4a50-ab37-b79f84bbccea"
      },
      "source": [
        "## Better string construction\n",
        "\n",
        "For better performance, it is very common that string is constructed by the following steps:\n",
        "1. Constructng a **list** of strings of different parts\n",
        "2. **Join** the list of strings into a single string.\n",
        "\n",
        "In this way, we avoided generating intermediate concatenation results.\n",
        "\n",
        "To join a list of string, we can use the `join()` function. The statement `x.join(y)` will join the list of string `y` using string `x`. For example:"
      ]
    },
    {
      "cell_type": "code",
      "execution_count": null,
      "id": "155828d6-02ce-46a7-8500-8421e4ba9252",
      "metadata": {
        "id": "155828d6-02ce-46a7-8500-8421e4ba9252",
        "outputId": "11da6cf8-cdfa-48ea-eac6-7ee228d78a75"
      },
      "outputs": [
        {
          "name": "stdout",
          "output_type": "stream",
          "text": [
            "aaa,bbb,ccc\n"
          ]
        }
      ],
      "source": [
        "a = \"aaa\"\n",
        "b = \"bbb\"\n",
        "c = \"ccc\"\n",
        "print(','.join([a, b, c]))"
      ]
    },
    {
      "cell_type": "markdown",
      "id": "ed89d3f9-5470-42fb-8233-4396e46e7c9a",
      "metadata": {
        "id": "ed89d3f9-5470-42fb-8233-4396e46e7c9a"
      },
      "source": [
        "To concatenate a list of strings, we join them with an empty string:"
      ]
    },
    {
      "cell_type": "code",
      "execution_count": null,
      "id": "8ea2a8f8-0772-4d37-a012-17d99b380e2d",
      "metadata": {
        "id": "8ea2a8f8-0772-4d37-a012-17d99b380e2d",
        "outputId": "aaa76743-f55c-414c-f569-fbdb3e26755b"
      },
      "outputs": [
        {
          "name": "stdout",
          "output_type": "stream",
          "text": [
            "aaabbbccc\n"
          ]
        }
      ],
      "source": [
        "a = \"aaa\"\n",
        "b = \"bbb\"\n",
        "c = \"ccc\"\n",
        "print(''.join([a, b, c]))"
      ]
    },
    {
      "cell_type": "markdown",
      "id": "8459b395-fc02-42e5-89b0-1c5ff9ca8ea8",
      "metadata": {
        "id": "8459b395-fc02-42e5-89b0-1c5ff9ca8ea8"
      },
      "source": [
        "## Improved code\n",
        "\n",
        "We revisit our previous example:\n",
        "\n",
        "```python\n",
        "a = \"...100 characters...\"\n",
        "s = \"\"\n",
        "for i in range(10):\n",
        "    s += a\n",
        "```\n",
        "\n",
        "We can rewrite it to improve its performance:\n",
        "\n",
        "```python\n",
        "a = \"...100 characters...\"\n",
        "l = []\n",
        "for i in range(10):\n",
        "    l.append(a)\n",
        "    \n",
        "s = ''.join(l)\n",
        "```"
      ]
    },
    {
      "cell_type": "markdown",
      "id": "43483e75-ddea-4c1f-8629-675290ad2396",
      "metadata": {
        "id": "43483e75-ddea-4c1f-8629-675290ad2396"
      },
      "source": [
        "# Optional: Multiline string"
      ]
    },
    {
      "cell_type": "markdown",
      "id": "2248c15e-1ef9-450c-82cf-65825bcf93b4",
      "metadata": {
        "id": "2248c15e-1ef9-450c-82cf-65825bcf93b4"
      },
      "source": [
        "## Multiline string\n",
        "\n",
        "Multi-line string is defined using three single quotes or double quotes:\n",
        "\n",
        "```python\n",
        "a = '''Hello,\n",
        "world!'''\n",
        "\n",
        "b = \"\"\"Hello,\n",
        "world!\"\"\"\n",
        "```"
      ]
    },
    {
      "cell_type": "markdown",
      "id": "1f4cff41-13ca-4a89-940a-8940a23b93bf",
      "metadata": {
        "id": "1f4cff41-13ca-4a89-940a-8940a23b93bf"
      },
      "source": [
        "## Multiline comments\n",
        "\n",
        "Often the multi-line string notation is used to represents multi-line comments:\n",
        "\n",
        "```python\n",
        "'''\n",
        "This is a comment.\n",
        "This string is not kept in any variable.\n",
        "'''\n",
        "```\n",
        "\n",
        "Multiline comments is also used for documentation of codes."
      ]
    },
    {
      "cell_type": "markdown",
      "id": "269ee949-849c-4ffa-a430-6a2d1e221730",
      "metadata": {
        "id": "269ee949-849c-4ffa-a430-6a2d1e221730"
      },
      "source": [
        "# Optional: Character code"
      ]
    },
    {
      "cell_type": "markdown",
      "id": "986309aa-54fd-460b-8a6c-69c7c1847d93",
      "metadata": {
        "id": "986309aa-54fd-460b-8a6c-69c7c1847d93"
      },
      "source": [
        "## Character code\n",
        "\n",
        "- Each character is represented by a code internelly in Python.\n",
        "- This is also true for most programming languages.\n",
        "- We can convert a character to its code by using the `ord()` function, or the `chr()`function for the reverse."
      ]
    },
    {
      "cell_type": "markdown",
      "id": "e0398fda-148b-400e-ba2b-e943d1092f5b",
      "metadata": {
        "id": "e0398fda-148b-400e-ba2b-e943d1092f5b"
      },
      "source": [
        "## `ord()` and `chr()`\n",
        "\n",
        "Here is an example printing the code for character `a`:"
      ]
    },
    {
      "cell_type": "code",
      "execution_count": null,
      "id": "c116b2b6-05e8-4f98-b9b1-e59197eb787f",
      "metadata": {
        "id": "c116b2b6-05e8-4f98-b9b1-e59197eb787f",
        "outputId": "dbebfb5e-e248-4d6f-9b80-a190aa764de7"
      },
      "outputs": [
        {
          "name": "stdout",
          "output_type": "stream",
          "text": [
            "a has a code of 97\n"
          ]
        }
      ],
      "source": [
        "c = \"a\"\n",
        "a = ord(c)\n",
        "c2 = chr(a)\n",
        "print(c, \"has a code of\", a)"
      ]
    },
    {
      "cell_type": "code",
      "execution_count": null,
      "id": "0c20f1c7-e6b1-46a6-87bf-58a71171a965",
      "metadata": {
        "id": "0c20f1c7-e6b1-46a6-87bf-58a71171a965",
        "outputId": "79951300-76f8-4d4d-a99e-261d0e3cbf6a"
      },
      "outputs": [
        {
          "name": "stdout",
          "output_type": "stream",
          "text": [
            "97 is the code of the character a\n"
          ]
        }
      ],
      "source": [
        "print(a, \"is the code of the character\", c2)"
      ]
    },
    {
      "cell_type": "markdown",
      "id": "3301a1ea-6c35-471a-9580-93496a8d30ce",
      "metadata": {
        "id": "3301a1ea-6c35-471a-9580-93496a8d30ce"
      },
      "source": [
        "## Use of character code\n",
        "\n",
        "Since the character code of `a` to `z` are consecutive, we can easily convert letter `a` to `z` to a range of `0` to `25`. For example:"
      ]
    },
    {
      "cell_type": "code",
      "execution_count": null,
      "id": "6008ec40-a095-40cd-9c19-d8fe35b03aa4",
      "metadata": {
        "id": "6008ec40-a095-40cd-9c19-d8fe35b03aa4",
        "outputId": "88fbee43-9edf-4ad4-bcbb-9dbe4f9d2961"
      },
      "outputs": [
        {
          "name": "stdout",
          "output_type": "stream",
          "text": [
            "k is 10 letters after 'a'\n"
          ]
        }
      ],
      "source": [
        "c = \"k\"\n",
        "ord_a = ord('a')\n",
        "print(c, \"is\", ord(c) - ord('a'), \"letters after 'a'\")"
      ]
    },
    {
      "cell_type": "markdown",
      "id": "5efde215-f874-468c-ac4a-b84e3eafb72f",
      "metadata": {
        "id": "5efde215-f874-468c-ac4a-b84e3eafb72f"
      },
      "source": [
        "## Case checking\n",
        "\n",
        "We can check the letter case of a character using a similar method:"
      ]
    },
    {
      "cell_type": "code",
      "execution_count": null,
      "id": "a266bf5c-f852-4237-84c0-14b801758952",
      "metadata": {
        "id": "a266bf5c-f852-4237-84c0-14b801758952",
        "outputId": "a73a2e06-3721-4f31-dbc8-b4a73f2ca145"
      },
      "outputs": [
        {
          "name": "stdout",
          "output_type": "stream",
          "text": [
            "k is a lower case letter\n",
            "K is a capital letter\n",
            "* is not a letter\n"
          ]
        }
      ],
      "source": [
        "def testCase(c):\n",
        "    if ord(c) >= ord('a') and ord(c) <= ord('z'):\n",
        "        print(c, \"is a lower case letter\")\n",
        "    elif ord(c) >= ord('A') and ord(c) <= ord('Z'):\n",
        "        print(c, \"is a capital letter\")\n",
        "    else:\n",
        "        print(c, \"is not a letter\")\n",
        "\n",
        "testCase(\"k\")\n",
        "testCase(\"K\")\n",
        "testCase(\"*\")"
      ]
    },
    {
      "cell_type": "markdown",
      "id": "0788299c-94b5-4a40-bdb4-6546208d0ad5",
      "metadata": {
        "id": "0788299c-94b5-4a40-bdb4-6546208d0ad5"
      },
      "source": [
        "Note: We will discuss the use of function in a later section."
      ]
    },
    {
      "cell_type": "markdown",
      "id": "bc82ca5c-b80d-4e62-aa7e-df456b8fbbf0",
      "metadata": {
        "id": "bc82ca5c-b80d-4e62-aa7e-df456b8fbbf0"
      },
      "source": [
        "## ROT13\n",
        "\n",
        "As an example, we can implement [ROT13](https://en.wikipedia.org/wiki/ROT13), a substitution cipher in this way:"
      ]
    },
    {
      "cell_type": "code",
      "execution_count": null,
      "id": "c74148a9-4517-4a49-9067-6ab5132f9ffe",
      "metadata": {
        "id": "c74148a9-4517-4a49-9067-6ab5132f9ffe",
        "outputId": "baa7a866-95d3-41be-e4ac-39750883c307"
      },
      "outputs": [
        {
          "name": "stdout",
          "output_type": "stream",
          "text": [
            "Uryyb, jbeyq!\n"
          ]
        }
      ],
      "source": [
        "# ROT13 on string\n",
        "def rot13(text):\n",
        "    result = []\n",
        "    for c in text:\n",
        "        result.append(rot13c(c))\n",
        "    return \"\".join(result)\n",
        "\n",
        "# ROT13 on one character\n",
        "def rot13c(c):\n",
        "    lowerc = ord(c) - ord('a')\n",
        "    upperc = ord(c) - ord('A')\n",
        "    if lowerc >= 0 and lowerc < 26:\n",
        "        return chr(ord('a') + (lowerc + 13) % 26)\n",
        "    elif upperc >= 0 and upperc < 26:\n",
        "        return chr(ord('A') + (upperc + 13) % 26)\n",
        "    else:\n",
        "        return c\n",
        "\n",
        "s = input(\"Input a string: \")\n",
        "print(rot13(s))"
      ]
    }
  ],
  "metadata": {
    "kernelspec": {
      "display_name": "Python 3.10.6 64-bit",
      "language": "python",
      "name": "python3"
    },
    "language_info": {
      "codemirror_mode": {
        "name": "ipython",
        "version": 3
      },
      "file_extension": ".py",
      "mimetype": "text/x-python",
      "name": "python",
      "nbconvert_exporter": "python",
      "pygments_lexer": "ipython3",
      "version": "3.10.6"
    },
    "vscode": {
      "interpreter": {
        "hash": "bd5508c2ffc7f17f7d31cf4086cc872f89e96996a08987e995649e5fbe85a3a4"
      }
    },
    "colab": {
      "name": "02b.Strings.ipynb",
      "provenance": [],
      "include_colab_link": true
    }
  },
  "nbformat": 4,
  "nbformat_minor": 5
}