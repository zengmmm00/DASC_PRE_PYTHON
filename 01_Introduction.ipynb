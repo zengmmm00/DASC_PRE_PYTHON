{
  "cells": [
    {
      "cell_type": "markdown",
      "metadata": {
        "id": "view-in-github",
        "colab_type": "text"
      },
      "source": [
        "<a href=\"https://colab.research.google.com/github/zengmmm00/DASC_PRE_PYTHON/blob/main/01_Introduction.ipynb\" target=\"_parent\"><img src=\"https://colab.research.google.com/assets/colab-badge.svg\" alt=\"Open In Colab\"/></a>"
      ]
    },
    {
      "cell_type": "markdown",
      "id": "2576b9a3-6056-4307-8b4a-b4ca771276c7",
      "metadata": {
        "tags": [],
        "id": "2576b9a3-6056-4307-8b4a-b4ca771276c7"
      },
      "source": [
        "> **Python workshop - 1. Introduction**"
      ]
    },
    {
      "cell_type": "markdown",
      "id": "adb7494b-f5e2-4240-83e1-836217d8e58c",
      "metadata": {
        "tags": [],
        "id": "adb7494b-f5e2-4240-83e1-836217d8e58c"
      },
      "source": [
        "## Objectives\n",
        "\n",
        "- Understand the basis of programming.\n",
        "- Learn how to program with Python.\n",
        "- Be able to learn other programming languages by yourselves."
      ]
    },
    {
      "cell_type": "markdown",
      "id": "6cf5e21e-bfbb-4c1d-95cc-916aba917152",
      "metadata": {
        "tags": [],
        "id": "6cf5e21e-bfbb-4c1d-95cc-916aba917152"
      },
      "source": [
        "## Plan\n",
        "\n",
        "| Day | Topic |\n",
        "| --- | ---   |\n",
        "| **Day 1** | _Introduction_ |\n",
        "|           | Language syntax, variables, basic I/O |\n",
        "|           | Control structures |\n",
        "| **Day 2** | _Working with data_ |\n",
        "|           | Data Structures |\n",
        "|           | String and String formatting |\n",
        "| **Day 3** | _Abstraction_ |\n",
        "|           | Functions |\n",
        "|           | Classes |\n",
        "| **Day 3+** | _Further references_ |"
      ]
    },
    {
      "cell_type": "markdown",
      "id": "96873a35-581c-4b5e-b439-41d2436f49f7",
      "metadata": {
        "tags": [],
        "id": "96873a35-581c-4b5e-b439-41d2436f49f7"
      },
      "source": [
        "## Format\n",
        "\n",
        "- This workshop runs in a format that encourages self-learning:\n",
        "  - Daily introduction of topics\n",
        "  - Self-learning materials\n",
        "    - Reading materials with executable code segments\n",
        "    - Quizzes for self-evaluation\n",
        "    - Exercises for practice\n",
        "  - Demonstrations\n",
        "- Pacing will be adjusted depending on your progress."
      ]
    },
    {
      "cell_type": "markdown",
      "id": "978b943a-f61b-45ef-81f1-3228d6ed3f07",
      "metadata": {
        "tags": [],
        "id": "978b943a-f61b-45ef-81f1-3228d6ed3f07"
      },
      "source": [
        "## Why self-learning?\n",
        "\n",
        "- The best way to learn programming is by practicing.\n",
        "- Everyone has their own pace in learning.\n",
        "- You are encouraged to ask questions than just listening.\n",
        "  - Apart from asking in class, you can also ask questions in the forum."
      ]
    },
    {
      "cell_type": "markdown",
      "id": "b6a107b9-14d0-4df7-9daf-4c9e77428249",
      "metadata": {
        "tags": [],
        "id": "b6a107b9-14d0-4df7-9daf-4c9e77428249"
      },
      "source": [
        "## Installing Python\n",
        "\n",
        "- In this workshop we will be using the Python version 3.10. \n",
        "  - Downloadable at <https://www.python.org/>.\n",
        "- Google Colab will probably running an older version, but it doesn't matter as most of the materials runs well in Python 3.6+ .\n",
        "\n",
        "- Once you have installed Python, you should be able to run python in a terminal on your machine. In most cases, the command `python` will be available to use after installation. However, depending on the type of OS you are using, the command could be a bit different:\n",
        "  - On MacOS, the command could be `python3`\n",
        "  - On Windows, the command could be `py`"
      ]
    },
    {
      "cell_type": "markdown",
      "id": "eb721b9f-7ae5-4a9d-aaa9-912dd8eaaad8",
      "metadata": {
        "tags": [],
        "id": "eb721b9f-7ae5-4a9d-aaa9-912dd8eaaad8"
      },
      "source": [
        "## Running python\n",
        "\n",
        "- There are two ways to use Python: run code in a shell (through a terminal) (interactive mode) or run code from a file (script mode).\n",
        "- To start the python shell, you can use the command `python` (or `python3` / `py`) in a terminal.\n",
        "- To run code in a file, e.g., `your_program.py`, you run the command `python your_program.py` (replacing `your_program.py` with the actual file name."
      ]
    },
    {
      "cell_type": "markdown",
      "id": "ca286fdd-cd1c-44d5-9c07-74e6630d79dd",
      "metadata": {
        "tags": [],
        "id": "ca286fdd-cd1c-44d5-9c07-74e6630d79dd"
      },
      "source": [
        "## Development environment\n",
        "\n",
        "- We usually write programs in an integrated developmenet environment (IDE) that provides efficient ways to write code and test them in a unified UI.\n",
        "- **IDLE** is an IDE that comes with Python. It starts with a python shell, with an option to open a file editor that allow you to write your code in a file, and to test them in the shell.\n",
        "- **Jupyter Notebook** and **JupyterLab** is another popular alternatives. You can build blocks with content and code, with options to export to Python program ans run python code.\n",
        "  - The workshop materials are all written in Jupyter Notebook format and will be served on Google Colab.\n",
        "  - We will use IDLE in all demonstrations."
      ]
    },
    {
      "cell_type": "markdown",
      "id": "2b057583-47db-4fc0-9286-dd1bb1d4824a",
      "metadata": {
        "tags": [],
        "id": "2b057583-47db-4fc0-9286-dd1bb1d4824a"
      },
      "source": [
        "## Installing Jupyter\n",
        "\n",
        "- See <https://jupyter.org/install> for instruction of installing Jupyter Notebook / JupyterLab.\n",
        "- We need to use the package manager `pip`.\n",
        "  - `pip` is a python utilities that comes with python. Depending on your system setttings, you may or may not be able to run the command directly. If that happens, you can add `python -m` before the command (or `python3 -m` / `py -m`) to run the tool.\n",
        "  -  To launch JupyterLab, the command could be `python3 -m jupyterlab` or `py -m jupyterlab` (without hyphen). "
      ]
    },
    {
      "cell_type": "markdown",
      "id": "2f5f937c-f81c-4551-9c40-f4a191faa255",
      "metadata": {
        "tags": [],
        "id": "2f5f937c-f81c-4551-9c40-f4a191faa255"
      },
      "source": [
        "## Using the notes\n",
        "\n",
        "- If you have a Google account, you can view the materials through Google Colab. \n",
        "- Otherwise, you can install Jupyter Notebook / JupyterLab, then download the files on Moodle and run them locally.\n",
        "- You may also view the PDF version on Moodle."
      ]
    },
    {
      "cell_type": "markdown",
      "id": "6508bd43",
      "metadata": {
        "id": "6508bd43"
      },
      "source": [
        "## Checking Python version\n",
        "If you are viewing this in Google Colab or Jupiter Notebook, run the following block to check your current Python version. It should be at least 3.6."
      ]
    },
    {
      "cell_type": "code",
      "execution_count": null,
      "id": "b10e2ebd",
      "metadata": {
        "colab": {
          "base_uri": "https://localhost:8080/"
        },
        "id": "b10e2ebd",
        "outputId": "1e4c299f-bbce-4a6e-ab85-63aabc334489"
      },
      "outputs": [
        {
          "output_type": "stream",
          "name": "stdout",
          "text": [
            "Python 3.7.13\n"
          ]
        }
      ],
      "source": [
        "!python --version"
      ]
    },
    {
      "cell_type": "markdown",
      "id": "e2cbecfc-cbf9-4870-8415-fb04ded70968",
      "metadata": {
        "tags": [],
        "id": "e2cbecfc-cbf9-4870-8415-fb04ded70968"
      },
      "source": [
        "# Hello, world - The very first program"
      ]
    },
    {
      "cell_type": "markdown",
      "id": "ec2a993f-ce02-42f4-b610-c3aa42d1a4fc",
      "metadata": {
        "tags": [],
        "id": "ec2a993f-ce02-42f4-b610-c3aa42d1a4fc"
      },
      "source": [
        "## What is a program?\n",
        "- A program usually defines a **sequence** of statements to be executed one by one.\n",
        "- In a sequential, synchonous program, a program defines a flow of control that performs a task.\n",
        "\n",
        "    ![Flowchart: Hello world](https://drive.google.com/uc?export=view&id=1RBtnu4lMJpdnozV2B_f_cFtqg7y-d8cc&__v1)"
      ]
    },
    {
      "cell_type": "markdown",
      "id": "7c5130ed-6af1-467a-845d-703352bd819e",
      "metadata": {
        "tags": [],
        "id": "7c5130ed-6af1-467a-845d-703352bd819e"
      },
      "source": [
        "### Here is our first program:"
      ]
    },
    {
      "cell_type": "code",
      "execution_count": null,
      "id": "b2749a93-5ccd-436b-b6e4-645efc0274b8",
      "metadata": {
        "colab": {
          "base_uri": "https://localhost:8080/"
        },
        "id": "b2749a93-5ccd-436b-b6e4-645efc0274b8",
        "outputId": "c183a04a-7261-4358-fbe9-33c77e99d6c3"
      },
      "outputs": [
        {
          "output_type": "stream",
          "name": "stdout",
          "text": [
            "Hello, world!\n"
          ]
        }
      ],
      "source": [
        "# Hello, world\n",
        "print('Hello, world!')"
      ]
    },
    {
      "cell_type": "markdown",
      "id": "87589262-e162-49e4-b562-c04e9eae1b60",
      "metadata": {
        "tags": [],
        "id": "87589262-e162-49e4-b562-c04e9eae1b60"
      },
      "source": [
        "## Hello, world explained\n",
        "\n",
        "- There are only two lines in our first program:\n",
        "- The first line is a comment, it documents **what** the program does.\n",
        "\n",
        "```python\n",
        "# Hello, world\n",
        "```\n",
        "\n",
        "- The second line is an **output** statement, it prints the string `Hello, world!` to the console.\n",
        "\n",
        "```python\n",
        "print('Hello, world!')\n",
        "```"
      ]
    },
    {
      "cell_type": "markdown",
      "id": "5636bf1b-f93c-413c-b150-b03bd997da54",
      "metadata": {
        "tags": [],
        "id": "5636bf1b-f93c-413c-b150-b03bd997da54"
      },
      "source": [
        "## Concepts: Program state\n",
        "\n",
        "- The previous program is not very useful. We hope to produce a more interesting output. But how is that possible?\n",
        "\n",
        "    ![Flowchart: Program state](https://drive.google.com/uc?export=view&id=1D9cHBpEzPVYu01W6ZsGQS4aCVrpaAbPa&__v1\")"
      ]
    },
    {
      "cell_type": "markdown",
      "id": "4a7c6bd5-e4db-4ff2-9c18-32bfd59dc4c9",
      "metadata": {
        "tags": [],
        "id": "4a7c6bd5-e4db-4ff2-9c18-32bfd59dc4c9"
      },
      "source": [
        "- To allow steps in a program to work together, we need to maintain a program state. A program state allows steps in a program to behave differently according to the current state.\n",
        "\n",
        "- We use **variables** to maintain such state.\n",
        "  - Program can accept inputs to alter the state.\n",
        "  - Program can change the state by results of computation.\n",
        "  - Program can output information according to the state."
      ]
    },
    {
      "cell_type": "markdown",
      "id": "29d89e91-ff51-4b3d-9b10-26fcee8c7f84",
      "metadata": {
        "tags": [],
        "id": "29d89e91-ff51-4b3d-9b10-26fcee8c7f84"
      },
      "source": [
        "## Concepts: variables and I/O\n",
        "\n",
        "- **Variables**: maintain program state\n",
        "- **Input**: collect information from user/external\n",
        "- **Output**: provide information to user/external\n",
        "\n",
        "  ![Flowchart: Variables and I/O](https://drive.google.com/uc?export=view&id=1SROIEkTyFfAD9LtL3sagusB_vQKuu4N7&__v1)"
      ]
    },
    {
      "cell_type": "markdown",
      "id": "ae5d02e3-5f0b-4eab-951d-820a41e42fd9",
      "metadata": {
        "tags": [],
        "id": "ae5d02e3-5f0b-4eab-951d-820a41e42fd9"
      },
      "source": [
        "### Example"
      ]
    },
    {
      "cell_type": "code",
      "execution_count": null,
      "id": "7059a526-564e-490e-b745-430ce7defc02",
      "metadata": {
        "id": "7059a526-564e-490e-b745-430ce7defc02",
        "outputId": "c2ebde66-df7b-480a-9d60-a05d6791272f"
      },
      "outputs": [
        {
          "name": "stdout",
          "output_type": "stream",
          "text": [
            "Hello K\n"
          ]
        }
      ],
      "source": [
        "mystr = input('Please input your name:')\n",
        "print('Hello', mystr)"
      ]
    },
    {
      "cell_type": "markdown",
      "id": "4cd30a55-70d6-44d4-bccc-c3184e1abbaf",
      "metadata": {
        "id": "4cd30a55-70d6-44d4-bccc-c3184e1abbaf"
      },
      "source": [
        "- **`input()`** is used to ask user for an input, in the form of a string.\n",
        "- **`=`** operator is used to assign the result of `input()` to a variable named `mystr`.\n",
        "- **`print()`** is used to print some text."
      ]
    },
    {
      "cell_type": "markdown",
      "id": "d7a51021-2032-417f-bd08-5d8ba1be5e98",
      "metadata": {
        "tags": [],
        "id": "d7a51021-2032-417f-bd08-5d8ba1be5e98"
      },
      "source": [
        "## Concepts: Branching\n",
        "\n",
        "- A program could deviate from the main flow under a certain condition.\n",
        "- We need to define a condition that evaluates to either true or false to control it.\n",
        "\n",
        "  ![Flowchart: Branching](https://drive.google.com/uc?export=view&id=1W0S1cvEbdovHO-chpFE7aZ504VKm9Dr7&__v1)"
      ]
    },
    {
      "cell_type": "markdown",
      "id": "5e17829b-d816-42ca-9880-c4d705e5b2e9",
      "metadata": {
        "tags": [],
        "id": "5e17829b-d816-42ca-9880-c4d705e5b2e9"
      },
      "source": [
        "### Branching example\n",
        "\n",
        "The following example reads an integer, then prints a message if `val` is greater than 0. Further discussion will be available in the self-learning materials."
      ]
    },
    {
      "cell_type": "code",
      "execution_count": null,
      "id": "0a3f8616-361e-4f0d-999b-ea3592023df7",
      "metadata": {
        "id": "0a3f8616-361e-4f0d-999b-ea3592023df7",
        "outputId": "bc4c9f43-9dcd-4303-8ac6-7464b1f6731a"
      },
      "outputs": [
        {
          "name": "stdout",
          "output_type": "stream",
          "text": [
            "1 is positive!\n"
          ]
        }
      ],
      "source": [
        "val = int(input())\n",
        "if val > 0:\n",
        "    print(val, 'is positive!')"
      ]
    },
    {
      "cell_type": "markdown",
      "id": "cb5a7699-c7a8-4e96-a509-25a5b041c223",
      "metadata": {
        "tags": [],
        "id": "cb5a7699-c7a8-4e96-a509-25a5b041c223"
      },
      "source": [
        "## Concepts: Looping\n",
        "\n",
        "- A program could repeatedly execute some code segment\n",
        "- A condition is needed to control whether the loop should be continued.\n",
        "\n",
        "    ![Flowchart: Looping](https://drive.google.com/uc?export=view&id=1KY3MuTBS9QuAzONYlswwg0iUX7z-zIDm&__v1)"
      ]
    },
    {
      "cell_type": "markdown",
      "id": "fba5e9f8-45a0-4fd8-a073-33ff95e358a2",
      "metadata": {
        "tags": [],
        "id": "fba5e9f8-45a0-4fd8-a073-33ff95e358a2"
      },
      "source": [
        "### Looping example\n",
        "\n",
        "The loop below will repeatedly ask for a number until a non-positive value is received."
      ]
    },
    {
      "cell_type": "code",
      "execution_count": null,
      "id": "23c47450-23ba-4827-9442-fe65e4863e3d",
      "metadata": {
        "id": "23c47450-23ba-4827-9442-fe65e4863e3d",
        "outputId": "3fcb60a1-be8e-4509-e09f-01c22233e571"
      },
      "outputs": [
        {
          "name": "stdout",
          "output_type": "stream",
          "text": [
            "done.\n"
          ]
        }
      ],
      "source": [
        "number = 1\n",
        "while number > 0:\n",
        "  number = int(input('Input a number: '))\n",
        "  \n",
        "print('done.')"
      ]
    },
    {
      "cell_type": "markdown",
      "id": "fc209adc-8b4c-4d57-90e5-b976f469fafd",
      "metadata": {
        "tags": [],
        "id": "fc209adc-8b4c-4d57-90e5-b976f469fafd"
      },
      "source": [
        "# Self-learning time\n",
        "\n",
        "- Self-learning notes will be released progressively.\n",
        "- While you are going through the materials, you are encouraged to try the code in IDLE in the process.\n",
        "- There are optional topics that you can choose to go through at your own pace."
      ]
    },
    {
      "cell_type": "markdown",
      "id": "e1fa4519-cc56-475a-b32a-dd5610ada857",
      "metadata": {
        "tags": [],
        "id": "e1fa4519-cc56-475a-b32a-dd5610ada857"
      },
      "source": [
        "## Evaluation\n",
        "\n",
        "- There are two kind of tasks for your self-evaluation:\n",
        "  - **Quizzes**: question that tests your understanding of the topics. \n",
        "  - **Exercises**: coding problem that you can try. You are expected to write program to solve the problem by accepted the suggested inputs and produce the corresponding output. "
      ]
    },
    {
      "cell_type": "markdown",
      "id": "929debe5-b8e3-4a9c-b631-43951707ef0d",
      "metadata": {
        "tags": [],
        "id": "929debe5-b8e3-4a9c-b631-43951707ef0d"
      },
      "source": [
        "## Self-evaluation on Moodle\n",
        "  \n",
        "  - **Quizzes**: ALL quiz questions will be available on Moodle. You must provide an answer that could be recognized by Moodle to receive a grade. For questions that asks for python code, please remove all spaces in your answer. You may attempt the questions multiple times.\n",
        "  - **VPL exercises**: Selected exercises will be available on Moodle. VPL is a coding environment that could run and evaluate your code on Moodle. For VPL exercises, your code must provide an **exact** output according to the specific inputs. You need to press the \"evaluate\" button to check your code to receive a grade.\n",
        "    - All **input** to the program must be handled by using `input()`. New test cases may be added after you have submitted your program.\n",
        "    - The **output** must match exactly with the required output format. E.g., `Hello, world!` is considered a different output from `hello, world!` or `Hello,world!`.\n",
        "    - You are advised to setup your own environment for you coding practices. The VPL is only for self-evaluation purpose. \n",
        "\n",
        "  "
      ]
    },
    {
      "cell_type": "markdown",
      "id": "3a8d75ab-68fe-4100-90d5-4656db1737c0",
      "metadata": {
        "tags": [],
        "id": "3a8d75ab-68fe-4100-90d5-4656db1737c0"
      },
      "source": [
        "## Quick warm-up exercise on VPL\n",
        "\n",
        "- Write a program that reads a name and say hello to the user. \n",
        "- Here are some sample input / output (Note the space before and after the comma) :\n",
        "\n",
        "| Input   | Output |\n",
        "| ----    | ---    |\n",
        "| foo     | Hello , foo |\n",
        "| bar     | Hello , bar |\n"
      ]
    },
    {
      "cell_type": "markdown",
      "id": "38165f34-1ffc-47f8-babb-8721d7b47342",
      "metadata": {
        "tags": [],
        "id": "38165f34-1ffc-47f8-babb-8721d7b47342"
      },
      "source": [
        "## Self-learning topics\n",
        "\n",
        "Variable, operators and basic I/O\n",
        "- Output options\n",
        "- Arithmetic operators\n",
        "- Reading input from user\n",
        "- Optional: Bitwise operators\n",
        "- Optional: Type hint\n",
        "\n",
        "Branching\n",
        "- **If**-statement\n",
        "- Optional: Structural Pattern Matching\n",
        "\n",
        "Looping\n",
        "- Looping until condition fails (**While**-loop)\n",
        "- Looping through a list of values (**For**-loop)\n",
        "- Optional: Advanced loop controls"
      ]
    }
  ],
  "metadata": {
    "celltoolbar": "Slideshow",
    "kernelspec": {
      "display_name": "Python 3",
      "language": "python",
      "name": "python3"
    },
    "language_info": {
      "codemirror_mode": {
        "name": "ipython",
        "version": 3
      },
      "file_extension": ".py",
      "mimetype": "text/x-python",
      "name": "python",
      "nbconvert_exporter": "python",
      "pygments_lexer": "ipython3",
      "version": "3.10.6"
    },
    "toc-showmarkdowntxt": false,
    "vscode": {
      "interpreter": {
        "hash": "bd5508c2ffc7f17f7d31cf4086cc872f89e96996a08987e995649e5fbe85a3a4"
      }
    },
    "colab": {
      "name": "01.Introduction.ipynb",
      "provenance": [],
      "include_colab_link": true
    }
  },
  "nbformat": 4,
  "nbformat_minor": 5
}