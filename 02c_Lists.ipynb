{
  "cells": [
    {
      "cell_type": "markdown",
      "metadata": {
        "id": "view-in-github",
        "colab_type": "text"
      },
      "source": [
        "<a href=\"https://colab.research.google.com/github/zengmmm00/DASC_PRE_PYTHON/blob/main/02c_Lists.ipynb\" target=\"_parent\"><img src=\"https://colab.research.google.com/assets/colab-badge.svg\" alt=\"Open In Colab\"/></a>"
      ]
    },
    {
      "cell_type": "markdown",
      "id": "f35a5b71-b981-4ea2-9d44-a8686455d80d",
      "metadata": {
        "id": "f35a5b71-b981-4ea2-9d44-a8686455d80d"
      },
      "source": [
        "> _Self-learning material_  \n",
        "> **Python workshop - 2c. Lists**"
      ]
    },
    {
      "cell_type": "markdown",
      "id": "1139a4e7-0952-409e-8c44-e1fcaf6ae28c",
      "metadata": {
        "id": "1139a4e7-0952-409e-8c44-e1fcaf6ae28c"
      },
      "source": [
        "# List comprehensions"
      ]
    },
    {
      "cell_type": "markdown",
      "id": "ed66118e-ce6b-491f-917c-df13a2e4551b",
      "metadata": {
        "id": "ed66118e-ce6b-491f-917c-df13a2e4551b"
      },
      "source": [
        "## List vs. tuple\n",
        "\n",
        "A list of values can be defined using `[]`, it shares most of the behaviours of a tuple. "
      ]
    },
    {
      "cell_type": "code",
      "execution_count": null,
      "id": "62a207b5-7b27-44b8-99b9-52b664acbca0",
      "metadata": {
        "id": "62a207b5-7b27-44b8-99b9-52b664acbca0",
        "outputId": "db3a9aa5-e33e-4018-f4d1-c8dc6f5251ec"
      },
      "outputs": [
        {
          "name": "stdout",
          "output_type": "stream",
          "text": [
            "Length of list is 3\n",
            "1\n",
            "2\n",
            "3\n"
          ]
        }
      ],
      "source": [
        "myList = [1, 2, 3]\n",
        "print('Length of list is', len(myList))\n",
        "for i in myList:\n",
        "  print(i)"
      ]
    },
    {
      "cell_type": "markdown",
      "id": "0e5777d1-9b45-420c-a06a-0fdab6437c10",
      "metadata": {
        "id": "0e5777d1-9b45-420c-a06a-0fdab6437c10"
      },
      "source": [
        "## Update values\n",
        "\n",
        "List is mutable, we can update the value of an item in a list."
      ]
    },
    {
      "cell_type": "code",
      "execution_count": null,
      "id": "842426a8-99ef-4d99-9c21-72c8dcccf949",
      "metadata": {
        "id": "842426a8-99ef-4d99-9c21-72c8dcccf949",
        "outputId": "0620cc67-51e1-4cff-cb2e-03cf125c4a47"
      },
      "outputs": [
        {
          "name": "stdout",
          "output_type": "stream",
          "text": [
            "myList: [1, 4, 3]\n"
          ]
        }
      ],
      "source": [
        "myList = [1, 2, 3]\n",
        "myList[1] = 4\n",
        "print('myList:', myList)"
      ]
    },
    {
      "cell_type": "markdown",
      "id": "30aa928f-9231-464b-a31f-efe72b59ad8b",
      "metadata": {
        "id": "30aa928f-9231-464b-a31f-efe72b59ad8b"
      },
      "source": [
        "## Append\n",
        "\n",
        "We can use `append()` to **add** one item to a list. Note that `append()` modifies the content of the list. We call this an **in-place** update."
      ]
    },
    {
      "cell_type": "code",
      "execution_count": null,
      "id": "ec979982-c309-4a46-82e4-b1effb2c44b4",
      "metadata": {
        "id": "ec979982-c309-4a46-82e4-b1effb2c44b4",
        "outputId": "1f97dd0b-404f-4289-d20e-b9cba27d639b"
      },
      "outputs": [
        {
          "name": "stdout",
          "output_type": "stream",
          "text": [
            "[10, 20, 30]\n"
          ]
        }
      ],
      "source": [
        "myList = []\n",
        "myList.append(10)\n",
        "myList.append(20)\n",
        "myList.append(30)\n",
        "print(myList)"
      ]
    },
    {
      "cell_type": "markdown",
      "id": "fc7afb83-07b2-43e3-80f6-018598ed2f07",
      "metadata": {
        "id": "fc7afb83-07b2-43e3-80f6-018598ed2f07"
      },
      "source": [
        "## List comprehensions\n",
        "\n",
        "The most basic form of **list comprehensions** is to use `append()` on an empty list iteratively.\n",
        "\n",
        "Suppose you are asked to **create** a list of values from 1 to 10, the easiest way is to append items to an empty list:"
      ]
    },
    {
      "cell_type": "code",
      "execution_count": null,
      "id": "256c82b9-a64a-4966-930b-394c6938bf76",
      "metadata": {
        "id": "256c82b9-a64a-4966-930b-394c6938bf76",
        "outputId": "01f876ed-a9c1-449c-b8a4-f40b97caa684"
      },
      "outputs": [
        {
          "name": "stdout",
          "output_type": "stream",
          "text": [
            "[1, 2, 3, 4, 5, 6, 7, 8, 9, 10]\n"
          ]
        }
      ],
      "source": [
        "myList = []\n",
        "for i in range(1, 11):\n",
        "    myList.append(i)\n",
        "print(myList)"
      ]
    },
    {
      "cell_type": "markdown",
      "id": "c01658a7-e511-4c92-ba2c-c8f5f863bc78",
      "metadata": {
        "id": "c01658a7-e511-4c92-ba2c-c8f5f863bc78"
      },
      "source": [
        "## Using range()\n",
        "\n",
        "If the list only consists of consecutive / progressive values, we can convert `range()` to a list instead:"
      ]
    },
    {
      "cell_type": "code",
      "execution_count": null,
      "id": "3ffb3458-3585-4669-8792-2ef47847aa02",
      "metadata": {
        "id": "3ffb3458-3585-4669-8792-2ef47847aa02",
        "outputId": "892f1015-da2c-4372-87fd-845b8cf9b97d"
      },
      "outputs": [
        {
          "name": "stdout",
          "output_type": "stream",
          "text": [
            "[1, 2, 3, 4, 5, 6, 7, 8, 9, 10]\n"
          ]
        }
      ],
      "source": [
        "myList = list(range(1, 11))\n",
        "print(myList)"
      ]
    },
    {
      "cell_type": "markdown",
      "id": "092b64b3-f094-4d0c-bec1-2ecdea5dcd03",
      "metadata": {
        "id": "092b64b3-f094-4d0c-bec1-2ecdea5dcd03"
      },
      "source": [
        "- Note that `range()` is not a list, it is an object that can be iterated.\n",
        "- What if we want a list of square numbers instead? Back to our old friend:"
      ]
    },
    {
      "cell_type": "code",
      "execution_count": null,
      "id": "d0633126-0230-4966-9b4c-94c0b9967419",
      "metadata": {
        "id": "d0633126-0230-4966-9b4c-94c0b9967419",
        "outputId": "c68cf276-2c3b-4bc7-bb6a-b03f9fcd856d"
      },
      "outputs": [
        {
          "name": "stdout",
          "output_type": "stream",
          "text": [
            "[1, 4, 9, 16, 25, 36, 49, 64, 81, 100]\n"
          ]
        }
      ],
      "source": [
        "myList = []\n",
        "for i in range(1, 11):\n",
        "    myList.append(i * i)\n",
        "print(myList)"
      ]
    },
    {
      "cell_type": "markdown",
      "id": "ccd084a0-fdff-42d3-9c78-de20119c569c",
      "metadata": {
        "id": "ccd084a0-fdff-42d3-9c78-de20119c569c"
      },
      "source": [
        "## Filtering a list\n",
        "\n",
        "A condition can be added to filter the result in the process. For example:"
      ]
    },
    {
      "cell_type": "code",
      "execution_count": null,
      "id": "49007572-f60e-4254-be08-304e47376c30",
      "metadata": {
        "id": "49007572-f60e-4254-be08-304e47376c30",
        "outputId": "60c5daa4-9e24-48db-8834-0a9dd5bebe5c"
      },
      "outputs": [
        {
          "name": "stdout",
          "output_type": "stream",
          "text": [
            "[1, 4, 16, 25, 49, 64, 100]\n"
          ]
        }
      ],
      "source": [
        "myList = []\n",
        "for i in range(1, 11):\n",
        "  if i % 3 != 0:\n",
        "    myList.append(i * i)\n",
        "print(myList)"
      ]
    },
    {
      "cell_type": "markdown",
      "id": "242d1b27-0a21-4006-8342-92127328f7ea",
      "metadata": {
        "id": "242d1b27-0a21-4006-8342-92127328f7ea"
      },
      "source": [
        "# Quiz"
      ]
    },
    {
      "cell_type": "markdown",
      "id": "69a48ee3-6090-44ac-9f2f-a91295ccf5c5",
      "metadata": {
        "id": "69a48ee3-6090-44ac-9f2f-a91295ccf5c5"
      },
      "source": [
        "## Quiz 2c\n",
        "\n",
        "Consider the program below.\n",
        "\n",
        "```python\n",
        "t = [1, 2, 3, 4, 5]\n",
        "s = t\n",
        "for x in s:\n",
        "  print(x, end=' ')\n",
        "```\n",
        "\n",
        "1. With the use of slicing, replace the `t` in the second line of the code above so that the program outputs `2 3 4 `. Remove all spaces in your answer.\n",
        "\n",
        "2. With the use of operator `*`, replace the `t` in the second line of the code above so that the program outputs `1 2 3 4 5 1 2 3 4 5 `. Remove all spaces in your answer."
      ]
    },
    {
      "cell_type": "markdown",
      "id": "bac877ab-7661-4913-b910-1069db4932da",
      "metadata": {
        "id": "bac877ab-7661-4913-b910-1069db4932da"
      },
      "source": [
        "# Exercises"
      ]
    },
    {
      "cell_type": "markdown",
      "id": "a65d0844-fba9-421d-b6b9-a24c8b2e06d4",
      "metadata": {
        "id": "a65d0844-fba9-421d-b6b9-a24c8b2e06d4"
      },
      "source": [
        "## Exercise 2-5\n",
        "\n",
        "- Consider you are writing a component for a calendar, which will find all Saturdays and Sundays of a given month.\n",
        "- Your program will read in the number of days in that month, and the day of week of the first day of the month.\n",
        "(`0` for Sunday, `1` for Monday, etc.)\n",
        "- For example if the input is `30` and `1`, the output should be `[6, 7, 13, 14, 20, 21, 27, 28]`.\n",
        "\n",
        "Sample input/output:\n",
        "\n",
        "| Input | Output |\n",
        "| ---   | ---    |\n",
        "| 28<br>4 | [3, 4, 10, 11, 17, 18, 24, 25] |\n",
        "| 31<br>2 | [5, 6, 12, 13, 19, 20, 26, 27] |\n",
        "| 30<br>6 | [1, 2, 8, 9, 15, 16, 22, 23, 29, 30] |\n",
        "| 31<br>0 | 1, 7, 8, 14, 15, 21, 22, 28, 29] |"
      ]
    },
    {
      "cell_type": "markdown",
      "id": "bc32ac7a-f47d-422b-9759-18043d26e141",
      "metadata": {
        "id": "bc32ac7a-f47d-422b-9759-18043d26e141"
      },
      "source": [
        "## Exercise 2-6 (VPL available)\n",
        "\n",
        "- Write a program that reads a number of integers and store them to a list until a zero is received.\n",
        "- After reading all integers, repeatedly remove the first and last item from the list and print the items at odd positions. \n",
        "- For example, if the input is 1, 2, 3, 4, 5, 6, 7, 8, 9, 0, the output will be:\n",
        "\n",
        "```text\n",
        "[1, 3, 5, 7, 9]\n",
        "[2, 4, 6, 8]\n",
        "[3, 5, 7]\n",
        "[4, 6]\n",
        "[5]\n",
        "```\n",
        "- You could start with your code in Exercise 2-1."
      ]
    },
    {
      "cell_type": "markdown",
      "id": "db979775-8243-496e-bdfa-fecfd2445078",
      "metadata": {
        "id": "db979775-8243-496e-bdfa-fecfd2445078"
      },
      "source": [
        "# Optional: List manipulation"
      ]
    },
    {
      "cell_type": "markdown",
      "id": "368aafb4-4dd5-4cf8-aed7-9704131a19c9",
      "metadata": {
        "id": "368aafb4-4dd5-4cf8-aed7-9704131a19c9"
      },
      "source": [
        "## List operations\n",
        "\n",
        "Same with tuple, operators `+` and `*`, as well as `+=` and `*=` can be used on list."
      ]
    },
    {
      "cell_type": "code",
      "execution_count": null,
      "id": "9eb0fb9b-bb81-423f-9ee3-d15e4589da1c",
      "metadata": {
        "id": "9eb0fb9b-bb81-423f-9ee3-d15e4589da1c",
        "outputId": "b95e2703-e173-4777-e086-6ef862a2cc59"
      },
      "outputs": [
        {
          "name": "stdout",
          "output_type": "stream",
          "text": [
            "[1, 2, 3, 4, 3, 4] [1, 2, 1, 2, 1, 2, 3, 4]\n"
          ]
        }
      ],
      "source": [
        "myList1 = [1, 2] + [3, 4] * 2\n",
        "myList2 = [1, 2]\n",
        "myList2 *= 3\n",
        "myList2 += [3, 4]\n",
        "print(myList1, myList2)"
      ]
    },
    {
      "cell_type": "markdown",
      "id": "8d88b1dc-fae9-4e61-9551-095523dab92f",
      "metadata": {
        "id": "8d88b1dc-fae9-4e61-9551-095523dab92f"
      },
      "source": [
        "Note that operators `+=` and `*=` are done **in-place**, i.e., it change the original value and affect all alias."
      ]
    },
    {
      "cell_type": "code",
      "execution_count": null,
      "id": "b65c3a14-faa1-424b-8baa-613ff9b4b5f4",
      "metadata": {
        "id": "b65c3a14-faa1-424b-8baa-613ff9b4b5f4",
        "outputId": "ded66fbe-9955-4a32-b77d-2ad0fadf8ad4"
      },
      "outputs": [
        {
          "name": "stdout",
          "output_type": "stream",
          "text": [
            "[1, 2, 3, 1, 2, 3]\n"
          ]
        }
      ],
      "source": [
        "a = [1, 2]\n",
        "b = a\n",
        "a += [3]\n",
        "a *= 2\n",
        "print(b)"
      ]
    },
    {
      "cell_type": "markdown",
      "id": "280b60cc-37e3-40d9-b6c2-cf3b2272dbae",
      "metadata": {
        "id": "280b60cc-37e3-40d9-b6c2-cf3b2272dbae"
      },
      "source": [
        "Notice that this contrast to the claim that `a += x` is equivalent to `a = a + x`."
      ]
    },
    {
      "cell_type": "markdown",
      "id": "cc8c3b42-e5a8-42c7-96ef-24206ed9247c",
      "metadata": {
        "id": "cc8c3b42-e5a8-42c7-96ef-24206ed9247c"
      },
      "source": [
        "## More list operations\n",
        "\n",
        "| Operation        | Effect |\n",
        "| ---              | --- |\n",
        "| `s.append(x)`    | Append value `x` to list `s`. |\n",
        "| `s.insert(i, x)` | Insert value `x` to list `s` at index `i`. |\n",
        "| `s.index(x)`     | Find the index of the first item with value `x`. |\n",
        "| `s.count(x)`     | Count the number of items with value `x`. |\n",
        "| `s.remove(x)`    | Remove first item with value `x` from list `s`. |\n",
        "| `s.pop()`        | Remove and return the last item from list `s`. |\n",
        "| `s.sort()`       | Sort list `s`. |\n",
        "| `s.reverse()`    | Reverse the order of values in list `s`. |\n",
        "\n",
        "Reference: <https://docs.python.org/3/tutorial/datastructures.html#more-on-lists>"
      ]
    },
    {
      "cell_type": "markdown",
      "id": "8e65c1fb-5e50-4c58-9e5f-98ff7755fad1",
      "metadata": {
        "id": "8e65c1fb-5e50-4c58-9e5f-98ff7755fad1"
      },
      "source": [
        "## Using del \n",
        "\n",
        "We can use `del` to remove one item or a slice of list:"
      ]
    },
    {
      "cell_type": "code",
      "execution_count": null,
      "id": "4757019d-0e43-4af2-b0fc-018b712f09a0",
      "metadata": {
        "id": "4757019d-0e43-4af2-b0fc-018b712f09a0",
        "outputId": "da1de8a4-b8bf-4350-bbb3-c9389a0e724d"
      },
      "outputs": [
        {
          "name": "stdout",
          "output_type": "stream",
          "text": [
            "[0, 4, 5, 6, 8]\n"
          ]
        }
      ],
      "source": [
        "myList = [0, 1, 2, 3, 4, 5, 6, 7, 8]\n",
        "del myList[7]\n",
        "del myList[1:4]\n",
        "print(myList)"
      ]
    },
    {
      "cell_type": "markdown",
      "id": "125a4be7-39d4-41bd-85a9-f930ac1fc880",
      "metadata": {
        "id": "125a4be7-39d4-41bd-85a9-f930ac1fc880"
      },
      "source": [
        "## Slice replacement\n",
        "\n",
        "It is also possible to replace a slice by another list. The size of list can be different after such assignment."
      ]
    },
    {
      "cell_type": "code",
      "execution_count": null,
      "id": "124aa50b-45bc-4d90-95c5-01cbdacd287b",
      "metadata": {
        "id": "124aa50b-45bc-4d90-95c5-01cbdacd287b",
        "outputId": "caba75e9-2ce9-48d6-dd2f-659e708b32b3"
      },
      "outputs": [
        {
          "name": "stdout",
          "output_type": "stream",
          "text": [
            "[0, 100, 200, 4, 5]\n"
          ]
        }
      ],
      "source": [
        "myList = [0, 1, 2, 3, 4, 5]\n",
        "myList[1 : 4] = [100, 200]\n",
        "print(myList)"
      ]
    },
    {
      "cell_type": "markdown",
      "id": "0ea8cbf9-2ccd-4908-9610-0c7a927bef66",
      "metadata": {
        "id": "0ea8cbf9-2ccd-4908-9610-0c7a927bef66"
      },
      "source": [
        "Slice replacement can be used to support many of the list operations. \n",
        "\n",
        "| Operation        | Equivalent |\n",
        "| ---              | ---        |\n",
        "| `s.append(x)`    | `s[len(s):] = [x]` |\n",
        "| `s += t`         | `s[len(s):] = t` |\n",
        "| `s.clear()`      | `s[:] = []` |\n",
        "| `s.insert(i, x)` | `s[i:i] = [x]` |"
      ]
    },
    {
      "cell_type": "markdown",
      "id": "702309c7-25e2-44d4-9fbe-62d739496650",
      "metadata": {
        "id": "702309c7-25e2-44d4-9fbe-62d739496650"
      },
      "source": [
        "# Optional: Generator expressions\n",
        "\n",
        "Similar to that for tuple, the **generator expression** could be used to generate a list. Refer to the same optional topic in the self-learning materials on Tuples for more detail."
      ]
    },
    {
      "cell_type": "code",
      "execution_count": null,
      "id": "1adcdb64-835b-4cf9-b082-07c8cce5637d",
      "metadata": {
        "id": "1adcdb64-835b-4cf9-b082-07c8cce5637d",
        "outputId": "bd4a2e41-4d55-4fce-c2b4-d37c5774b02e"
      },
      "outputs": [
        {
          "name": "stdout",
          "output_type": "stream",
          "text": [
            "[1, 4, 9, 16, 25, 36, 49, 64, 81, 100]\n"
          ]
        }
      ],
      "source": [
        "myList = [ i * i for i in range(1, 11) ]\n",
        "print(myList)"
      ]
    }
  ],
  "metadata": {
    "kernelspec": {
      "display_name": "Python 3.10.6 64-bit",
      "language": "python",
      "name": "python3"
    },
    "language_info": {
      "codemirror_mode": {
        "name": "ipython",
        "version": 3
      },
      "file_extension": ".py",
      "mimetype": "text/x-python",
      "name": "python",
      "nbconvert_exporter": "python",
      "pygments_lexer": "ipython3",
      "version": "3.10.6"
    },
    "vscode": {
      "interpreter": {
        "hash": "bd5508c2ffc7f17f7d31cf4086cc872f89e96996a08987e995649e5fbe85a3a4"
      }
    },
    "colab": {
      "name": "02c.Lists.ipynb",
      "provenance": [],
      "include_colab_link": true
    }
  },
  "nbformat": 4,
  "nbformat_minor": 5
}