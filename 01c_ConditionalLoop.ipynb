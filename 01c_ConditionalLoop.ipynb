{
  "cells": [
    {
      "cell_type": "markdown",
      "metadata": {
        "id": "view-in-github",
        "colab_type": "text"
      },
      "source": [
        "<a href=\"https://colab.research.google.com/github/zengmmm00/DASC_PRE_PYTHON/blob/main/01c_ConditionalLoop.ipynb\" target=\"_parent\"><img src=\"https://colab.research.google.com/assets/colab-badge.svg\" alt=\"Open In Colab\"/></a>"
      ]
    },
    {
      "cell_type": "markdown",
      "id": "fcf4082d-9656-43a1-9421-c98634852c24",
      "metadata": {
        "id": "fcf4082d-9656-43a1-9421-c98634852c24"
      },
      "source": [
        "> _Self-learning materials_  \n",
        "> **Python workshop - 1c. Conditional Loop**\n",
        ">\n",
        "> Conditional loop is the most basic form of loop in programming, which is supported by the **while-loop** in Python. Before we explain the while-loop, we would like to introduce the **compound assignment operators**, which is commonly used in loops."
      ]
    },
    {
      "cell_type": "markdown",
      "id": "2068dde7-b242-4e4b-b960-f00f793ab974",
      "metadata": {
        "id": "2068dde7-b242-4e4b-b960-f00f793ab974"
      },
      "source": [
        "# Compound assignment operators"
      ]
    },
    {
      "cell_type": "markdown",
      "id": "b04f6279-294e-42fc-866c-d4e1fbfa098f",
      "metadata": {
        "id": "b04f6279-294e-42fc-866c-d4e1fbfa098f"
      },
      "source": [
        "## Compound assignment operators\n",
        "\n",
        "**Compound assignment operator** `+=` allows the addition operation to be applied to the variable itself. For example, `a += 10` will add 10 to `a`. The effect is the same as `a = a + 10`."
      ]
    },
    {
      "cell_type": "code",
      "execution_count": null,
      "id": "85009fac-2bd6-4f88-a7eb-5d0ac19340b8",
      "metadata": {
        "id": "85009fac-2bd6-4f88-a7eb-5d0ac19340b8",
        "outputId": "683ce4c6-63fc-4e73-f3ff-e8432a3ca080"
      },
      "outputs": [
        {
          "name": "stdout",
          "output_type": "stream",
          "text": [
            "a = 110\n"
          ]
        }
      ],
      "source": [
        "a = 100\n",
        "a += 10\n",
        "print('a =', a)"
      ]
    },
    {
      "cell_type": "markdown",
      "id": "1d8e7e83-8d66-4673-b9b5-dccdf0effea6",
      "metadata": {
        "id": "1d8e7e83-8d66-4673-b9b5-dccdf0effea6"
      },
      "source": [
        "All arithmetic operators has their corresponding compound assignment operator. For example:"
      ]
    },
    {
      "cell_type": "code",
      "execution_count": null,
      "id": "765a4b0a-557c-47c5-a8e2-0ac7415fd27c",
      "metadata": {
        "id": "765a4b0a-557c-47c5-a8e2-0ac7415fd27c",
        "outputId": "22a2dc61-3fee-433a-be0c-81ae546bf3cb"
      },
      "outputs": [
        {
          "name": "stdout",
          "output_type": "stream",
          "text": [
            "110\n"
          ]
        }
      ],
      "source": [
        "a = 100\n",
        "a += 10\n",
        "print(a)"
      ]
    },
    {
      "cell_type": "code",
      "execution_count": null,
      "id": "78830d78-1abf-4c1c-8b35-d511de4129c2",
      "metadata": {
        "id": "78830d78-1abf-4c1c-8b35-d511de4129c2",
        "outputId": "065d6df4-6591-4dca-872c-2eb9cd4b0c33"
      },
      "outputs": [
        {
          "name": "stdout",
          "output_type": "stream",
          "text": [
            "105\n"
          ]
        }
      ],
      "source": [
        "a -= 5\n",
        "print(a)"
      ]
    },
    {
      "cell_type": "code",
      "execution_count": null,
      "id": "3f52a04e-4c93-4045-b53b-bd251bf6da7f",
      "metadata": {
        "id": "3f52a04e-4c93-4045-b53b-bd251bf6da7f",
        "outputId": "f1460d1c-5c81-434a-b583-3bb00a32d6b2"
      },
      "outputs": [
        {
          "name": "stdout",
          "output_type": "stream",
          "text": [
            "126.0\n"
          ]
        }
      ],
      "source": [
        "a *= 1.2\n",
        "print(a)"
      ]
    },
    {
      "cell_type": "code",
      "execution_count": null,
      "id": "109ff6f8-dfd6-4353-880f-e61961aabc41",
      "metadata": {
        "id": "109ff6f8-dfd6-4353-880f-e61961aabc41",
        "outputId": "b85e52d9-7839-4086-e09e-064a59320368"
      },
      "outputs": [
        {
          "name": "stdout",
          "output_type": "stream",
          "text": [
            "42.0\n"
          ]
        }
      ],
      "source": [
        "a /= 3\n",
        "print(a)"
      ]
    },
    {
      "cell_type": "markdown",
      "id": "dbb99271-e066-4b75-a698-987d3d8bb467",
      "metadata": {
        "id": "dbb99271-e066-4b75-a698-987d3d8bb467"
      },
      "source": [
        "# while-loop\n",
        "\n",
        "**While-loop** can be used to execute codes repeatedly. Note the use of program block as in an if-statement."
      ]
    },
    {
      "cell_type": "code",
      "execution_count": null,
      "id": "2079364b-0a86-4bb2-a52b-fa05c4ea6119",
      "metadata": {
        "id": "2079364b-0a86-4bb2-a52b-fa05c4ea6119",
        "outputId": "4923861b-8a90-4ad0-d63d-2f0590ebe7ea"
      },
      "outputs": [
        {
          "name": "stdout",
          "output_type": "stream",
          "text": [
            "6\n",
            "5\n",
            "4\n",
            "3\n",
            "2\n",
            "1\n",
            "done.\n"
          ]
        }
      ],
      "source": [
        "number = int(input('Input a number: '))\n",
        "while number > 0:\n",
        "    print(number)\n",
        "    number -= 1\n",
        "    \n",
        "print('done.')"
      ]
    },
    {
      "cell_type": "markdown",
      "id": "022dd7d0-edcd-41bf-9b67-768ec6370f89",
      "metadata": {
        "id": "022dd7d0-edcd-41bf-9b67-768ec6370f89"
      },
      "source": [
        "Here is an explanation of the code above.\n",
        "\n",
        "- First the code asks for a number, this **initializes** the variable needed for the loop to work.\n",
        "- Then the **condition** is checked.\n",
        "  - If the condition is satisfied, then the **body** of the while-loop is executed, the condition will then be checked again.\n",
        "  - If the condition does not match, the loop ends.\n",
        "- With the loop exited, the last line of the code is executed."
      ]
    },
    {
      "cell_type": "markdown",
      "id": "55df4be1-70a5-4baf-91e3-a1231f688171",
      "metadata": {
        "id": "55df4be1-70a5-4baf-91e3-a1231f688171"
      },
      "source": [
        "## Nested loop\n",
        "\n",
        "Loops can be nested to perform more complicated tasks. \n",
        "For example, the following code performs prime factorization of an input. Try it and understand how it works. "
      ]
    },
    {
      "cell_type": "code",
      "execution_count": null,
      "id": "b22e5fa6-9ecd-4e4f-a82e-9bf5cbd5d01a",
      "metadata": {
        "id": "b22e5fa6-9ecd-4e4f-a82e-9bf5cbd5d01a",
        "outputId": "c54c8b4d-9ebc-480c-91ee-96fc07700194"
      },
      "outputs": [
        {
          "name": "stdout",
          "output_type": "stream",
          "text": [
            "2 3 \n"
          ]
        }
      ],
      "source": [
        "n = int(input())\n",
        "while n > 1:\n",
        "    i = 2\n",
        "    while n % i != 0:\n",
        "        i += 1\n",
        "    n //= i\n",
        "    print(i, end=' ')\n",
        "    \n",
        "print()"
      ]
    },
    {
      "cell_type": "markdown",
      "id": "4c7b3391-e36a-4606-818b-df30fa754dd5",
      "metadata": {
        "id": "4c7b3391-e36a-4606-818b-df30fa754dd5"
      },
      "source": [
        "# Quiz"
      ]
    },
    {
      "cell_type": "markdown",
      "id": "141d3aff-e3d0-464d-b247-9b2fa04ee66f",
      "metadata": {
        "id": "141d3aff-e3d0-464d-b247-9b2fa04ee66f"
      },
      "source": [
        "## Quiz 1c\n",
        "\n",
        "1. Rewrite the statement `i = i + 1` using compound assignment operator. **Remove all spaces in your answer.**\n",
        "2. What is the output of the following program if the input is `9`? Try to answer without running the code.\n",
        "\n",
        "```python\n",
        "i = int(input())\n",
        "while i > 0:\n",
        "  print(i, end=\"\")\n",
        "  i = i - 2 \n",
        "print(i)\n",
        "```"
      ]
    },
    {
      "cell_type": "markdown",
      "id": "4540e229-98d6-4875-b59c-ac72f0e38fb5",
      "metadata": {
        "id": "4540e229-98d6-4875-b59c-ac72f0e38fb5"
      },
      "source": [
        "# Exercises"
      ]
    },
    {
      "cell_type": "markdown",
      "id": "c95b7f5a-bfdb-47f4-830d-f9aa12e16a5b",
      "metadata": {
        "id": "c95b7f5a-bfdb-47f4-830d-f9aa12e16a5b"
      },
      "source": [
        "## Exercise 1-4\n",
        "\n",
        "Write a program that reads an integer, then output each of the digits from right to left.\n",
        "- For example, if the input is `3756`, the program should produce the output of:\n",
        "\n",
        "```text\n",
        "6\n",
        "5\n",
        "7\n",
        "3\n",
        "```\n",
        "\n",
        "- Use a while-loop to complete this task.\n",
        "- Hint: use modulo operator `%` and floor division operator `//`.\n",
        "- Sample input/output:\n",
        "\n",
        "| Input | Output |\n",
        "| ---   | ---    |\n",
        "| 1     | 1      |\n",
        "| 37    | 7<br>3 |\n",
        "| 3756  | 6<br>5<br>7<br>3 |"
      ]
    },
    {
      "cell_type": "markdown",
      "id": "f5abdccc-2815-48a5-82df-5e3b011fbf31",
      "metadata": {
        "id": "f5abdccc-2815-48a5-82df-5e3b011fbf31"
      },
      "source": [
        "# Optional: Advanced loop controls"
      ]
    },
    {
      "cell_type": "markdown",
      "id": "f0660b46-821a-4f1b-84d5-77df3bfd5bbf",
      "metadata": {
        "id": "f0660b46-821a-4f1b-84d5-77df3bfd5bbf"
      },
      "source": [
        "## Break and continue\n",
        "\n",
        "- Sometimes we need more control of how a loop is executed, we may consider using `break` and `continue` in a loop. \n",
        "- Note that some programmers consider the use of them bad practices as it disrupt the flow of control. This part is introduced for completeness."
      ]
    },
    {
      "cell_type": "markdown",
      "id": "8b5b7ade-043d-4a27-98a0-cce127bbbee4",
      "metadata": {
        "id": "8b5b7ade-043d-4a27-98a0-cce127bbbee4"
      },
      "source": [
        "## Break\n",
        "\n",
        "`break` can be used to leave a loop.\n",
        "\n",
        "![Flowchart: Break](https://drive.google.com/uc?export=view&id=1QJ8ttffNMPfUtW_voz7PSWmb8SCdt68V&__v1)"
      ]
    },
    {
      "cell_type": "code",
      "execution_count": null,
      "id": "8a7d385d-66c8-4d3b-a344-4ac29cffea27",
      "metadata": {
        "id": "8a7d385d-66c8-4d3b-a344-4ac29cffea27",
        "outputId": "08993941-0893-4f53-e2b1-00981e8b450c"
      },
      "outputs": [
        {
          "name": "stdout",
          "output_type": "stream",
          "text": [
            "0\n",
            "1\n",
            "2\n",
            "3\n",
            "4\n",
            "5\n",
            "6\n"
          ]
        }
      ],
      "source": [
        "i = 0\n",
        "while True:\n",
        "    print(i)\n",
        "    if i > 5:\n",
        "        break\n",
        "        \n",
        "    i += 1"
      ]
    },
    {
      "cell_type": "markdown",
      "id": "737601b4-a731-4e8f-9c3c-a47abdeb7632",
      "metadata": {
        "id": "737601b4-a731-4e8f-9c3c-a47abdeb7632"
      },
      "source": [
        "In the code above, when `i` is greater than 5, `break` will end the loop. Try it to see the corresponding output."
      ]
    },
    {
      "cell_type": "markdown",
      "id": "6cf3815f-a057-4acd-96de-e54732445fa2",
      "metadata": {
        "id": "6cf3815f-a057-4acd-96de-e54732445fa2"
      },
      "source": [
        "## Continue\n",
        "\n",
        "`continue` can be used to skip the remaining part of a loop.\n",
        "\n",
        "![Flowchart: Continue](https://drive.google.com/uc?export=view&id=1qiQaZ4xRU5l3oPPRx5l7xhx3qy7Ih_hV&__v1)\n"
      ]
    },
    {
      "cell_type": "code",
      "execution_count": null,
      "id": "99f4f1e2-c974-482f-8b8b-a229bd17ba91",
      "metadata": {
        "id": "99f4f1e2-c974-482f-8b8b-a229bd17ba91",
        "outputId": "ee164300-5230-4dfe-930f-6ab4f04e99fa"
      },
      "outputs": [
        {
          "name": "stdout",
          "output_type": "stream",
          "text": [
            "1\n",
            "3\n",
            "5\n",
            "7\n",
            "9\n"
          ]
        }
      ],
      "source": [
        "i = 0\n",
        "while i < 10:\n",
        "    if i % 2 == 0:\n",
        "        i += 1\n",
        "        continue\n",
        "        \n",
        "    print(i)\n",
        "    i += 1"
      ]
    },
    {
      "cell_type": "markdown",
      "id": "acc18ff8-273f-4154-9238-acb71343458d",
      "metadata": {
        "id": "acc18ff8-273f-4154-9238-acb71343458d"
      },
      "source": [
        "In this case, `continue` will skip the remaining of the loop, not printing anything for that interation."
      ]
    },
    {
      "cell_type": "markdown",
      "id": "dea697df-49e6-4281-a5fc-e1d922459329",
      "metadata": {
        "id": "dea697df-49e6-4281-a5fc-e1d922459329"
      },
      "source": [
        "# Optional: **Else** in a loop\n",
        "\n",
        "Similar to the case in an if-statement, `else` block of a loop will be executed when the loop condition returns `False`.\n",
        "\n",
        "Note that `else` of a loop does not exist in many other programming languages.\n",
        "\n",
        "![Flowchart: Loop-else](https://drive.google.com/uc?export=view&id=1koItO3kGxA73ymiovEZo8QRT1ht4EEyJ&__v1)\n"
      ]
    },
    {
      "cell_type": "code",
      "execution_count": null,
      "id": "83d329cc-4f76-4f8c-84b5-57f9e3242539",
      "metadata": {
        "id": "83d329cc-4f76-4f8c-84b5-57f9e3242539",
        "outputId": "310a7831-27e1-40d4-f195-93a2cac8ec1c"
      },
      "outputs": [
        {
          "name": "stdout",
          "output_type": "stream",
          "text": [
            "i = 3\n",
            "i = 5\n",
            "i = 7\n",
            "i = 9\n",
            "i = 11\n",
            "Loop ended with i equals 11\n"
          ]
        }
      ],
      "source": [
        "i = 1\n",
        "while i < 10:\n",
        "    if i % 8 == 0:\n",
        "        break\n",
        "        \n",
        "    i += 2\n",
        "    print(\"i =\", i)\n",
        "else:\n",
        "    print('Loop ended with i equals', i)\n",
        "    "
      ]
    },
    {
      "cell_type": "markdown",
      "id": "5ec9d501-548d-416a-9f5b-2eab26e9ea7e",
      "metadata": {
        "id": "5ec9d501-548d-416a-9f5b-2eab26e9ea7e"
      },
      "source": [
        "## Else with break\n",
        "\n",
        "Note that `else` will not be executed if a loop is ended by `break`.\n",
        "\n",
        "![Flowchart: Break-else](https://drive.google.com/uc?export=view&id=1_kjsMwA3OFDYieLbaMc2piu7WNA3sS5N&__v1)"
      ]
    },
    {
      "cell_type": "code",
      "execution_count": null,
      "id": "093b73b9-0912-4296-854c-9cb473f1e04c",
      "metadata": {
        "id": "093b73b9-0912-4296-854c-9cb473f1e04c",
        "outputId": "4d983298-fcb4-474a-b167-7b55d2f8b87c"
      },
      "outputs": [
        {
          "name": "stdout",
          "output_type": "stream",
          "text": [
            "i = 4\n",
            "i = 6\n",
            "i = 8\n"
          ]
        }
      ],
      "source": [
        "i = 2\n",
        "while i < 10:\n",
        "    if i % 8 == 0:\n",
        "        break\n",
        "    i += 2\n",
        "    print(\"i =\", i)\n",
        "else:\n",
        "    print('Loop ended with i equals', i)"
      ]
    },
    {
      "cell_type": "markdown",
      "id": "7c439956-89d3-4cc2-a7ff-515e32fbe87d",
      "metadata": {
        "id": "7c439956-89d3-4cc2-a7ff-515e32fbe87d"
      },
      "source": [
        "There will not be any output for the code above, as `break` is executed to break the loop."
      ]
    }
  ],
  "metadata": {
    "kernelspec": {
      "display_name": "Python 3.10.6 64-bit",
      "language": "python",
      "name": "python3"
    },
    "language_info": {
      "codemirror_mode": {
        "name": "ipython",
        "version": 3
      },
      "file_extension": ".py",
      "mimetype": "text/x-python",
      "name": "python",
      "nbconvert_exporter": "python",
      "pygments_lexer": "ipython3",
      "version": "3.10.6"
    },
    "vscode": {
      "interpreter": {
        "hash": "bd5508c2ffc7f17f7d31cf4086cc872f89e96996a08987e995649e5fbe85a3a4"
      }
    },
    "colab": {
      "name": "01c.ConditionalLoop.ipynb",
      "provenance": [],
      "include_colab_link": true
    }
  },
  "nbformat": 4,
  "nbformat_minor": 5
}