{
  "cells": [
    {
      "cell_type": "markdown",
      "metadata": {
        "id": "view-in-github",
        "colab_type": "text"
      },
      "source": [
        "<a href=\"https://colab.research.google.com/github/zengmmm00/DASC_PRE_PYTHON/blob/main/03a_Functions.ipynb\" target=\"_parent\"><img src=\"https://colab.research.google.com/assets/colab-badge.svg\" alt=\"Open In Colab\"/></a>"
      ]
    },
    {
      "cell_type": "markdown",
      "id": "50c8cb59-7992-4431-aaf9-adf730af7154",
      "metadata": {
        "id": "50c8cb59-7992-4431-aaf9-adf730af7154"
      },
      "source": [
        "> _Self-learning material_  \n",
        "> **Python workshop - 3a. Functions**"
      ]
    },
    {
      "cell_type": "markdown",
      "id": "410e917f-4b94-4dc3-b4e5-80b7f7d41a6e",
      "metadata": {
        "id": "410e917f-4b94-4dc3-b4e5-80b7f7d41a6e"
      },
      "source": [
        "# Function return"
      ]
    },
    {
      "cell_type": "markdown",
      "id": "47caf52f-a749-4fb3-b7fa-b578f69b6f5c",
      "metadata": {
        "id": "47caf52f-a749-4fb3-b7fa-b578f69b6f5c"
      },
      "source": [
        "A function can **return** a value for future use. This serves as the output of a function.\n",
        "\n",
        "```python\n",
        "def add(x, y):\n",
        "    return x + y\n",
        "```\n",
        "\n",
        "This defines a function `add()` that accepts two parameters, `x` and `y`, and returns the result of `x + y`.\n",
        "\n",
        "Returned value can be used immediately..."
      ]
    },
    {
      "cell_type": "code",
      "execution_count": null,
      "id": "a2ace19d-edd6-47cc-a955-7bfa6e91c8b9",
      "metadata": {
        "id": "a2ace19d-edd6-47cc-a955-7bfa6e91c8b9",
        "outputId": "09144712-eca7-49c6-e4cb-1f1da78d7932"
      },
      "outputs": [
        {
          "name": "stdout",
          "output_type": "stream",
          "text": [
            "1 + 2 is 3\n"
          ]
        }
      ],
      "source": [
        "def add(x, y):\n",
        "    return x + y\n",
        "\n",
        "print(1, \"+\", 2, \"is\", add(1, 2))"
      ]
    },
    {
      "cell_type": "code",
      "execution_count": null,
      "id": "daa0a88e-1c06-44d4-b9ef-f5291a9c441c",
      "metadata": {
        "id": "daa0a88e-1c06-44d4-b9ef-f5291a9c441c",
        "outputId": "9d8012c2-5494-4125-d6d1-683cac4526c6"
      },
      "outputs": [
        {
          "name": "stdout",
          "output_type": "stream",
          "text": [
            "1 + 2 is 3\n"
          ]
        }
      ],
      "source": [
        "def add(x, y):\n",
        "    return x + y\n",
        "    \n",
        "x = add(1, 2)\n",
        "print(1, \"+\", 2, \"is\", x)"
      ]
    },
    {
      "cell_type": "markdown",
      "id": "5890d9de-4ba1-445d-80f5-2571575d379a",
      "metadata": {
        "id": "5890d9de-4ba1-445d-80f5-2571575d379a"
      },
      "source": [
        "## None and pass\n",
        "\n",
        "Remember that an empty block can be defined using `pass`. If a function did not return anything, the value of `None` will then be returned."
      ]
    },
    {
      "cell_type": "code",
      "execution_count": null,
      "id": "7d8230de-d3c2-4469-a2b4-bc379179abfa",
      "metadata": {
        "id": "7d8230de-d3c2-4469-a2b4-bc379179abfa",
        "outputId": "6dcf4ecf-d3c6-4b1a-8168-215378326fa4"
      },
      "outputs": [
        {
          "name": "stdout",
          "output_type": "stream",
          "text": [
            "None\n"
          ]
        }
      ],
      "source": [
        "def func():\n",
        "    pass\n",
        "\n",
        "print(func())"
      ]
    },
    {
      "cell_type": "markdown",
      "id": "873e15c3-ee86-4638-abbd-39e15ce5fb19",
      "metadata": {
        "id": "873e15c3-ee86-4638-abbd-39e15ce5fb19"
      },
      "source": [
        "## Return value packing and unpacking\n",
        "\n",
        "Remember value packing and unpacking when we discuss tuple? Function return could do the same."
      ]
    },
    {
      "cell_type": "code",
      "execution_count": null,
      "id": "cbefd2c9-daf2-48e2-ba15-0ec531d4b9e2",
      "metadata": {
        "id": "cbefd2c9-daf2-48e2-ba15-0ec531d4b9e2",
        "outputId": "9875a2f7-5afe-49a9-f3a3-2d825776d64b"
      },
      "outputs": [
        {
          "name": "stdout",
          "output_type": "stream",
          "text": [
            "20 10\n"
          ]
        }
      ],
      "source": [
        "def swap(a, b):\n",
        "    return b, a\n",
        "\n",
        "a = 10\n",
        "b = 20\n",
        "a, b = swap(a, b)\n",
        "print(a, b)"
      ]
    },
    {
      "cell_type": "markdown",
      "id": "98805275-4d2f-4405-b427-6b579a9fb76b",
      "metadata": {
        "id": "98805275-4d2f-4405-b427-6b579a9fb76b"
      },
      "source": [
        "Here, `b, a` is **packed** into a tuple, and returned. The tuple will then be **unpacked** automatically if we specify a list of variables to receive the returned value(s)."
      ]
    },
    {
      "cell_type": "markdown",
      "id": "5a8e0a4b-d0ed-445f-bc39-33c0dec1f1eb",
      "metadata": {
        "id": "5a8e0a4b-d0ed-445f-bc39-33c0dec1f1eb"
      },
      "source": [
        "# Variable scope\n",
        "\n",
        "Scope of a variable affects the availability of the variable. \n",
        "\n",
        "Variable defined outside of a function has a **global** scope, which be accessed anywhere in the program."
      ]
    },
    {
      "cell_type": "code",
      "execution_count": null,
      "id": "9197cbf1-fcc3-4eb2-aab0-fc91f2a41c52",
      "metadata": {
        "id": "9197cbf1-fcc3-4eb2-aab0-fc91f2a41c52",
        "outputId": "6b502e9b-8384-46aa-9276-b3aed0abc5b8"
      },
      "outputs": [
        {
          "name": "stdout",
          "output_type": "stream",
          "text": [
            "1\n"
          ]
        }
      ],
      "source": [
        "x = 1\n",
        "def func():\n",
        "    print(x)\n",
        "    \n",
        "func()"
      ]
    },
    {
      "cell_type": "markdown",
      "id": "2fafeec4-bb0c-41cd-af12-38f324a455df",
      "metadata": {
        "id": "2fafeec4-bb0c-41cd-af12-38f324a455df"
      },
      "source": [
        "If we assigning a value to a variable in a function, a **local** variable is created. A **local** variable cannot be used outside a function."
      ]
    },
    {
      "cell_type": "code",
      "execution_count": null,
      "id": "7c2eb5e5-1600-4e17-bfe3-85e993a66aac",
      "metadata": {
        "id": "7c2eb5e5-1600-4e17-bfe3-85e993a66aac",
        "outputId": "6cdd017e-69ae-4164-eb6a-02b706ee0823"
      },
      "outputs": [
        {
          "name": "stdout",
          "output_type": "stream",
          "text": [
            "1\n"
          ]
        },
        {
          "ename": "NameError",
          "evalue": "name 'xxx' is not defined",
          "output_type": "error",
          "traceback": [
            "\u001b[1;31m---------------------------------------------------------------------------\u001b[0m",
            "\u001b[1;31mNameError\u001b[0m                                 Traceback (most recent call last)",
            "\u001b[1;32mc:\\Users\\kevin\\OneDrive\\Documents\\CS\\Python\\WorkshopLivingVersion\\03a.Functions.ipynb Cell 14\u001b[0m in \u001b[0;36m<cell line: 6>\u001b[1;34m()\u001b[0m\n\u001b[0;32m      <a href='vscode-notebook-cell:/c%3A/Users/kevin/OneDrive/Documents/CS/Python/WorkshopLivingVersion/03a.Functions.ipynb#X16sZmlsZQ%3D%3D?line=2'>3</a>\u001b[0m     \u001b[39mprint\u001b[39m(xxx)\n\u001b[0;32m      <a href='vscode-notebook-cell:/c%3A/Users/kevin/OneDrive/Documents/CS/Python/WorkshopLivingVersion/03a.Functions.ipynb#X16sZmlsZQ%3D%3D?line=4'>5</a>\u001b[0m func()\n\u001b[1;32m----> <a href='vscode-notebook-cell:/c%3A/Users/kevin/OneDrive/Documents/CS/Python/WorkshopLivingVersion/03a.Functions.ipynb#X16sZmlsZQ%3D%3D?line=5'>6</a>\u001b[0m \u001b[39mprint\u001b[39m(xxx)\n",
            "\u001b[1;31mNameError\u001b[0m: name 'xxx' is not defined"
          ]
        }
      ],
      "source": [
        "def func():\n",
        "    xxx = 1\n",
        "    print(xxx)\n",
        "\n",
        "func()\n",
        "print(xxx) # Error!"
      ]
    },
    {
      "cell_type": "markdown",
      "id": "27e6ce21-38dd-4f25-a557-475b0156fde2",
      "metadata": {
        "id": "27e6ce21-38dd-4f25-a557-475b0156fde2"
      },
      "source": [
        "A variable can either be global or local in a function but not both. The following code will cause an error:"
      ]
    },
    {
      "cell_type": "code",
      "execution_count": null,
      "id": "4df2521a-f1bd-47a0-b41f-b060558c7a9e",
      "metadata": {
        "id": "4df2521a-f1bd-47a0-b41f-b060558c7a9e",
        "outputId": "6ad81d7d-8f9a-4d20-b5a6-8ad0d99dbf34"
      },
      "outputs": [
        {
          "ename": "UnboundLocalError",
          "evalue": "local variable 'x' referenced before assignment",
          "output_type": "error",
          "traceback": [
            "\u001b[1;31m---------------------------------------------------------------------------\u001b[0m",
            "\u001b[1;31mUnboundLocalError\u001b[0m                         Traceback (most recent call last)",
            "\u001b[1;32m~\\AppData\\Local\\Temp/ipykernel_20052/4286696267.py\u001b[0m in \u001b[0;36m<module>\u001b[1;34m\u001b[0m\n\u001b[0;32m      5\u001b[0m     \u001b[0mprint\u001b[0m\u001b[1;33m(\u001b[0m\u001b[0mx\u001b[0m\u001b[1;33m)\u001b[0m\u001b[1;33m\u001b[0m\u001b[1;33m\u001b[0m\u001b[0m\n\u001b[0;32m      6\u001b[0m \u001b[1;33m\u001b[0m\u001b[0m\n\u001b[1;32m----> 7\u001b[1;33m \u001b[0mfunc\u001b[0m\u001b[1;33m(\u001b[0m\u001b[1;33m)\u001b[0m \u001b[1;31m# Error!\u001b[0m\u001b[1;33m\u001b[0m\u001b[1;33m\u001b[0m\u001b[0m\n\u001b[0m",
            "\u001b[1;32m~\\AppData\\Local\\Temp/ipykernel_20052/4286696267.py\u001b[0m in \u001b[0;36mfunc\u001b[1;34m()\u001b[0m\n\u001b[0;32m      1\u001b[0m \u001b[0mx\u001b[0m \u001b[1;33m=\u001b[0m \u001b[1;36m1\u001b[0m\u001b[1;33m\u001b[0m\u001b[1;33m\u001b[0m\u001b[0m\n\u001b[0;32m      2\u001b[0m \u001b[1;32mdef\u001b[0m \u001b[0mfunc\u001b[0m\u001b[1;33m(\u001b[0m\u001b[1;33m)\u001b[0m\u001b[1;33m:\u001b[0m\u001b[1;33m\u001b[0m\u001b[1;33m\u001b[0m\u001b[0m\n\u001b[1;32m----> 3\u001b[1;33m     \u001b[0mprint\u001b[0m\u001b[1;33m(\u001b[0m\u001b[0mx\u001b[0m\u001b[1;33m)\u001b[0m\u001b[1;33m\u001b[0m\u001b[1;33m\u001b[0m\u001b[0m\n\u001b[0m\u001b[0;32m      4\u001b[0m     \u001b[0mx\u001b[0m \u001b[1;33m=\u001b[0m \u001b[1;36m2\u001b[0m\u001b[1;33m\u001b[0m\u001b[1;33m\u001b[0m\u001b[0m\n\u001b[0;32m      5\u001b[0m     \u001b[0mprint\u001b[0m\u001b[1;33m(\u001b[0m\u001b[0mx\u001b[0m\u001b[1;33m)\u001b[0m\u001b[1;33m\u001b[0m\u001b[1;33m\u001b[0m\u001b[0m\n",
            "\u001b[1;31mUnboundLocalError\u001b[0m: local variable 'x' referenced before assignment"
          ]
        }
      ],
      "source": [
        "x = 1\n",
        "def func():\n",
        "    print(x)\n",
        "    x = 2\n",
        "    print(x)\n",
        "\n",
        "func() # Error!"
      ]
    },
    {
      "cell_type": "markdown",
      "id": "d10a1528-5093-4c8f-891f-54fe81708a18",
      "metadata": {
        "id": "d10a1528-5093-4c8f-891f-54fe81708a18"
      },
      "source": [
        "As `x` is being assigned in the function, `x` must be a local variable. The first print will fail because local variable `x` is not assigned yet.\n",
        "\n",
        "In terms of good program design, functions are not supposed to update global variables (Remember that function should be self-contained if possible). If we really need to update a global variable in a function, we must declare the variable **global** in the function using the `global` keyword:"
      ]
    },
    {
      "cell_type": "code",
      "execution_count": null,
      "id": "883ec022-4792-4204-a82a-9c5ee6a3cb23",
      "metadata": {
        "id": "883ec022-4792-4204-a82a-9c5ee6a3cb23",
        "outputId": "383f88b3-80b8-479d-cf90-ba69832e4c50"
      },
      "outputs": [
        {
          "name": "stdout",
          "output_type": "stream",
          "text": [
            "1\n",
            "2\n"
          ]
        }
      ],
      "source": [
        "x = 1\n",
        "def func():\n",
        "    global x\n",
        "    print(x)\n",
        "    x = 2\n",
        "    print(x)\n",
        "\n",
        "func()"
      ]
    },
    {
      "cell_type": "markdown",
      "id": "e2f73bc2-861b-4e4b-b129-5b181cf1db29",
      "metadata": {
        "id": "e2f73bc2-861b-4e4b-b129-5b181cf1db29"
      },
      "source": [
        "Try to avoid using global variables at all cost.  There are a few exceptions (e.g., constants, etc.), but in most cases there are better choices."
      ]
    },
    {
      "cell_type": "markdown",
      "id": "0f967457-1059-4624-9158-fb08c9efde3f",
      "metadata": {
        "id": "0f967457-1059-4624-9158-fb08c9efde3f"
      },
      "source": [
        "# Function parameters"
      ]
    },
    {
      "cell_type": "markdown",
      "id": "1b8d65fe-f3ab-41e0-a8cd-b2a84a9cd88a",
      "metadata": {
        "id": "1b8d65fe-f3ab-41e0-a8cd-b2a84a9cd88a"
      },
      "source": [
        "## Parameters and arguments\n",
        "\n",
        "Recall one of our previous examples: \n",
        "\n",
        "```python\n",
        "def hello(name):\n",
        "    print('Hello', name)\n",
        "\n",
        "hello('David')\n",
        "```\n",
        "\n",
        "- Our `hello()` function is defined with 1 parameter, we need to specify one value as argument when we call the function.\n",
        "- The term **parameter** refers to the variable name(s) defined in the function, the term **argument** refers to the value passed into a function when we use it."
      ]
    },
    {
      "cell_type": "markdown",
      "id": "1dc59647-9a4b-49e5-b012-136f1ed57afc",
      "metadata": {
        "id": "1dc59647-9a4b-49e5-b012-136f1ed57afc"
      },
      "source": [
        "## Function arguments\n",
        "\n",
        "We can define any number of parameters for a function.\n",
        "\n",
        "```python\n",
        "def hello0():\n",
        "    print('Hello world')\n",
        "\n",
        "def hello1(name):\n",
        "    print('Hello', name)\n",
        "\n",
        "def hello2(name, message):\n",
        "    print('Hello', name)\n",
        "    print(message)\n",
        "```"
      ]
    },
    {
      "cell_type": "markdown",
      "id": "803932d9-da75-4c62-893b-5ede22192fdb",
      "metadata": {
        "id": "803932d9-da75-4c62-893b-5ede22192fdb"
      },
      "source": [
        "## Specifying parameters\n",
        "\n",
        "When there are multiple parameters, the values are specified in order:"
      ]
    },
    {
      "cell_type": "code",
      "execution_count": null,
      "id": "2cce9b0a-1e7d-4903-baec-3595f2b38ee7",
      "metadata": {
        "id": "2cce9b0a-1e7d-4903-baec-3595f2b38ee7",
        "outputId": "62617676-4d67-4958-dd07-6c3d90d49b3a"
      },
      "outputs": [
        {
          "name": "stdout",
          "output_type": "stream",
          "text": [
            "Hello David\n",
            "How are you?\n"
          ]
        }
      ],
      "source": [
        "def hello2(name, message):\n",
        "    print('Hello', name)\n",
        "    print(message)\n",
        "\n",
        "hello2('David', 'How are you?')"
      ]
    },
    {
      "cell_type": "markdown",
      "id": "8876baa0-09bf-4d5d-bfa5-7e89bd6886f9",
      "metadata": {
        "id": "8876baa0-09bf-4d5d-bfa5-7e89bd6886f9"
      },
      "source": [
        "## Passing a list\n",
        "\n",
        "When a mutable object (e.g., list) is passed into a function, the effect is the same as if assignment operator `=` is used. The code:"
      ]
    },
    {
      "cell_type": "code",
      "execution_count": null,
      "id": "08e34d8f-fb89-45c5-a678-a9725951974f",
      "metadata": {
        "id": "08e34d8f-fb89-45c5-a678-a9725951974f",
        "outputId": "7588e013-e9d3-4fb1-82b9-4b57236bf5d1"
      },
      "outputs": [
        {
          "name": "stdout",
          "output_type": "stream",
          "text": [
            "[4, 2, 3]\n"
          ]
        }
      ],
      "source": [
        "def f(myList2):\n",
        "  myList2[0] = 4\n",
        "\n",
        "myList = [1, 2, 3]\n",
        "f(myList)\n",
        "print(myList)"
      ]
    },
    {
      "cell_type": "markdown",
      "id": "cff6fb3e-3e9e-4ad2-b122-e2d30ee6c7c1",
      "metadata": {
        "id": "cff6fb3e-3e9e-4ad2-b122-e2d30ee6c7c1"
      },
      "source": [
        "will have the same result as:"
      ]
    },
    {
      "cell_type": "code",
      "execution_count": null,
      "id": "4c4c149e-8b2a-47f9-9fdf-2ac1c6e4d651",
      "metadata": {
        "id": "4c4c149e-8b2a-47f9-9fdf-2ac1c6e4d651",
        "outputId": "9f7d2dc4-b950-4cbb-fd73-b00737952c1b"
      },
      "outputs": [
        {
          "name": "stdout",
          "output_type": "stream",
          "text": [
            "[4, 2, 3]\n"
          ]
        }
      ],
      "source": [
        "myList = [1, 2, 3]\n",
        "myList2 = myList\n",
        "myList2[0] = 4\n",
        "print(myList)"
      ]
    },
    {
      "cell_type": "markdown",
      "id": "a58f3371-5b04-4bf9-86f5-70ccd417858f",
      "metadata": {
        "id": "a58f3371-5b04-4bf9-86f5-70ccd417858f"
      },
      "source": [
        "# Quiz"
      ]
    },
    {
      "cell_type": "markdown",
      "id": "27fbaa5d-886b-4acd-899c-1e68813e9b9e",
      "metadata": {
        "id": "27fbaa5d-886b-4acd-899c-1e68813e9b9e"
      },
      "source": [
        "## Quiz 3a\n",
        "\n",
        "Consider the program below.\n",
        "\n",
        "```python\n",
        "def alpha(x, y=1):\n",
        "  print(x + y, end=\"\")\n",
        "```\n",
        "\n",
        "1. What is the output if `print(alpha(100))` is executed right after the above \n",
        "   program?\n",
        "   \n",
        "2. If `print(alpha(100))` is the intended usage of the function `alpha`, what should the body of the function be? Remove all **unnecessary** spaces in your answer."
      ]
    },
    {
      "cell_type": "markdown",
      "id": "64c4de1b-4ae4-4243-b18a-3ac2a80042ec",
      "metadata": {
        "id": "64c4de1b-4ae4-4243-b18a-3ac2a80042ec"
      },
      "source": [
        "# Exercises"
      ]
    },
    {
      "cell_type": "markdown",
      "id": "b087cabe-5d3e-41b9-b764-201ebee1bd26",
      "metadata": {
        "id": "b087cabe-5d3e-41b9-b764-201ebee1bd26"
      },
      "source": [
        "## Exercise 3-1\n",
        "\n",
        "Implement function `comb(n, r)` that calculates **combination** \\\\( n \\choose r \\\\), or \\\\(nCr\\\\), \n",
        "using the recursive formular \\\\( {n \\choose r} = {n-1 \\choose r} + {n-1 \\choose r-1} \\\\).\n",
        "\n",
        "Your program should read the two values, `n` and `r`, as integers and outputs the result.\n",
        "\n",
        "Sample input/output\n",
        "\n",
        "| Input    | Output |\n",
        "| ----     | ---    |\n",
        "| 5<br>2   | 10     |\n",
        "| 7<br>3   | 35     |\n",
        "| 13<br>7  | 1716   |"
      ]
    },
    {
      "cell_type": "markdown",
      "id": "44d65b98-e21c-4b15-a79c-11673df20e83",
      "metadata": {
        "id": "44d65b98-e21c-4b15-a79c-11673df20e83"
      },
      "source": [
        "## Exercise 3-2 (VPL available)\n",
        "\n",
        "Given the following code as the main program, complete two functions `readList()` and `findNo()` as explained in the next page.\n",
        "\n",
        "```python\n",
        "myList = readList()\n",
        "number = int(input())\n",
        "print(findNo(myList, number))\n",
        "```\n",
        "\n",
        "- `readList()`: Read numbers from user until zero is received. Return the list of numbers.\n",
        "- `findNo(myList, number)`: return `True` if the number in the list; else `False`."
      ]
    },
    {
      "cell_type": "markdown",
      "id": "e26bd2e0-039a-46ae-bb8e-b5c5302c8338",
      "metadata": {
        "id": "e26bd2e0-039a-46ae-bb8e-b5c5302c8338"
      },
      "source": [
        "## Exercise 3-3 (Optional)\n",
        "\n",
        "Note: This exercise requires the use of **default arguments**, which is explained in the optional section **Advanced function parameters**, available after this exercise.\n",
        "\n",
        "Implement your own `range()` function, name it `myRange()` which generate a list based on the input arguments.\n",
        "- It must support one, two, or three arguments. Assuming that all arguments are non-negative.\n",
        "- If you want to challenge yourselves, try to support negative values also.\n",
        "\n",
        "You can compare your function with the output of `range()` function, to print the list of values generated by `range()`, convert it to a list first. For example:\n",
        "\n",
        "```python\n",
        "print(myRange(10))\n",
        "print(list(range(10)))\n",
        "\n",
        "print(myRange(2, 10))\n",
        "print(list(range(2, 10)))\n",
        "\n",
        "print(myRange(2, 10, 3))\n",
        "print(list(range(2, 10, 3)))\n",
        "```"
      ]
    },
    {
      "cell_type": "markdown",
      "id": "02513d2a-92af-496c-8829-4f5ac97f9e97",
      "metadata": {
        "id": "02513d2a-92af-496c-8829-4f5ac97f9e97"
      },
      "source": [
        "# Optional: Advanced function parameters"
      ]
    },
    {
      "cell_type": "markdown",
      "id": "16d41a78-3729-4a9b-8a09-4b4d4d43f490",
      "metadata": {
        "id": "16d41a78-3729-4a9b-8a09-4b4d4d43f490"
      },
      "source": [
        "## Default values\n",
        "\n",
        "We can set a **default** for some of the parameters. In this way, the default values will be used if the values are not specified when the function is called."
      ]
    },
    {
      "cell_type": "code",
      "execution_count": null,
      "id": "42841354-f5a5-4d60-b053-9a5cb18ece05",
      "metadata": {
        "id": "42841354-f5a5-4d60-b053-9a5cb18ece05",
        "outputId": "88deea57-f763-4fbb-d42c-631428f2b805"
      },
      "outputs": [
        {
          "name": "stdout",
          "output_type": "stream",
          "text": [
            "hello David\n",
            "How are you\n"
          ]
        }
      ],
      "source": [
        "def hello(hello='hello', name='David', message='How are you'):\n",
        "    print( hello, name )\n",
        "    print( message )\n",
        "  \n",
        "hello()"
      ]
    },
    {
      "cell_type": "code",
      "execution_count": null,
      "id": "87ee8940-1177-410d-9589-852f87bd7b4b",
      "metadata": {
        "id": "87ee8940-1177-410d-9589-852f87bd7b4b",
        "outputId": "1f7d055c-0114-47f2-f9c4-c30c756b4432"
      },
      "outputs": [
        {
          "name": "stdout",
          "output_type": "stream",
          "text": [
            "Hi David\n",
            "How are you\n"
          ]
        }
      ],
      "source": [
        "hello('Hi')"
      ]
    },
    {
      "cell_type": "code",
      "execution_count": null,
      "id": "a4cd0d10-380a-44ec-9cdb-fa7c2fba1fe3",
      "metadata": {
        "id": "a4cd0d10-380a-44ec-9cdb-fa7c2fba1fe3",
        "outputId": "3e0765f5-667f-4aec-b31b-06baaf8d6ab2"
      },
      "outputs": [
        {
          "name": "stdout",
          "output_type": "stream",
          "text": [
            "Hi Jason\n",
            "How are you\n"
          ]
        }
      ],
      "source": [
        "hello('Hi', 'Jason')"
      ]
    },
    {
      "cell_type": "code",
      "execution_count": null,
      "id": "7330872c-2392-4b3d-ad4e-6f38250854a1",
      "metadata": {
        "id": "7330872c-2392-4b3d-ad4e-6f38250854a1",
        "outputId": "1d8d751c-335b-4553-b799-86d2b4cbc342"
      },
      "outputs": [
        {
          "name": "stdout",
          "output_type": "stream",
          "text": [
            "Hi Jason\n",
            "Welcome\n"
          ]
        }
      ],
      "source": [
        "hello('Hi', 'Jason', 'Welcome')"
      ]
    },
    {
      "cell_type": "markdown",
      "id": "07858168-4074-4622-8522-1f1ca6879556",
      "metadata": {
        "id": "07858168-4074-4622-8522-1f1ca6879556"
      },
      "source": [
        "Note that parameters with default values must be at the **end** of the argument list.\n",
        "\n",
        "```python\n",
        "def hello(hello, name='David', message='How are you'):\n",
        "    print(hello, name)\n",
        "    print(message)\n",
        "```\n",
        "\n",
        "So this is incorrect:\n",
        "\n",
        "```python\n",
        "def hello(hello, name='David', message):\n",
        "    print(hello, name)\n",
        "    print(message)\n",
        "```"
      ]
    },
    {
      "cell_type": "markdown",
      "id": "ffb7782d-14a5-468d-98dd-11144e3e4632",
      "metadata": {
        "id": "ffb7782d-14a5-468d-98dd-11144e3e4632"
      },
      "source": [
        "## Keyword arguments\n",
        "\n",
        "We can choose to specify a value by **keyword**. All three function calls below produce the same result."
      ]
    },
    {
      "cell_type": "code",
      "execution_count": null,
      "id": "cbca674c-7f84-4eb3-9722-17717a23aa2e",
      "metadata": {
        "id": "cbca674c-7f84-4eb3-9722-17717a23aa2e",
        "outputId": "62f3460f-f35d-457f-fbc7-8491eaaa25b5"
      },
      "outputs": [
        {
          "name": "stdout",
          "output_type": "stream",
          "text": [
            "Hello David\n",
            "How are you?\n",
            "Hello David\n",
            "How are you?\n",
            "Hello David\n",
            "How are you?\n"
          ]
        }
      ],
      "source": [
        "def hello(name='David', message='How are you'):\n",
        "    print('Hello', name)\n",
        "    print(message)\n",
        "\n",
        "hello('David', 'How are you?')\n",
        "hello('David', message = 'How are you?')\n",
        "hello(name = 'David', message = 'How are you?')"
      ]
    },
    {
      "cell_type": "markdown",
      "id": "c80a142b-e768-4bf1-9a2a-80772763b288",
      "metadata": {
        "id": "c80a142b-e768-4bf1-9a2a-80772763b288"
      },
      "source": [
        "Once a keyword argument is specified, all remaining values must be specified as keyword arguments.\n",
        "\n",
        "So this is invalid:"
      ]
    },
    {
      "cell_type": "code",
      "execution_count": null,
      "id": "7f8649f2-bd59-4850-8240-1457c39814fe",
      "metadata": {
        "id": "7f8649f2-bd59-4850-8240-1457c39814fe",
        "outputId": "98a94a2b-1737-4ba5-c2f0-bd16de2e6566"
      },
      "outputs": [
        {
          "ename": "SyntaxError",
          "evalue": "positional argument follows keyword argument (Temp/ipykernel_20052/2250611385.py, line 5)",
          "output_type": "error",
          "traceback": [
            "\u001b[1;36m  File \u001b[1;32m\"C:\\Users\\kevin\\AppData\\Local\\Temp/ipykernel_20052/2250611385.py\"\u001b[1;36m, line \u001b[1;32m5\u001b[0m\n\u001b[1;33m    hello(name = 'David', 'How are you?')\u001b[0m\n\u001b[1;37m                                        ^\u001b[0m\n\u001b[1;31mSyntaxError\u001b[0m\u001b[1;31m:\u001b[0m positional argument follows keyword argument\n"
          ]
        }
      ],
      "source": [
        "def hello(name='David', message='How are you'):\n",
        "    print('Hello', name)\n",
        "    print(message)\n",
        "\n",
        "hello(name = 'David', 'How are you?')"
      ]
    },
    {
      "cell_type": "markdown",
      "id": "343bad07-ce44-4540-96d2-28f83bc3e5bc",
      "metadata": {
        "id": "343bad07-ce44-4540-96d2-28f83bc3e5bc"
      },
      "source": [
        "## Keyword and Defaults\n",
        "\n",
        "It is also possible to specify some arguments by keywords and leave the other using defaults."
      ]
    },
    {
      "cell_type": "code",
      "execution_count": null,
      "id": "978837cf-1cba-4d23-86be-21bd2dc15c39",
      "metadata": {
        "id": "978837cf-1cba-4d23-86be-21bd2dc15c39",
        "outputId": "e8b20a56-fc2a-4a1d-fc1a-cd724e649ad2"
      },
      "outputs": [
        {
          "name": "stdout",
          "output_type": "stream",
          "text": [
            "hello Jason\n",
            "How are you\n",
            "Hi David\n",
            "Welcome\n"
          ]
        }
      ],
      "source": [
        "def hello(hello='hello', name='David', message='How are you'):\n",
        "    print(hello, name)\n",
        "    print(message)\n",
        "\n",
        "hello(name = 'Jason')\n",
        "hello('Hi', message = 'Welcome')"
      ]
    },
    {
      "cell_type": "markdown",
      "id": "4e7a6f22-9e58-4f12-b97f-58fef51bd974",
      "metadata": {
        "id": "4e7a6f22-9e58-4f12-b97f-58fef51bd974"
      },
      "source": [
        "# Optional: Argument packing and unpacking"
      ]
    },
    {
      "cell_type": "markdown",
      "id": "74845b83-173d-4791-b9cf-cbaeaf5e9fd2",
      "metadata": {
        "id": "74845b83-173d-4791-b9cf-cbaeaf5e9fd2"
      },
      "source": [
        "## Argument unpacking\n",
        "\n",
        "We can unpack a list of values into arguments using `*` operator."
      ]
    },
    {
      "cell_type": "code",
      "execution_count": null,
      "id": "54939578-b6d6-4712-befa-e96ceed1f97f",
      "metadata": {
        "id": "54939578-b6d6-4712-befa-e96ceed1f97f",
        "outputId": "5334e3a7-cbf2-4b28-ab22-9718e29a3904"
      },
      "outputs": [
        {
          "name": "stdout",
          "output_type": "stream",
          "text": [
            "Hi Jason\n",
            "Welcome!\n"
          ]
        }
      ],
      "source": [
        "def hello(hello='hello', name='David', message='How are you'):\n",
        "    print(hello, name)\n",
        "    print(message)\n",
        "    \n",
        "hello(*['Hi', 'Jason', 'Welcome!'])"
      ]
    },
    {
      "cell_type": "markdown",
      "id": "1856aed1-a5dc-4325-bcd2-ed6782ca425b",
      "metadata": {
        "id": "1856aed1-a5dc-4325-bcd2-ed6782ca425b"
      },
      "source": [
        "## Argument unpacking usage\n",
        "\n",
        "It will be useful when we want to print a list:"
      ]
    },
    {
      "cell_type": "code",
      "execution_count": null,
      "id": "fe4650a1-2be3-4d4d-a69a-3c9ba37b1e14",
      "metadata": {
        "id": "fe4650a1-2be3-4d4d-a69a-3c9ba37b1e14",
        "outputId": "655a2e68-875b-4621-8d85-890751f7acd4"
      },
      "outputs": [
        {
          "name": "stdout",
          "output_type": "stream",
          "text": [
            "I like apple, banana, orange\n"
          ]
        }
      ],
      "source": [
        "myList = ['apple', 'banana', 'orange']\n",
        "print('I like', end=\" \")\n",
        "print(*myList, sep=\", \")"
      ]
    },
    {
      "cell_type": "markdown",
      "id": "75e8077e-4f16-43db-a258-1c6011c41ccc",
      "metadata": {
        "id": "75e8077e-4f16-43db-a258-1c6011c41ccc"
      },
      "source": [
        "## Keyword argument unpacking\n",
        "\n",
        "We can also use a dictionary for keyword arguments, in this case we use the `**` operator instead."
      ]
    },
    {
      "cell_type": "code",
      "execution_count": null,
      "id": "16cb1aa0-461a-4144-a4c1-540a4bbaca2c",
      "metadata": {
        "id": "16cb1aa0-461a-4144-a4c1-540a4bbaca2c",
        "outputId": "00b04243-19d5-4ce5-cd52-4f05292e0b0d"
      },
      "outputs": [
        {
          "name": "stdout",
          "output_type": "stream",
          "text": [
            "hello Jason\n",
            "Welcome\n"
          ]
        }
      ],
      "source": [
        "def hello(hello='hello', name='David', message='How are you'):\n",
        "    print(hello, name)\n",
        "    print(message)\n",
        "    \n",
        "hello(**{'name': 'Jason', 'message': 'Welcome'})"
      ]
    },
    {
      "cell_type": "markdown",
      "id": "a1c5049e-45df-4299-9046-2d0c5ebac6b8",
      "metadata": {
        "id": "a1c5049e-45df-4299-9046-2d0c5ebac6b8"
      },
      "source": [
        "## Variable keyword arguments\n",
        "\n",
        "We can define a parameter in the form of `**name` at the end of parameter list to consume any keyword arguments that is not handled in the list:"
      ]
    },
    {
      "cell_type": "code",
      "execution_count": null,
      "id": "bfd094a5-58d1-49a2-85ee-c75c009ed4a7",
      "metadata": {
        "id": "bfd094a5-58d1-49a2-85ee-c75c009ed4a7",
        "outputId": "46a2f28d-38c8-45f9-a354-5506d3902dea"
      },
      "outputs": [
        {
          "name": "stdout",
          "output_type": "stream",
          "text": [
            "Listing prices for My Store\n",
            "apple : 10\n",
            "banana : 15\n",
            "orange : 20\n"
          ]
        }
      ],
      "source": [
        "def listPrices(name='My Store', **prices):\n",
        "    print('Listing prices for', name)\n",
        "    for item in prices:\n",
        "        print(item, ':', prices[item])\n",
        "        \n",
        "listPrices(**{'apple': 10, 'banana': 15, 'orange': 20})"
      ]
    },
    {
      "cell_type": "markdown",
      "id": "5e79d46f-beef-4036-bef3-15dc3a5de80a",
      "metadata": {
        "id": "5e79d46f-beef-4036-bef3-15dc3a5de80a"
      },
      "source": [
        "In the case above, `prices` will be a dictionary of the keyword arguments."
      ]
    },
    {
      "cell_type": "markdown",
      "id": "b4f8dcf8-03e7-4e6a-8933-be618a76e1ed",
      "metadata": {
        "id": "b4f8dcf8-03e7-4e6a-8933-be618a76e1ed"
      },
      "source": [
        "## Variable arguments\n",
        "\n",
        "We can define a parameter in the form of `*name` to consume any number of non-keyword arguments:"
      ]
    },
    {
      "cell_type": "code",
      "execution_count": null,
      "id": "4125be86-7314-40e8-9a5e-c2112214ae3e",
      "metadata": {
        "id": "4125be86-7314-40e8-9a5e-c2112214ae3e",
        "outputId": "25f1c407-5e19-4268-8dba-ec1dd5a5e2a1"
      },
      "outputs": [
        {
          "name": "stdout",
          "output_type": "stream",
          "text": [
            "1 2 ()\n",
            "1 2 (3,)\n",
            "1 2 (3, 4)\n"
          ]
        }
      ],
      "source": [
        "def func(a, b, *c):\n",
        "    print(a, b, c)\n",
        "    \n",
        "func(1, 2)\n",
        "func(1, 2, 3)\n",
        "func(1, 2, 3, 4)"
      ]
    },
    {
      "cell_type": "markdown",
      "id": "2aa07d52-30b0-4461-a785-06d20c6196ab",
      "metadata": {
        "id": "2aa07d52-30b0-4461-a785-06d20c6196ab"
      },
      "source": [
        "There can only be one `*name` in the parameter list. All parameter after that must be specified by keyword.\n",
        "\n",
        "For example if the function is defined like the code below, then `c` must be specified by keyword:   "
      ]
    },
    {
      "cell_type": "code",
      "execution_count": null,
      "id": "7508aa62-0f76-40a6-8c56-95e7c99a11d5",
      "metadata": {
        "id": "7508aa62-0f76-40a6-8c56-95e7c99a11d5",
        "outputId": "194c22e9-a089-4580-8144-1970648d58ec"
      },
      "outputs": [
        {
          "name": "stdout",
          "output_type": "stream",
          "text": [
            "1 (2,) 3\n"
          ]
        }
      ],
      "source": [
        "def func(a, *b, c):\n",
        "    print(a, b, c)\n",
        "\n",
        "func(1, 2, c=3)"
      ]
    },
    {
      "cell_type": "markdown",
      "id": "0b983845-8361-4602-9aef-8e2210914e6a",
      "metadata": {
        "id": "0b983845-8361-4602-9aef-8e2210914e6a"
      },
      "source": [
        "`*name` and `**name` can be used together. In that case, `**name` must be placed at the end. "
      ]
    },
    {
      "cell_type": "code",
      "execution_count": null,
      "id": "a43df398-6bbd-408b-acb9-6e3c7aa65dbe",
      "metadata": {
        "id": "a43df398-6bbd-408b-acb9-6e3c7aa65dbe",
        "outputId": "4c514907-e7c7-495e-df1b-95b262369ab9"
      },
      "outputs": [
        {
          "name": "stdout",
          "output_type": "stream",
          "text": [
            "(1, 2) {}\n",
            "(1, 2) {'x': 1, 'y': 2}\n"
          ]
        }
      ],
      "source": [
        "def func(*b, **c):\n",
        "    print(b, c)\n",
        "    \n",
        "func(1, 2)\n",
        "func(1, 2, x=1, y=2)"
      ]
    },
    {
      "cell_type": "markdown",
      "id": "ec944d9b-987a-4e7b-be6b-9a983ba00dc9",
      "metadata": {
        "id": "ec944d9b-987a-4e7b-be6b-9a983ba00dc9"
      },
      "source": [
        "# Optional: First-class functions"
      ]
    },
    {
      "cell_type": "markdown",
      "id": "ca609dfe-a05d-4d95-98ff-41eafd5547ac",
      "metadata": {
        "id": "ca609dfe-a05d-4d95-98ff-41eafd5547ac"
      },
      "source": [
        "Python functions are **first-class functions**, all function is treated as a value, assigned the a variable named by the function name. This is a feature very commonly seen in modern programming languages.\n",
        "\n",
        "We can therefore assign a function to a variable:"
      ]
    },
    {
      "cell_type": "code",
      "execution_count": null,
      "id": "fb6d7fe7-a0e9-4a56-9420-d88e8a0a4851",
      "metadata": {
        "id": "fb6d7fe7-a0e9-4a56-9420-d88e8a0a4851",
        "outputId": "f5b45a6f-527a-4d6d-c757-2b9013f608fb"
      },
      "outputs": [
        {
          "name": "stdout",
          "output_type": "stream",
          "text": [
            "This is myFunc\n"
          ]
        }
      ],
      "source": [
        "def myFunc():\n",
        "    print('This is myFunc')\n",
        "\n",
        "myFunc2 = myFunc\n",
        "myFunc2()"
      ]
    },
    {
      "cell_type": "markdown",
      "id": "2cfd7be6-a891-45b8-8d27-e7065fad73de",
      "metadata": {
        "id": "2cfd7be6-a891-45b8-8d27-e7065fad73de"
      },
      "source": [
        "## Namespace\n",
        "\n",
        "Function name and variable name uses the same name space. If we define a variable of the same name as a function, we cannot use the function anymore.\n",
        "\n",
        "For example, this will cause an error when executed:"
      ]
    },
    {
      "cell_type": "code",
      "execution_count": null,
      "id": "f7139b7d-607b-48d2-9040-59c4d4757083",
      "metadata": {
        "id": "f7139b7d-607b-48d2-9040-59c4d4757083",
        "outputId": "4fb1faa1-487f-46d9-be82-bfa3784a88dd"
      },
      "outputs": [
        {
          "ename": "TypeError",
          "evalue": "'int' object is not callable",
          "output_type": "error",
          "traceback": [
            "\u001b[1;31m---------------------------------------------------------------------------\u001b[0m",
            "\u001b[1;31mTypeError\u001b[0m                                 Traceback (most recent call last)",
            "\u001b[1;32m~\\AppData\\Local\\Temp/ipykernel_20052/2943328746.py\u001b[0m in \u001b[0;36m<module>\u001b[1;34m\u001b[0m\n\u001b[0;32m      3\u001b[0m \u001b[1;33m\u001b[0m\u001b[0m\n\u001b[0;32m      4\u001b[0m \u001b[0mfunc\u001b[0m \u001b[1;33m=\u001b[0m \u001b[1;36m0\u001b[0m\u001b[1;33m\u001b[0m\u001b[1;33m\u001b[0m\u001b[0m\n\u001b[1;32m----> 5\u001b[1;33m \u001b[0mfunc\u001b[0m\u001b[1;33m(\u001b[0m\u001b[1;33m)\u001b[0m\u001b[1;33m\u001b[0m\u001b[1;33m\u001b[0m\u001b[0m\n\u001b[0m",
            "\u001b[1;31mTypeError\u001b[0m: 'int' object is not callable"
          ]
        }
      ],
      "source": [
        "def func():\n",
        "    pass\n",
        "    \n",
        "func = 0\n",
        "func()"
      ]
    },
    {
      "cell_type": "markdown",
      "id": "71954853-a1b0-4a8f-9672-8fabfa77763c",
      "metadata": {
        "id": "71954853-a1b0-4a8f-9672-8fabfa77763c"
      },
      "source": [
        "## Function as arguments\n",
        "\n",
        "Since function can be used as a variable, we can pass a function as an argument. The above below will calculate and print the sum of \\\\(1^2\\\\) to \\\\(9^2\\\\), which equals \\\\(285\\\\)."
      ]
    },
    {
      "cell_type": "code",
      "execution_count": null,
      "id": "1eac0d07-0700-42a5-bf87-2c420f7e9014",
      "metadata": {
        "id": "1eac0d07-0700-42a5-bf87-2c420f7e9014",
        "outputId": "71e941c0-7b0d-4aee-d05e-83b1584a5876"
      },
      "outputs": [
        {
          "name": "stdout",
          "output_type": "stream",
          "text": [
            "285\n"
          ]
        }
      ],
      "source": [
        "def square(val):\n",
        "    return val**2\n",
        "\n",
        "def sumof(values, func):\n",
        "    sum = 0\n",
        "    for val in values:\n",
        "        sum += func(val)\n",
        "    return sum\n",
        "\n",
        "print(sumof(range(1, 10), square))"
      ]
    },
    {
      "cell_type": "markdown",
      "id": "bf6f23a1-0719-4bf5-be0d-af8af97fa73b",
      "metadata": {
        "id": "bf6f23a1-0719-4bf5-be0d-af8af97fa73b"
      },
      "source": [
        "## Local function\n",
        "\n",
        "Similar to scope of variables, function can also be defined locally."
      ]
    },
    {
      "cell_type": "code",
      "execution_count": null,
      "id": "173d0718-1cd0-4ddb-b016-8cd51ee2b81e",
      "metadata": {
        "id": "173d0718-1cd0-4ddb-b016-8cd51ee2b81e",
        "outputId": "9786c4e5-7c82-4b6c-f08f-84deb2809990"
      },
      "outputs": [
        {
          "name": "stdout",
          "output_type": "stream",
          "text": [
            "100\n"
          ]
        }
      ],
      "source": [
        "def func():\n",
        "    def innerFunc(a):\n",
        "        return a**2\n",
        "\n",
        "    return innerFunc(10)\n",
        "\n",
        "print(func())"
      ]
    },
    {
      "cell_type": "markdown",
      "id": "c60c6bc5-3d65-469f-ad54-f47c3b885989",
      "metadata": {
        "id": "c60c6bc5-3d65-469f-ad54-f47c3b885989"
      },
      "source": [
        "## Function as returned value\n",
        "\n",
        "We can also return a function using its name or return the variable name holding the function."
      ]
    },
    {
      "cell_type": "code",
      "execution_count": null,
      "id": "1326387c-6ac8-4061-a2b8-a65da1092325",
      "metadata": {
        "id": "1326387c-6ac8-4061-a2b8-a65da1092325",
        "outputId": "cf63bb13-e2c0-44a7-b89e-5c908aa2c325"
      },
      "outputs": [
        {
          "name": "stdout",
          "output_type": "stream",
          "text": [
            "1000000\n",
            "1000\n"
          ]
        }
      ],
      "source": [
        "def func(choice):\n",
        "    def innerFunc1(a):\n",
        "        return a**2\n",
        "    def innerFunc2(a):\n",
        "        return a**3\n",
        "    if choice == 'square':\n",
        "        return innerFunc1\n",
        "    elif choice == 'cube':\n",
        "        return innerFunc2\n",
        "\n",
        "print(func('square')(1000))\n",
        "print(func('cube')(10))"
      ]
    },
    {
      "cell_type": "markdown",
      "id": "da29c7be-4680-4d33-ae9a-2a1b448d07c4",
      "metadata": {
        "id": "da29c7be-4680-4d33-ae9a-2a1b448d07c4"
      },
      "source": [
        "# Optional: Lambda functions"
      ]
    },
    {
      "cell_type": "markdown",
      "id": "04c44ade-d1e8-45e7-954a-bc1bc8906d9b",
      "metadata": {
        "id": "04c44ade-d1e8-45e7-954a-bc1bc8906d9b"
      },
      "source": [
        "We can use the `lambda` keyword to define a simple anonymous function.\n",
        "\n",
        "For example, a function that calculate the square of a variable is: `lambda x : x **2`.\n",
        "\n",
        "- Following `lambda` is the argument list;\n",
        "- After the colon `:` is the expression that gives the return value.\n",
        "- Lambda function is limited to one single statement only due to its syntax.\n",
        "\n",
        "One of the previous example can be modified to the code below."
      ]
    },
    {
      "cell_type": "code",
      "execution_count": null,
      "id": "eba5c934-7632-436f-b437-d2a4a0ef93ba",
      "metadata": {
        "id": "eba5c934-7632-436f-b437-d2a4a0ef93ba",
        "outputId": "a8799902-f8cf-47c5-eaaf-8f7802ca1620"
      },
      "outputs": [
        {
          "name": "stdout",
          "output_type": "stream",
          "text": [
            "285\n"
          ]
        }
      ],
      "source": [
        "def sumof(values, func):\n",
        "    sum = 0\n",
        "    for val in values:\n",
        "        sum += func(val)\n",
        "    return sum\n",
        "\n",
        "print(sumof(range(1, 10), lambda val : val ** 2))"
      ]
    },
    {
      "cell_type": "markdown",
      "id": "52476d1d-cefb-43b0-ab8d-aa777d1dd960",
      "metadata": {
        "id": "52476d1d-cefb-43b0-ab8d-aa777d1dd960"
      },
      "source": [
        "## Custom list sorting\n",
        "\n",
        "Function argument is useful for function that allow customizable behaviours. For example, the `sort()` function of lists support one function argument to specify how values are interpreted when sorting the list. The code below sort a list in reverse order."
      ]
    },
    {
      "cell_type": "code",
      "execution_count": null,
      "id": "a561c30a-c09e-4d71-9749-7064e2c202cd",
      "metadata": {
        "id": "a561c30a-c09e-4d71-9749-7064e2c202cd",
        "outputId": "2487f59c-73af-46fc-969c-1ec7e58ab0c1"
      },
      "outputs": [
        {
          "name": "stdout",
          "output_type": "stream",
          "text": [
            "[1, 2, 4, 5, 6, 7]\n",
            "[7, 6, 5, 4, 2, 1]\n"
          ]
        }
      ],
      "source": [
        "myList = [1, 4, 2, 5, 7, 6]\n",
        "myList.sort()\n",
        "print(myList)\n",
        "myList.sort(key = lambda x : -x)\n",
        "print(myList)"
      ]
    }
  ],
  "metadata": {
    "kernelspec": {
      "display_name": "Python 3.10.6 64-bit",
      "language": "python",
      "name": "python3"
    },
    "language_info": {
      "codemirror_mode": {
        "name": "ipython",
        "version": 3
      },
      "file_extension": ".py",
      "mimetype": "text/x-python",
      "name": "python",
      "nbconvert_exporter": "python",
      "pygments_lexer": "ipython3",
      "version": "3.10.6"
    },
    "vscode": {
      "interpreter": {
        "hash": "bd5508c2ffc7f17f7d31cf4086cc872f89e96996a08987e995649e5fbe85a3a4"
      }
    },
    "colab": {
      "name": "03a.Functions.ipynb",
      "provenance": [],
      "include_colab_link": true
    }
  },
  "nbformat": 4,
  "nbformat_minor": 5
}